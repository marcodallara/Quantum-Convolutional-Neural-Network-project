{
 "cells": [
  {
   "cell_type": "markdown",
   "id": "3d317af3",
   "metadata": {},
   "source": [
    "# EXTRACT MINST DATA"
   ]
  },
  {
   "cell_type": "code",
   "execution_count": 1,
   "id": "3530fac4",
   "metadata": {},
   "outputs": [
    {
     "name": "stderr",
     "output_type": "stream",
     "text": [
      "2023-07-11 16:41:30.264633: W tensorflow/stream_executor/platform/default/dso_loader.cc:64] Could not load dynamic library 'libcudart.so.11.0'; dlerror: libcudart.so.11.0: cannot open shared object file: No such file or directory\n",
      "2023-07-11 16:41:30.264652: I tensorflow/stream_executor/cuda/cudart_stub.cc:29] Ignore above cudart dlerror if you do not have a GPU set up on your machine.\n",
      "2023-07-11 16:41:34.035893: W tensorflow/stream_executor/platform/default/dso_loader.cc:64] Could not load dynamic library 'libcuda.so.1'; dlerror: libcuda.so.1: cannot open shared object file: No such file or directory\n",
      "2023-07-11 16:41:34.035911: W tensorflow/stream_executor/cuda/cuda_driver.cc:269] failed call to cuInit: UNKNOWN ERROR (303)\n",
      "2023-07-11 16:41:34.035927: I tensorflow/stream_executor/cuda/cuda_diagnostics.cc:156] kernel driver does not appear to be running on this host (joan-Huawei): /proc/driver/nvidia/version does not exist\n",
      "2023-07-11 16:41:34.036342: I tensorflow/core/platform/cpu_feature_guard.cc:151] This TensorFlow binary is optimized with oneAPI Deep Neural Network Library (oneDNN) to use the following CPU instructions in performance-critical operations:  AVX2 FMA\n",
      "To enable them in other operations, rebuild TensorFlow with the appropriate compiler flags.\n"
     ]
    }
   ],
   "source": [
    "import tensorflow as tf\n",
    "import tensorflow_quantum as tfq\n",
    "\n",
    "\n",
    "import cirq\n",
    "import sympy\n",
    "import numpy as np\n",
    "from numpy import linalg as LA\n",
    "import copy\n",
    "import itertools\n",
    "import collections\n",
    "import json\n",
    "\n",
    "\n",
    "# visualization tools\n",
    "%matplotlib inline\n",
    "import matplotlib.pyplot as plt\n",
    "from cirq.contrib.svg import SVGCircuit\n"
   ]
  },
  {
   "cell_type": "code",
   "execution_count": 2,
   "id": "0cc08a4f",
   "metadata": {
    "scrolled": true
   },
   "outputs": [
    {
     "name": "stdout",
     "output_type": "stream",
     "text": [
      "Number of original training examples: 60000\n",
      "Number of original test examples: 10000\n"
     ]
    }
   ],
   "source": [
    "# Load MNIST dataset from keras datasets\n",
    "(x_train, y_train), (x_test, y_test) = tf.keras.datasets.mnist.load_data() \n",
    "\n",
    "# The images are a grayscale from 0 (black) to 255 (white). We rescale the \n",
    "# images from [0,255] to the [0.0,1.0] range.\n",
    "x_train, x_test = x_train[..., np.newaxis]/255.0, x_test[..., np.newaxis]/255.0\n",
    "\n",
    "# np.newaxis adds another dimension, that indicates the number of channels. Because we are \n",
    "# on grayscale this will be one. (n_samples, 28, 28) -> (n_samples, 28, 28, 1)\n",
    "\n",
    "print(\"Number of original training examples:\", len(x_train))\n",
    "print(\"Number of original test examples:\", len(x_test))\n"
   ]
  },
  {
   "cell_type": "code",
   "execution_count": 3,
   "id": "9f7a7b2b",
   "metadata": {},
   "outputs": [
    {
     "name": "stdout",
     "output_type": "stream",
     "text": [
      "Number of filtered training examples: 12049\n",
      "Number of filtered test examples: 1968\n"
     ]
    }
   ],
   "source": [
    "def filter_36(x, y):\n",
    "    \"\"\"\n",
    "    Filters our dataset and returns only the ones that represent either a 3 or a 6. We will \n",
    "    perform binary classification instead of multiple classification.\n",
    "    \"\"\"\n",
    "    keep = (y == 3) | (y == 6)\n",
    "    x, y = x[keep], y[keep]\n",
    "    y = y == 3\n",
    "    return x,y\n",
    "\n",
    "x_train, y_train = filter_36(x_train, y_train)\n",
    "x_test, y_test = filter_36(x_test, y_test)\n",
    "\n",
    "print(\"Number of filtered training examples:\", len(x_train))\n",
    "print(\"Number of filtered test examples:\", len(x_test))\n"
   ]
  },
  {
   "cell_type": "code",
   "execution_count": 4,
   "id": "ba94f628",
   "metadata": {},
   "outputs": [
    {
     "data": {
      "text/plain": [
       "<matplotlib.colorbar.Colorbar at 0x7f17126607c0>"
      ]
     },
     "execution_count": 4,
     "metadata": {},
     "output_type": "execute_result"
    },
    {
     "data": {
      "image/png": "[encoded data removed]",
      "text/plain": [
       "<Figure size 640x480 with 2 Axes>"
      ]
     },
     "metadata": {},
     "output_type": "display_data"
    }
   ],
   "source": [
    "# shows one sample with the original size of 28 x 28. The grayscale is represented\n",
    "# with a \n",
    "\n",
    "plt.imshow(x_train[0, :, :, 0], cmap=\"gray\")\n",
    "plt.colorbar()"
   ]
  },
  {
   "cell_type": "code",
   "execution_count": 5,
   "id": "51166eb5",
   "metadata": {},
   "outputs": [
    {
     "name": "stderr",
     "output_type": "stream",
     "text": [
      "2023-07-11 16:41:47.080996: W tensorflow/core/framework/cpu_allocator_impl.cc:82] Allocation of 75571328 exceeds 10% of free system memory.\n"
     ]
    },
    {
     "data": {
      "text/plain": [
       "<matplotlib.colorbar.Colorbar at 0x7f1710183880>"
      ]
     },
     "execution_count": 5,
     "metadata": {},
     "output_type": "execute_result"
    },
    {
     "data": {
      "image/png": "[encoded data removed]",
      "text/plain": [
       "<Figure size 640x480 with 2 Axes>"
      ]
     },
     "metadata": {},
     "output_type": "display_data"
    }
   ],
   "source": [
    "# Resize the image to a 3 by 3. This is done because we need N qubits per pixel. This makes\n",
    "# the model to train very slowly (4 by 4 around 5 hours)\n",
    "\n",
    "x_train_small = tf.image.resize(x_train, (3,3)).numpy()\n",
    "x_test_small = tf.image.resize(x_test, (3,3)).numpy()\n",
    "\n",
    "plt.imshow(x_train_small[0,:,:,0], vmin=0, vmax=1, cmap=\"gray\")\n",
    "plt.colorbar()\n"
   ]
  },
  {
   "cell_type": "markdown",
   "id": "8092c75e",
   "metadata": {},
   "source": [
    "# QUANTUM MODELS"
   ]
  },
  {
   "cell_type": "markdown",
   "id": "c50e9539",
   "metadata": {},
   "source": [
    "## QCNN - ANGLE ENCODING"
   ]
  },
  {
   "cell_type": "markdown",
   "id": "76adef2c",
   "metadata": {},
   "source": [
    "### DATA ENCODING"
   ]
  },
  {
   "cell_type": "code",
   "execution_count": 6,
   "id": "bae04307",
   "metadata": {},
   "outputs": [],
   "source": [
    "def angle_encoding(qubits, data_row):\n",
    "    \"\"\"\n",
    "    Perform angle encoding by applying a Ry gate. The values are scaled between -pi and \n",
    "    pi before being applied to the rotational gate in order that the encoded angles cover\n",
    "    the entire range of possible values for a qubit rotation.\n",
    "    \"\"\"\n",
    "    circuit = cirq.Circuit()\n",
    "    values = data_row#*2*np.pi - np.pi  \n",
    "    for i, qubit in enumerate(qubits):\n",
    "        circuit += (cirq.ry(values[i]).on(qubit))\n",
    "    return circuit"
   ]
  },
  {
   "cell_type": "code",
   "execution_count": 7,
   "id": "a4bd6c4f",
   "metadata": {},
   "outputs": [],
   "source": [
    "#We want output of 1 of -1\n",
    "y_train = 2.0*y_train - 1.0\n",
    "y_test = 2.0*y_test - 1.0\n",
    "\n",
    "\n",
    "qubits = cirq.GridQubit.rect(1, 9) #grid of qubit -> for angle encoding we have N qubits \n",
    "# for N pixels.\n",
    "\n",
    "# np.ravel flattens the 3 by 3 matrix into a 9 length array.\n",
    "\n",
    "quantum_states_train = [np.ravel(x_train_small[i]) for i in range(len(x_train_small))]\n",
    "quantum_states_test = [np.ravel(x_test_small[i]) for i in range(len(x_test_small))]\n",
    "\n",
    "train_circuits_data = [angle_encoding(qubits, quantum_states_train[i]) for i in range(len(quantum_states_train))] \n",
    "test_circuits_data = [angle_encoding(qubits, quantum_states_test[i]) for i in range(len(quantum_states_test))] \n"
   ]
  },
  {
   "cell_type": "code",
   "execution_count": 8,
   "id": "29f9d388",
   "metadata": {},
   "outputs": [],
   "source": [
    "# convert the training quantum circuits into JSON format using cirq.to_json()\n",
    "\n",
    "json_circuits = [cirq.to_json(train_circuits_data[i]) for i in range(len(train_circuits_data))]\n",
    "\n",
    "# Open a file in write mode\n",
    "with open('angle_encoding_train.json', 'w') as f:\n",
    "    # Use json.dump() to write the list of JSON strings to the file\n",
    "    json.dump(json_circuits, f)\n",
    "\n",
    "# Same for the testing data circuits\n",
    "\n",
    "json_circuits = [cirq.to_json(test_circuits_data[i]) for i in range(len(test_circuits_data))]\n",
    "\n",
    "with open('angle_encoding_test.json', 'w') as f:\n",
    "    json.dump(json_circuits, f)\n",
    "\n",
    "np.savetxt(\"y_train.txt\", y_train)\n",
    "np.savetxt(\"y_test.txt\", y_test)"
   ]
  },
  {
   "cell_type": "markdown",
   "id": "574f5cf0",
   "metadata": {},
   "source": [
    "### CIRCUITS FOR QCNN"
   ]
  },
  {
   "cell_type": "code",
   "execution_count": 9,
   "id": "da5b7d52",
   "metadata": {},
   "outputs": [],
   "source": [
    "def one_qubit_unitary(bit, symbols):\n",
    "    \"\"\"Make a Cirq circuit enacting a rotation of the bloch sphere about the X,\n",
    "    Y and Z axis, that depends on the values in `symbols`.\n",
    "    \"\"\"\n",
    "    return cirq.Circuit(\n",
    "        cirq.X(bit)**symbols[0],\n",
    "        cirq.Y(bit)**symbols[1],\n",
    "        cirq.Z(bit)**symbols[2])\n",
    "\n",
    "\n",
    "def two_qubit_unitary(bits, symbols):\n",
    "    \"\"\"Make a Cirq circuit that creates an arbitrary two qubit unitary.\"\"\"\n",
    "    circuit = cirq.Circuit()\n",
    "    circuit += one_qubit_unitary(bits[0], symbols[0:3])\n",
    "    circuit += one_qubit_unitary(bits[1], symbols[3:6])\n",
    "    circuit += [cirq.ZZ(*bits)**symbols[6]]\n",
    "    circuit += [cirq.YY(*bits)**symbols[7]]\n",
    "    circuit += [cirq.XX(*bits)**symbols[8]]\n",
    "    circuit += one_qubit_unitary(bits[0], symbols[9:12])\n",
    "    circuit += one_qubit_unitary(bits[1], symbols[12:])\n",
    "    return circuit\n",
    "\n",
    "\n",
    "def two_qubit_pool(source_qubit, sink_qubit, symbols):\n",
    "    \"\"\"Make a Cirq circuit to do a parameterized 'pooling' operation, which\n",
    "    attempts to reduce entanglement down from two qubits to just one.\"\"\"\n",
    "    pool_circuit = cirq.Circuit()\n",
    "    sink_basis_selector = one_qubit_unitary(sink_qubit, symbols[0:3])\n",
    "    source_basis_selector = one_qubit_unitary(source_qubit, symbols[3:6])\n",
    "    pool_circuit.append(sink_basis_selector)\n",
    "    pool_circuit.append(source_basis_selector)\n",
    "    pool_circuit.append(cirq.CNOT(control=source_qubit, target=sink_qubit))\n",
    "    pool_circuit.append(sink_basis_selector**-1)\n",
    "    return pool_circuit\n",
    "\n",
    "def qfcc_3q(bits, symbols):\n",
    "    \"\"\"Make a 3 qubit quantum FCC\"\"\"\n",
    "    \n",
    "    circuit = cirq.Circuit()\n",
    "\n",
    "    circuit += cirq.Y(bits[0])**(symbols[0])\n",
    "    circuit += cirq.Y(bits[1])**(symbols[1])\n",
    "    circuit += cirq.Y(bits[2])**(symbols[2])\n",
    "\n",
    "    circuit += cirq.Z(bits[0])**(symbols[3])\n",
    "    circuit += cirq.Z(bits[1])**(symbols[4])\n",
    "    circuit += cirq.Z(bits[2])**(symbols[5])\n",
    "\n",
    "    circuit += cirq.CNOT(bits[0], bits[1])\n",
    "    circuit += cirq.CNOT(bits[0], bits[2])\n",
    "    circuit += cirq.CNOT(bits[1], bits[2])\n",
    "\n",
    "    circuit += cirq.Y(bits[0])**(symbols[6])\n",
    "    circuit += cirq.Y(bits[1])**(symbols[7])\n",
    "    circuit += cirq.Y(bits[2])**(symbols[8])\n",
    "\n",
    "    circuit += cirq.Z(bits[0])**(symbols[9])\n",
    "    circuit += cirq.Z(bits[1])**(symbols[10])\n",
    "    circuit += cirq.Z(bits[2])**(symbols[11])\n",
    "\n",
    "    circuit += cirq.CNOT(bits[0], bits[1])\n",
    "    circuit += cirq.CNOT(bits[0], bits[2])\n",
    "    circuit += cirq.CNOT(bits[1], bits[2])\n",
    "\n",
    "    circuit += cirq.Y(bits[0])**(symbols[12])\n",
    "    circuit += cirq.Y(bits[1])**(symbols[13])\n",
    "    circuit += cirq.Y(bits[2])**(symbols[14])\n",
    "    \n",
    "    return circuit\n"
   ]
  },
  {
   "cell_type": "code",
   "execution_count": 10,
   "id": "3d7669d5",
   "metadata": {},
   "outputs": [],
   "source": [
    "def quantum_conv_circuit(bits, symbols):\n",
    "    \"\"\"Quantum Convolution Layer following the above diagram.\n",
    "    Return a Cirq circuit with the cascade of `two_qubit_unitary` applied\n",
    "    to all pairs of qubits in `bits` as in the diagram above.\n",
    "    \"\"\"\n",
    "    circuit = cirq.Circuit()\n",
    "    for first, second in zip(bits[0::2], bits[1::2]):\n",
    "        circuit += two_qubit_unitary([first, second], symbols)\n",
    "    for first, second in zip(bits[1::2], bits[2::2] + [bits[0]]):\n",
    "        circuit += two_qubit_unitary([first, second], symbols)\n",
    "        \n",
    "    return circuit\n",
    "\n",
    "\n",
    "def quantum_pool_circuit(source_bits, sink_bits, symbols):\n",
    "    \"\"\"A layer that specifies a quantum pooling operation.\n",
    "    A Quantum pool tries to learn to pool the relevant information from two\n",
    "    qubits onto 1.\n",
    "    \"\"\"\n",
    "    circuit = cirq.Circuit()\n",
    "    for source, sink in zip(source_bits, sink_bits):\n",
    "        circuit += two_qubit_pool(source, sink, symbols)\n",
    "    return circuit"
   ]
  },
  {
   "cell_type": "markdown",
   "id": "b9853e9b",
   "metadata": {},
   "source": [
    "### VISUALIZATION OF POOLING AND CONVOLUTIONAL LAYERS"
   ]
  },
  {
   "cell_type": "code",
   "execution_count": 11,
   "id": "70753608",
   "metadata": {
    "scrolled": false
   },
   "outputs": [
    {
     "name": "stderr",
     "output_type": "stream",
     "text": [
      "findfont: Font family 'Arial' not found.\n",
      "findfont: Font family 'Arial' not found.\n",
      "findfont: Font family 'Arial' not found.\n",
      "findfont: Font family 'Arial' not found.\n",
      "findfont: Font family 'Arial' not found.\n",
      "findfont: Font family 'Arial' not found.\n",
      "findfont: Font family 'Arial' not found.\n",
      "findfont: Font family 'Arial' not found.\n",
      "findfont: Font family 'Arial' not found.\n",
      "findfont: Font family 'Arial' not found.\n",
      "findfont: Font family 'Arial' not found.\n",
      "findfont: Font family 'Arial' not found.\n",
      "findfont: Font family 'Arial' not found.\n",
      "findfont: Font family 'Arial' not found.\n",
      "findfont: Font family 'Arial' not found.\n",
      "findfont: Font family 'Arial' not found.\n",
      "findfont: Font family 'Arial' not found.\n",
      "findfont: Font family 'Arial' not found.\n",
      "findfont: Font family 'Arial' not found.\n",
      "findfont: Font family 'Arial' not found.\n",
      "findfont: Font family 'Arial' not found.\n",
      "findfont: Font family 'Arial' not found.\n",
      "findfont: Font family 'Arial' not found.\n",
      "findfont: Font family 'Arial' not found.\n",
      "findfont: Font family 'Arial' not found.\n",
      "findfont: Font family 'Arial' not found.\n",
      "findfont: Font family 'Arial' not found.\n",
      "findfont: Font family 'Arial' not found.\n",
      "findfont: Font family 'Arial' not found.\n",
      "findfont: Font family 'Arial' not found.\n",
      "findfont: Font family 'Arial' not found.\n",
      "findfont: Font family 'Arial' not found.\n",
      "findfont: Font family 'Arial' not found.\n",
      "findfont: Font family 'Arial' not found.\n",
      "findfont: Font family 'Arial' not found.\n",
      "findfont: Font family 'Arial' not found.\n",
      "findfont: Font family 'Arial' not found.\n",
      "findfont: Font family 'Arial' not found.\n",
      "findfont: Font family 'Arial' not found.\n"
     ]
    },
    {
     "data": {
      "image/svg+xml": [
       "<svg xmlns=\"http://www.w3.org/2000/svg\" width=\"2233.55546875\" height=\"300.0\"><line x1=\"34.7588671875\" x2=\"2203.55546875\" y1=\"25.0\" y2=\"25.0\" stroke=\"#1967d2\" stroke-width=\"1\" /><line x1=\"34.7588671875\" x2=\"2203.55546875\" y1=\"75.0\" y2=\"75.0\" stroke=\"#1967d2\" stroke-width=\"1\" /><line x1=\"34.7588671875\" x2=\"2203.55546875\" y1=\"125.0\" y2=\"125.0\" stroke=\"#1967d2\" stroke-width=\"1\" /><line x1=\"34.7588671875\" x2=\"2203.55546875\" y1=\"175.0\" y2=\"175.0\" stroke=\"#1967d2\" stroke-width=\"1\" /><line x1=\"34.7588671875\" x2=\"2203.55546875\" y1=\"225.0\" y2=\"225.0\" stroke=\"#1967d2\" stroke-width=\"1\" /><line x1=\"34.7588671875\" x2=\"2203.55546875\" y1=\"275.0\" y2=\"275.0\" stroke=\"#1967d2\" stroke-width=\"1\" /><line x1=\"499.72953125\" x2=\"499.72953125\" y1=\"25.0\" y2=\"175.0\" stroke=\"black\" stroke-width=\"3\" /><line x1=\"1207.7421093750002\" x2=\"1207.7421093750002\" y1=\"75.0\" y2=\"225.0\" stroke=\"black\" stroke-width=\"3\" /><line x1=\"1915.7546875\" x2=\"1915.7546875\" y1=\"125.0\" y2=\"275.0\" stroke=\"black\" stroke-width=\"3\" /><rect x=\"10.0\" y=\"5.0\" width=\"49.517734375\" height=\"40\" stroke=\"black\" fill=\"white\" stroke-width=\"0\" /><text x=\"34.7588671875\" y=\"25.0\" dominant-baseline=\"middle\" text-anchor=\"middle\" font-size=\"14px\" font-family=\"Arial\">(0, 0): </text><rect x=\"10.0\" y=\"55.0\" width=\"49.517734375\" height=\"40\" stroke=\"black\" fill=\"white\" stroke-width=\"0\" /><text x=\"34.7588671875\" y=\"75.0\" dominant-baseline=\"middle\" text-anchor=\"middle\" font-size=\"14px\" font-family=\"Arial\">(0, 1): </text><rect x=\"10.0\" y=\"105.0\" width=\"49.517734375\" height=\"40\" stroke=\"black\" fill=\"white\" stroke-width=\"0\" /><text x=\"34.7588671875\" y=\"125.0\" dominant-baseline=\"middle\" text-anchor=\"middle\" font-size=\"14px\" font-family=\"Arial\">(0, 2): </text><rect x=\"10.0\" y=\"155.0\" width=\"49.517734375\" height=\"40\" stroke=\"black\" fill=\"white\" stroke-width=\"0\" /><text x=\"34.7588671875\" y=\"175.0\" dominant-baseline=\"middle\" text-anchor=\"middle\" font-size=\"14px\" font-family=\"Arial\">(0, 3): </text><rect x=\"10.0\" y=\"205.0\" width=\"49.517734375\" height=\"40\" stroke=\"black\" fill=\"white\" stroke-width=\"0\" /><text x=\"34.7588671875\" y=\"225.0\" dominant-baseline=\"middle\" text-anchor=\"middle\" font-size=\"14px\" font-family=\"Arial\">(0, 4): </text><rect x=\"10.0\" y=\"255.0\" width=\"49.517734375\" height=\"40\" stroke=\"black\" fill=\"white\" stroke-width=\"0\" /><text x=\"34.7588671875\" y=\"275.0\" dominant-baseline=\"middle\" text-anchor=\"middle\" font-size=\"14px\" font-family=\"Arial\">(0, 5): </text><rect x=\"79.517734375\" y=\"155.0\" width=\"47.1664453125\" height=\"40\" stroke=\"black\" fill=\"white\" stroke-width=\"1\" /><text x=\"103.10095703125\" y=\"175.0\" dominant-baseline=\"middle\" text-anchor=\"middle\" font-size=\"14px\" font-family=\"Arial\">X^x0</text><rect x=\"146.6841796875\" y=\"155.0\" width=\"46.2105078125\" height=\"40\" stroke=\"black\" fill=\"white\" stroke-width=\"1\" /><text x=\"169.78943359375\" y=\"175.0\" dominant-baseline=\"middle\" text-anchor=\"middle\" font-size=\"14px\" font-family=\"Arial\">Y^x1</text><rect x=\"212.8946875\" y=\"155.0\" width=\"46.48175781250001\" height=\"40\" stroke=\"black\" fill=\"white\" stroke-width=\"1\" /><text x=\"236.13556640625\" y=\"175.0\" dominant-baseline=\"middle\" text-anchor=\"middle\" font-size=\"14px\" font-family=\"Arial\">Z^x2</text><rect x=\"279.3764453125\" y=\"5.0\" width=\"46.97394531250001\" height=\"40\" stroke=\"black\" fill=\"white\" stroke-width=\"1\" /><text x=\"302.86341796875\" y=\"25.0\" dominant-baseline=\"middle\" text-anchor=\"middle\" font-size=\"14px\" font-family=\"Arial\">X^x3</text><rect x=\"346.350390625\" y=\"5.0\" width=\"46.718007812500005\" height=\"40\" stroke=\"black\" fill=\"white\" stroke-width=\"1\" /><text x=\"369.70939453125\" y=\"25.0\" dominant-baseline=\"middle\" text-anchor=\"middle\" font-size=\"14px\" font-family=\"Arial\">Y^x4</text><rect x=\"413.0683984375\" y=\"5.0\" width=\"46.6611328125\" height=\"40\" stroke=\"black\" fill=\"white\" stroke-width=\"1\" /><text x=\"436.39896484375\" y=\"25.0\" dominant-baseline=\"middle\" text-anchor=\"middle\" font-size=\"14px\" font-family=\"Arial\">Z^x5</text><circle cx=\"499.72953125\" cy=\"25.0\" r=\"10.0\" /><rect x=\"479.72953125\" y=\"155.0\" width=\"40\" height=\"40\" stroke=\"black\" fill=\"white\" stroke-width=\"1\" /><text x=\"499.72953125\" y=\"175.0\" dominant-baseline=\"middle\" text-anchor=\"middle\" font-size=\"18px\" font-family=\"Arial\">X</text><rect x=\"539.72953125\" y=\"155.0\" width=\"62.65640625\" height=\"40\" stroke=\"black\" fill=\"white\" stroke-width=\"1\" /><text x=\"571.057734375\" y=\"175.0\" dominant-baseline=\"middle\" text-anchor=\"middle\" font-size=\"14px\" font-family=\"Arial\">Z^(-x2)</text><rect x=\"622.3859375000001\" y=\"155.0\" width=\"62.27578125000001\" height=\"40\" stroke=\"black\" fill=\"white\" stroke-width=\"1\" /><text x=\"653.523828125\" y=\"175.0\" dominant-baseline=\"middle\" text-anchor=\"middle\" font-size=\"14px\" font-family=\"Arial\">Y^(-x1)</text><rect x=\"704.6617187500001\" y=\"155.0\" width=\"62.86859375\" height=\"40\" stroke=\"black\" fill=\"white\" stroke-width=\"1\" /><text x=\"736.0960156250001\" y=\"175.0\" dominant-baseline=\"middle\" text-anchor=\"middle\" font-size=\"14px\" font-family=\"Arial\">X^(-x0)</text><rect x=\"787.5303125\" y=\"205.0\" width=\"47.1664453125\" height=\"40\" stroke=\"black\" fill=\"white\" stroke-width=\"1\" /><text x=\"811.11353515625\" y=\"225.0\" dominant-baseline=\"middle\" text-anchor=\"middle\" font-size=\"14px\" font-family=\"Arial\">X^x0</text><rect x=\"854.6967578125\" y=\"205.0\" width=\"46.2105078125\" height=\"40\" stroke=\"black\" fill=\"white\" stroke-width=\"1\" /><text x=\"877.80201171875\" y=\"225.0\" dominant-baseline=\"middle\" text-anchor=\"middle\" font-size=\"14px\" font-family=\"Arial\">Y^x1</text><rect x=\"920.907265625\" y=\"205.0\" width=\"46.48175781250001\" height=\"40\" stroke=\"black\" fill=\"white\" stroke-width=\"1\" /><text x=\"944.1481445312501\" y=\"225.0\" dominant-baseline=\"middle\" text-anchor=\"middle\" font-size=\"14px\" font-family=\"Arial\">Z^x2</text><rect x=\"987.3890234375001\" y=\"55.0\" width=\"46.97394531250001\" height=\"40\" stroke=\"black\" fill=\"white\" stroke-width=\"1\" /><text x=\"1010.8759960937501\" y=\"75.0\" dominant-baseline=\"middle\" text-anchor=\"middle\" font-size=\"14px\" font-family=\"Arial\">X^x3</text><rect x=\"1054.3629687500002\" y=\"55.0\" width=\"46.718007812500005\" height=\"40\" stroke=\"black\" fill=\"white\" stroke-width=\"1\" /><text x=\"1077.7219726562503\" y=\"75.0\" dominant-baseline=\"middle\" text-anchor=\"middle\" font-size=\"14px\" font-family=\"Arial\">Y^x4</text><rect x=\"1121.0809765625002\" y=\"55.0\" width=\"46.6611328125\" height=\"40\" stroke=\"black\" fill=\"white\" stroke-width=\"1\" /><text x=\"1144.4115429687502\" y=\"75.0\" dominant-baseline=\"middle\" text-anchor=\"middle\" font-size=\"14px\" font-family=\"Arial\">Z^x5</text><circle cx=\"1207.7421093750002\" cy=\"75.0\" r=\"10.0\" /><rect x=\"1187.7421093750002\" y=\"205.0\" width=\"40\" height=\"40\" stroke=\"black\" fill=\"white\" stroke-width=\"1\" /><text x=\"1207.7421093750002\" y=\"225.0\" dominant-baseline=\"middle\" text-anchor=\"middle\" font-size=\"18px\" font-family=\"Arial\">X</text><rect x=\"1247.7421093750002\" y=\"205.0\" width=\"62.65640625\" height=\"40\" stroke=\"black\" fill=\"white\" stroke-width=\"1\" /><text x=\"1279.0703125000002\" y=\"225.0\" dominant-baseline=\"middle\" text-anchor=\"middle\" font-size=\"14px\" font-family=\"Arial\">Z^(-x2)</text><rect x=\"1330.398515625\" y=\"205.0\" width=\"62.27578125000001\" height=\"40\" stroke=\"black\" fill=\"white\" stroke-width=\"1\" /><text x=\"1361.53640625\" y=\"225.0\" dominant-baseline=\"middle\" text-anchor=\"middle\" font-size=\"14px\" font-family=\"Arial\">Y^(-x1)</text><rect x=\"1412.674296875\" y=\"205.0\" width=\"62.86859375\" height=\"40\" stroke=\"black\" fill=\"white\" stroke-width=\"1\" /><text x=\"1444.10859375\" y=\"225.0\" dominant-baseline=\"middle\" text-anchor=\"middle\" font-size=\"14px\" font-family=\"Arial\">X^(-x0)</text><rect x=\"1495.542890625\" y=\"255.0\" width=\"47.1664453125\" height=\"40\" stroke=\"black\" fill=\"white\" stroke-width=\"1\" /><text x=\"1519.12611328125\" y=\"275.0\" dominant-baseline=\"middle\" text-anchor=\"middle\" font-size=\"14px\" font-family=\"Arial\">X^x0</text><rect x=\"1562.7093359374999\" y=\"255.0\" width=\"46.2105078125\" height=\"40\" stroke=\"black\" fill=\"white\" stroke-width=\"1\" /><text x=\"1585.81458984375\" y=\"275.0\" dominant-baseline=\"middle\" text-anchor=\"middle\" font-size=\"14px\" font-family=\"Arial\">Y^x1</text><rect x=\"1628.91984375\" y=\"255.0\" width=\"46.48175781250001\" height=\"40\" stroke=\"black\" fill=\"white\" stroke-width=\"1\" /><text x=\"1652.1607226562498\" y=\"275.0\" dominant-baseline=\"middle\" text-anchor=\"middle\" font-size=\"14px\" font-family=\"Arial\">Z^x2</text><rect x=\"1695.4016015625\" y=\"105.0\" width=\"46.97394531250001\" height=\"40\" stroke=\"black\" fill=\"white\" stroke-width=\"1\" /><text x=\"1718.88857421875\" y=\"125.0\" dominant-baseline=\"middle\" text-anchor=\"middle\" font-size=\"14px\" font-family=\"Arial\">X^x3</text><rect x=\"1762.375546875\" y=\"105.0\" width=\"46.718007812500005\" height=\"40\" stroke=\"black\" fill=\"white\" stroke-width=\"1\" /><text x=\"1785.7345507812502\" y=\"125.0\" dominant-baseline=\"middle\" text-anchor=\"middle\" font-size=\"14px\" font-family=\"Arial\">Y^x4</text><rect x=\"1829.0935546875\" y=\"105.0\" width=\"46.6611328125\" height=\"40\" stroke=\"black\" fill=\"white\" stroke-width=\"1\" /><text x=\"1852.42412109375\" y=\"125.0\" dominant-baseline=\"middle\" text-anchor=\"middle\" font-size=\"14px\" font-family=\"Arial\">Z^x5</text><circle cx=\"1915.7546875\" cy=\"125.0\" r=\"10.0\" /><rect x=\"1895.7546875\" y=\"255.0\" width=\"40\" height=\"40\" stroke=\"black\" fill=\"white\" stroke-width=\"1\" /><text x=\"1915.7546875\" y=\"275.0\" dominant-baseline=\"middle\" text-anchor=\"middle\" font-size=\"18px\" font-family=\"Arial\">X</text><rect x=\"1955.7546875\" y=\"255.0\" width=\"62.65640625\" height=\"40\" stroke=\"black\" fill=\"white\" stroke-width=\"1\" /><text x=\"1987.0828906250001\" y=\"275.0\" dominant-baseline=\"middle\" text-anchor=\"middle\" font-size=\"14px\" font-family=\"Arial\">Z^(-x2)</text><rect x=\"2038.4110937500002\" y=\"255.0\" width=\"62.27578125000001\" height=\"40\" stroke=\"black\" fill=\"white\" stroke-width=\"1\" /><text x=\"2069.548984375\" y=\"275.0\" dominant-baseline=\"middle\" text-anchor=\"middle\" font-size=\"14px\" font-family=\"Arial\">Y^(-x1)</text><rect x=\"2120.686875\" y=\"255.0\" width=\"62.86859375\" height=\"40\" stroke=\"black\" fill=\"white\" stroke-width=\"1\" /><text x=\"2152.121171875\" y=\"275.0\" dominant-baseline=\"middle\" text-anchor=\"middle\" font-size=\"14px\" font-family=\"Arial\">X^(-x0)</text></svg>"
      ],
      "text/plain": [
       "<cirq.contrib.svg.svg.SVGCircuit at 0x7f16beacf730>"
      ]
     },
     "execution_count": 11,
     "metadata": {},
     "output_type": "execute_result"
    }
   ],
   "source": [
    "#plot the pooling circuit\n",
    "\n",
    "test_bits = cirq.GridQubit.rect(1, 6)\n",
    "\n",
    "SVGCircuit(\n",
    "    quantum_pool_circuit(test_bits[:3], test_bits[3:], sympy.symbols('x0:6')))\n"
   ]
  },
  {
   "cell_type": "code",
   "execution_count": 12,
   "id": "a2a591f8",
   "metadata": {
    "scrolled": false
   },
   "outputs": [
    {
     "name": "stderr",
     "output_type": "stream",
     "text": [
      "findfont: Font family 'Arial' not found.\n",
      "findfont: Font family 'Arial' not found.\n",
      "findfont: Font family 'Arial' not found.\n",
      "findfont: Font family 'Arial' not found.\n",
      "findfont: Font family 'Arial' not found.\n",
      "findfont: Font family 'Arial' not found.\n",
      "findfont: Font family 'Arial' not found.\n",
      "findfont: Font family 'Arial' not found.\n",
      "findfont: Font family 'Arial' not found.\n",
      "findfont: Font family 'Arial' not found.\n",
      "findfont: Font family 'Arial' not found.\n",
      "findfont: Font family 'Arial' not found.\n",
      "findfont: Font family 'Arial' not found.\n",
      "findfont: Font family 'Arial' not found.\n",
      "findfont: Font family 'Arial' not found.\n",
      "findfont: Font family 'Arial' not found.\n",
      "findfont: Font family 'Arial' not found.\n",
      "findfont: Font family 'Arial' not found.\n",
      "findfont: Font family 'Arial' not found.\n",
      "findfont: Font family 'Arial' not found.\n",
      "findfont: Font family 'Arial' not found.\n",
      "findfont: Font family 'Arial' not found.\n",
      "findfont: Font family 'Arial' not found.\n",
      "findfont: Font family 'Arial' not found.\n",
      "findfont: Font family 'Arial' not found.\n",
      "findfont: Font family 'Arial' not found.\n",
      "findfont: Font family 'Arial' not found.\n",
      "findfont: Font family 'Arial' not found.\n",
      "findfont: Font family 'Arial' not found.\n",
      "findfont: Font family 'Arial' not found.\n",
      "findfont: Font family 'Arial' not found.\n",
      "findfont: Font family 'Arial' not found.\n",
      "findfont: Font family 'Arial' not found.\n",
      "findfont: Font family 'Arial' not found.\n",
      "findfont: Font family 'Arial' not found.\n",
      "findfont: Font family 'Arial' not found.\n",
      "findfont: Font family 'Arial' not found.\n",
      "findfont: Font family 'Arial' not found.\n",
      "findfont: Font family 'Arial' not found.\n",
      "findfont: Font family 'Arial' not found.\n",
      "findfont: Font family 'Arial' not found.\n",
      "findfont: Font family 'Arial' not found.\n",
      "findfont: Font family 'Arial' not found.\n",
      "findfont: Font family 'Arial' not found.\n",
      "findfont: Font family 'Arial' not found.\n",
      "findfont: Font family 'Arial' not found.\n",
      "findfont: Font family 'Arial' not found.\n",
      "findfont: Font family 'Arial' not found.\n",
      "findfont: Font family 'Arial' not found.\n",
      "findfont: Font family 'Arial' not found.\n",
      "findfont: Font family 'Arial' not found.\n",
      "findfont: Font family 'Arial' not found.\n",
      "findfont: Font family 'Arial' not found.\n",
      "findfont: Font family 'Arial' not found.\n",
      "findfont: Font family 'Arial' not found.\n",
      "findfont: Font family 'Arial' not found.\n",
      "findfont: Font family 'Arial' not found.\n",
      "findfont: Font family 'Arial' not found.\n",
      "findfont: Font family 'Arial' not found.\n",
      "findfont: Font family 'Arial' not found.\n",
      "findfont: Font family 'Arial' not found.\n",
      "findfont: Font family 'Arial' not found.\n",
      "findfont: Font family 'Arial' not found.\n",
      "findfont: Font family 'Arial' not found.\n",
      "findfont: Font family 'Arial' not found.\n",
      "findfont: Font family 'Arial' not found.\n",
      "findfont: Font family 'Arial' not found.\n",
      "findfont: Font family 'Arial' not found.\n",
      "findfont: Font family 'Arial' not found.\n",
      "findfont: Font family 'Arial' not found.\n",
      "findfont: Font family 'Arial' not found.\n",
      "findfont: Font family 'Arial' not found.\n",
      "findfont: Font family 'Arial' not found.\n",
      "findfont: Font family 'Arial' not found.\n",
      "findfont: Font family 'Arial' not found.\n",
      "findfont: Font family 'Arial' not found.\n"
     ]
    },
    {
     "data": {
      "image/svg+xml": [
       "<svg xmlns=\"http://www.w3.org/2000/svg\" width=\"4403.0325781249985\" height=\"200.0\"><line x1=\"34.7588671875\" x2=\"4373.0325781249985\" y1=\"25.0\" y2=\"25.0\" stroke=\"#1967d2\" stroke-width=\"1\" /><line x1=\"34.7588671875\" x2=\"4373.0325781249985\" y1=\"75.0\" y2=\"75.0\" stroke=\"#1967d2\" stroke-width=\"1\" /><line x1=\"34.7588671875\" x2=\"4373.0325781249985\" y1=\"125.0\" y2=\"125.0\" stroke=\"#1967d2\" stroke-width=\"1\" /><line x1=\"34.7588671875\" x2=\"4373.0325781249985\" y1=\"175.0\" y2=\"175.0\" stroke=\"#1967d2\" stroke-width=\"1\" /><line x1=\"508.0261328125\" x2=\"508.0261328125\" y1=\"25.0\" y2=\"75.0\" stroke=\"black\" stroke-width=\"3\" /><line x1=\"583.7519921875\" x2=\"583.7519921875\" y1=\"25.0\" y2=\"75.0\" stroke=\"black\" stroke-width=\"3\" /><line x1=\"659.5456640625\" x2=\"659.5456640625\" y1=\"25.0\" y2=\"75.0\" stroke=\"black\" stroke-width=\"3\" /><line x1=\"1581.4048437499998\" x2=\"1581.4048437499998\" y1=\"125.0\" y2=\"175.0\" stroke=\"black\" stroke-width=\"3\" /><line x1=\"1657.1307031249999\" x2=\"1657.1307031249999\" y1=\"125.0\" y2=\"175.0\" stroke=\"black\" stroke-width=\"3\" /><line x1=\"1732.9243749999998\" x2=\"1732.9243749999998\" y1=\"125.0\" y2=\"175.0\" stroke=\"black\" stroke-width=\"3\" /><line x1=\"2654.7835546875\" x2=\"2654.7835546875\" y1=\"75.0\" y2=\"125.0\" stroke=\"black\" stroke-width=\"3\" /><line x1=\"2730.5094140624997\" x2=\"2730.5094140624997\" y1=\"75.0\" y2=\"125.0\" stroke=\"black\" stroke-width=\"3\" /><line x1=\"2806.3030859375\" x2=\"2806.3030859375\" y1=\"75.0\" y2=\"125.0\" stroke=\"black\" stroke-width=\"3\" /><line x1=\"3728.1622656249992\" x2=\"3728.1622656249992\" y1=\"25.0\" y2=\"175.0\" stroke=\"black\" stroke-width=\"3\" /><line x1=\"3803.888124999999\" x2=\"3803.888124999999\" y1=\"25.0\" y2=\"175.0\" stroke=\"black\" stroke-width=\"3\" /><line x1=\"3879.6817968749992\" x2=\"3879.6817968749992\" y1=\"25.0\" y2=\"175.0\" stroke=\"black\" stroke-width=\"3\" /><rect x=\"10.0\" y=\"5.0\" width=\"49.517734375\" height=\"40\" stroke=\"black\" fill=\"white\" stroke-width=\"0\" /><text x=\"34.7588671875\" y=\"25.0\" dominant-baseline=\"middle\" text-anchor=\"middle\" font-size=\"14px\" font-family=\"Arial\">(0, 0): </text><rect x=\"10.0\" y=\"55.0\" width=\"49.517734375\" height=\"40\" stroke=\"black\" fill=\"white\" stroke-width=\"0\" /><text x=\"34.7588671875\" y=\"75.0\" dominant-baseline=\"middle\" text-anchor=\"middle\" font-size=\"14px\" font-family=\"Arial\">(0, 1): </text><rect x=\"10.0\" y=\"105.0\" width=\"49.517734375\" height=\"40\" stroke=\"black\" fill=\"white\" stroke-width=\"0\" /><text x=\"34.7588671875\" y=\"125.0\" dominant-baseline=\"middle\" text-anchor=\"middle\" font-size=\"14px\" font-family=\"Arial\">(0, 2): </text><rect x=\"10.0\" y=\"155.0\" width=\"49.517734375\" height=\"40\" stroke=\"black\" fill=\"white\" stroke-width=\"0\" /><text x=\"34.7588671875\" y=\"175.0\" dominant-baseline=\"middle\" text-anchor=\"middle\" font-size=\"14px\" font-family=\"Arial\">(0, 3): </text><rect x=\"79.517734375\" y=\"5.0\" width=\"47.1664453125\" height=\"40\" stroke=\"black\" fill=\"white\" stroke-width=\"1\" /><text x=\"103.10095703125\" y=\"25.0\" dominant-baseline=\"middle\" text-anchor=\"middle\" font-size=\"14px\" font-family=\"Arial\">X^x0</text><rect x=\"146.6841796875\" y=\"5.0\" width=\"46.2105078125\" height=\"40\" stroke=\"black\" fill=\"white\" stroke-width=\"1\" /><text x=\"169.78943359375\" y=\"25.0\" dominant-baseline=\"middle\" text-anchor=\"middle\" font-size=\"14px\" font-family=\"Arial\">Y^x1</text><rect x=\"212.8946875\" y=\"5.0\" width=\"46.48175781250001\" height=\"40\" stroke=\"black\" fill=\"white\" stroke-width=\"1\" /><text x=\"236.13556640625\" y=\"25.0\" dominant-baseline=\"middle\" text-anchor=\"middle\" font-size=\"14px\" font-family=\"Arial\">Z^x2</text><rect x=\"279.3764453125\" y=\"55.0\" width=\"46.97394531250001\" height=\"40\" stroke=\"black\" fill=\"white\" stroke-width=\"1\" /><text x=\"302.86341796875\" y=\"75.0\" dominant-baseline=\"middle\" text-anchor=\"middle\" font-size=\"14px\" font-family=\"Arial\">X^x3</text><rect x=\"346.350390625\" y=\"55.0\" width=\"46.718007812500005\" height=\"40\" stroke=\"black\" fill=\"white\" stroke-width=\"1\" /><text x=\"369.70939453125\" y=\"75.0\" dominant-baseline=\"middle\" text-anchor=\"middle\" font-size=\"14px\" font-family=\"Arial\">Y^x4</text><rect x=\"413.0683984375\" y=\"55.0\" width=\"46.6611328125\" height=\"40\" stroke=\"black\" fill=\"white\" stroke-width=\"1\" /><text x=\"436.39896484375\" y=\"75.0\" dominant-baseline=\"middle\" text-anchor=\"middle\" font-size=\"14px\" font-family=\"Arial\">Z^x5</text><rect x=\"479.72953125000004\" y=\"5.0\" width=\"56.593203125\" height=\"40\" stroke=\"black\" fill=\"white\" stroke-width=\"1\" /><text x=\"508.0261328125\" y=\"25.0\" dominant-baseline=\"middle\" text-anchor=\"middle\" font-size=\"14px\" font-family=\"Arial\">ZZ</text><rect x=\"479.72953125000004\" y=\"55.0\" width=\"56.593203125\" height=\"40\" stroke=\"black\" fill=\"white\" stroke-width=\"1\" /><text x=\"508.0261328125\" y=\"75.0\" dominant-baseline=\"middle\" text-anchor=\"middle\" font-size=\"14px\" font-family=\"Arial\">ZZ^x6</text><rect x=\"556.322734375\" y=\"5.0\" width=\"54.85851562500001\" height=\"40\" stroke=\"black\" fill=\"white\" stroke-width=\"1\" /><text x=\"583.7519921875\" y=\"25.0\" dominant-baseline=\"middle\" text-anchor=\"middle\" font-size=\"14px\" font-family=\"Arial\">YY</text><rect x=\"556.322734375\" y=\"55.0\" width=\"54.85851562500001\" height=\"40\" stroke=\"black\" fill=\"white\" stroke-width=\"1\" /><text x=\"583.7519921875\" y=\"75.0\" dominant-baseline=\"middle\" text-anchor=\"middle\" font-size=\"14px\" font-family=\"Arial\">YY^x7</text><rect x=\"631.18125\" y=\"5.0\" width=\"56.72882812500001\" height=\"40\" stroke=\"black\" fill=\"white\" stroke-width=\"1\" /><text x=\"659.5456640625\" y=\"25.0\" dominant-baseline=\"middle\" text-anchor=\"middle\" font-size=\"14px\" font-family=\"Arial\">XX</text><rect x=\"631.18125\" y=\"55.0\" width=\"56.72882812500001\" height=\"40\" stroke=\"black\" fill=\"white\" stroke-width=\"1\" /><text x=\"659.5456640625\" y=\"75.0\" dominant-baseline=\"middle\" text-anchor=\"middle\" font-size=\"14px\" font-family=\"Arial\">XX^x8</text><rect x=\"707.9100781249999\" y=\"5.0\" width=\"47.1117578125\" height=\"40\" stroke=\"black\" fill=\"white\" stroke-width=\"1\" /><text x=\"731.4659570312499\" y=\"25.0\" dominant-baseline=\"middle\" text-anchor=\"middle\" font-size=\"14px\" font-family=\"Arial\">X^x9</text><rect x=\"775.0218359374999\" y=\"5.0\" width=\"55.48085937500001\" height=\"40\" stroke=\"black\" fill=\"white\" stroke-width=\"1\" /><text x=\"802.7622656249998\" y=\"25.0\" dominant-baseline=\"middle\" text-anchor=\"middle\" font-size=\"14px\" font-family=\"Arial\">Y^x10</text><rect x=\"850.5026953124999\" y=\"5.0\" width=\"55.49835937500001\" height=\"40\" stroke=\"black\" fill=\"white\" stroke-width=\"1\" /><text x=\"878.2518749999999\" y=\"25.0\" dominant-baseline=\"middle\" text-anchor=\"middle\" font-size=\"14px\" font-family=\"Arial\">Z^x11</text><rect x=\"926.0010546874998\" y=\"55.0\" width=\"55.601171875000006\" height=\"40\" stroke=\"black\" fill=\"white\" stroke-width=\"1\" /><text x=\"953.8016406249999\" y=\"75.0\" dominant-baseline=\"middle\" text-anchor=\"middle\" font-size=\"14px\" font-family=\"Arial\">X^x12</text><rect x=\"1001.6022265624998\" y=\"55.0\" width=\"55.288359375\" height=\"40\" stroke=\"black\" fill=\"white\" stroke-width=\"1\" /><text x=\"1029.2464062499998\" y=\"75.0\" dominant-baseline=\"middle\" text-anchor=\"middle\" font-size=\"14px\" font-family=\"Arial\">Y^x13</text><rect x=\"1076.8905859374997\" y=\"55.0\" width=\"56.005859375\" height=\"40\" stroke=\"black\" fill=\"white\" stroke-width=\"1\" /><text x=\"1104.8935156249997\" y=\"75.0\" dominant-baseline=\"middle\" text-anchor=\"middle\" font-size=\"14px\" font-family=\"Arial\">Z^x14</text><rect x=\"1152.8964453124997\" y=\"105.0\" width=\"47.1664453125\" height=\"40\" stroke=\"black\" fill=\"white\" stroke-width=\"1\" /><text x=\"1176.4796679687497\" y=\"125.0\" dominant-baseline=\"middle\" text-anchor=\"middle\" font-size=\"14px\" font-family=\"Arial\">X^x0</text><rect x=\"1220.0628906249997\" y=\"105.0\" width=\"46.2105078125\" height=\"40\" stroke=\"black\" fill=\"white\" stroke-width=\"1\" /><text x=\"1243.1681445312497\" y=\"125.0\" dominant-baseline=\"middle\" text-anchor=\"middle\" font-size=\"14px\" font-family=\"Arial\">Y^x1</text><rect x=\"1286.2733984374997\" y=\"105.0\" width=\"46.48175781250001\" height=\"40\" stroke=\"black\" fill=\"white\" stroke-width=\"1\" /><text x=\"1309.5142773437497\" y=\"125.0\" dominant-baseline=\"middle\" text-anchor=\"middle\" font-size=\"14px\" font-family=\"Arial\">Z^x2</text><rect x=\"1352.7551562499998\" y=\"155.0\" width=\"46.97394531250001\" height=\"40\" stroke=\"black\" fill=\"white\" stroke-width=\"1\" /><text x=\"1376.2421289062497\" y=\"175.0\" dominant-baseline=\"middle\" text-anchor=\"middle\" font-size=\"14px\" font-family=\"Arial\">X^x3</text><rect x=\"1419.7291015624999\" y=\"155.0\" width=\"46.718007812500005\" height=\"40\" stroke=\"black\" fill=\"white\" stroke-width=\"1\" /><text x=\"1443.08810546875\" y=\"175.0\" dominant-baseline=\"middle\" text-anchor=\"middle\" font-size=\"14px\" font-family=\"Arial\">Y^x4</text><rect x=\"1486.4471093749999\" y=\"155.0\" width=\"46.6611328125\" height=\"40\" stroke=\"black\" fill=\"white\" stroke-width=\"1\" /><text x=\"1509.7776757812499\" y=\"175.0\" dominant-baseline=\"middle\" text-anchor=\"middle\" font-size=\"14px\" font-family=\"Arial\">Z^x5</text><rect x=\"1553.1082421874999\" y=\"105.0\" width=\"56.593203125\" height=\"40\" stroke=\"black\" fill=\"white\" stroke-width=\"1\" /><text x=\"1581.4048437499998\" y=\"125.0\" dominant-baseline=\"middle\" text-anchor=\"middle\" font-size=\"14px\" font-family=\"Arial\">ZZ</text><rect x=\"1553.1082421874999\" y=\"155.0\" width=\"56.593203125\" height=\"40\" stroke=\"black\" fill=\"white\" stroke-width=\"1\" /><text x=\"1581.4048437499998\" y=\"175.0\" dominant-baseline=\"middle\" text-anchor=\"middle\" font-size=\"14px\" font-family=\"Arial\">ZZ^x6</text><rect x=\"1629.7014453124998\" y=\"105.0\" width=\"54.85851562500001\" height=\"40\" stroke=\"black\" fill=\"white\" stroke-width=\"1\" /><text x=\"1657.1307031249999\" y=\"125.0\" dominant-baseline=\"middle\" text-anchor=\"middle\" font-size=\"14px\" font-family=\"Arial\">YY</text><rect x=\"1629.7014453124998\" y=\"155.0\" width=\"54.85851562500001\" height=\"40\" stroke=\"black\" fill=\"white\" stroke-width=\"1\" /><text x=\"1657.1307031249999\" y=\"175.0\" dominant-baseline=\"middle\" text-anchor=\"middle\" font-size=\"14px\" font-family=\"Arial\">YY^x7</text><rect x=\"1704.5599609375\" y=\"105.0\" width=\"56.72882812500001\" height=\"40\" stroke=\"black\" fill=\"white\" stroke-width=\"1\" /><text x=\"1732.9243749999998\" y=\"125.0\" dominant-baseline=\"middle\" text-anchor=\"middle\" font-size=\"14px\" font-family=\"Arial\">XX</text><rect x=\"1704.5599609375\" y=\"155.0\" width=\"56.72882812500001\" height=\"40\" stroke=\"black\" fill=\"white\" stroke-width=\"1\" /><text x=\"1732.9243749999998\" y=\"175.0\" dominant-baseline=\"middle\" text-anchor=\"middle\" font-size=\"14px\" font-family=\"Arial\">XX^x8</text><rect x=\"1781.2887890625\" y=\"105.0\" width=\"47.1117578125\" height=\"40\" stroke=\"black\" fill=\"white\" stroke-width=\"1\" /><text x=\"1804.84466796875\" y=\"125.0\" dominant-baseline=\"middle\" text-anchor=\"middle\" font-size=\"14px\" font-family=\"Arial\">X^x9</text><rect x=\"1848.400546875\" y=\"105.0\" width=\"55.48085937500001\" height=\"40\" stroke=\"black\" fill=\"white\" stroke-width=\"1\" /><text x=\"1876.1409765624999\" y=\"125.0\" dominant-baseline=\"middle\" text-anchor=\"middle\" font-size=\"14px\" font-family=\"Arial\">Y^x10</text><rect x=\"1923.8814062499998\" y=\"105.0\" width=\"55.49835937500001\" height=\"40\" stroke=\"black\" fill=\"white\" stroke-width=\"1\" /><text x=\"1951.6305859374997\" y=\"125.0\" dominant-baseline=\"middle\" text-anchor=\"middle\" font-size=\"14px\" font-family=\"Arial\">Z^x11</text><rect x=\"1999.379765625\" y=\"155.0\" width=\"55.601171875000006\" height=\"40\" stroke=\"black\" fill=\"white\" stroke-width=\"1\" /><text x=\"2027.1803515625\" y=\"175.0\" dominant-baseline=\"middle\" text-anchor=\"middle\" font-size=\"14px\" font-family=\"Arial\">X^x12</text><rect x=\"2074.9809375\" y=\"155.0\" width=\"55.288359375\" height=\"40\" stroke=\"black\" fill=\"white\" stroke-width=\"1\" /><text x=\"2102.6251171875\" y=\"175.0\" dominant-baseline=\"middle\" text-anchor=\"middle\" font-size=\"14px\" font-family=\"Arial\">Y^x13</text><rect x=\"2150.269296875\" y=\"155.0\" width=\"56.005859375\" height=\"40\" stroke=\"black\" fill=\"white\" stroke-width=\"1\" /><text x=\"2178.2722265625\" y=\"175.0\" dominant-baseline=\"middle\" text-anchor=\"middle\" font-size=\"14px\" font-family=\"Arial\">Z^x14</text><rect x=\"2226.27515625\" y=\"55.0\" width=\"47.1664453125\" height=\"40\" stroke=\"black\" fill=\"white\" stroke-width=\"1\" /><text x=\"2249.85837890625\" y=\"75.0\" dominant-baseline=\"middle\" text-anchor=\"middle\" font-size=\"14px\" font-family=\"Arial\">X^x0</text><rect x=\"2293.4416015624997\" y=\"55.0\" width=\"46.2105078125\" height=\"40\" stroke=\"black\" fill=\"white\" stroke-width=\"1\" /><text x=\"2316.5468554687495\" y=\"75.0\" dominant-baseline=\"middle\" text-anchor=\"middle\" font-size=\"14px\" font-family=\"Arial\">Y^x1</text><rect x=\"2359.652109375\" y=\"55.0\" width=\"46.48175781250001\" height=\"40\" stroke=\"black\" fill=\"white\" stroke-width=\"1\" /><text x=\"2382.89298828125\" y=\"75.0\" dominant-baseline=\"middle\" text-anchor=\"middle\" font-size=\"14px\" font-family=\"Arial\">Z^x2</text><rect x=\"2426.1338671874996\" y=\"105.0\" width=\"46.97394531250001\" height=\"40\" stroke=\"black\" fill=\"white\" stroke-width=\"1\" /><text x=\"2449.6208398437498\" y=\"125.0\" dominant-baseline=\"middle\" text-anchor=\"middle\" font-size=\"14px\" font-family=\"Arial\">X^x3</text><rect x=\"2493.1078124999995\" y=\"105.0\" width=\"46.718007812500005\" height=\"40\" stroke=\"black\" fill=\"white\" stroke-width=\"1\" /><text x=\"2516.4668164062496\" y=\"125.0\" dominant-baseline=\"middle\" text-anchor=\"middle\" font-size=\"14px\" font-family=\"Arial\">Y^x4</text><rect x=\"2559.8258203124997\" y=\"105.0\" width=\"46.6611328125\" height=\"40\" stroke=\"black\" fill=\"white\" stroke-width=\"1\" /><text x=\"2583.1563867187497\" y=\"125.0\" dominant-baseline=\"middle\" text-anchor=\"middle\" font-size=\"14px\" font-family=\"Arial\">Z^x5</text><rect x=\"2626.4869531249997\" y=\"55.0\" width=\"56.593203125\" height=\"40\" stroke=\"black\" fill=\"white\" stroke-width=\"1\" /><text x=\"2654.7835546875\" y=\"75.0\" dominant-baseline=\"middle\" text-anchor=\"middle\" font-size=\"14px\" font-family=\"Arial\">ZZ</text><rect x=\"2626.4869531249997\" y=\"105.0\" width=\"56.593203125\" height=\"40\" stroke=\"black\" fill=\"white\" stroke-width=\"1\" /><text x=\"2654.7835546875\" y=\"125.0\" dominant-baseline=\"middle\" text-anchor=\"middle\" font-size=\"14px\" font-family=\"Arial\">ZZ^x6</text><rect x=\"2703.0801562499996\" y=\"55.0\" width=\"54.85851562500001\" height=\"40\" stroke=\"black\" fill=\"white\" stroke-width=\"1\" /><text x=\"2730.5094140624997\" y=\"75.0\" dominant-baseline=\"middle\" text-anchor=\"middle\" font-size=\"14px\" font-family=\"Arial\">YY</text><rect x=\"2703.0801562499996\" y=\"105.0\" width=\"54.85851562500001\" height=\"40\" stroke=\"black\" fill=\"white\" stroke-width=\"1\" /><text x=\"2730.5094140624997\" y=\"125.0\" dominant-baseline=\"middle\" text-anchor=\"middle\" font-size=\"14px\" font-family=\"Arial\">YY^x7</text><rect x=\"2777.9386718749997\" y=\"55.0\" width=\"56.72882812500001\" height=\"40\" stroke=\"black\" fill=\"white\" stroke-width=\"1\" /><text x=\"2806.3030859375\" y=\"75.0\" dominant-baseline=\"middle\" text-anchor=\"middle\" font-size=\"14px\" font-family=\"Arial\">XX</text><rect x=\"2777.9386718749997\" y=\"105.0\" width=\"56.72882812500001\" height=\"40\" stroke=\"black\" fill=\"white\" stroke-width=\"1\" /><text x=\"2806.3030859375\" y=\"125.0\" dominant-baseline=\"middle\" text-anchor=\"middle\" font-size=\"14px\" font-family=\"Arial\">XX^x8</text><rect x=\"2854.6674999999996\" y=\"55.0\" width=\"47.1117578125\" height=\"40\" stroke=\"black\" fill=\"white\" stroke-width=\"1\" /><text x=\"2878.2233789062498\" y=\"75.0\" dominant-baseline=\"middle\" text-anchor=\"middle\" font-size=\"14px\" font-family=\"Arial\">X^x9</text><rect x=\"2921.7792578124995\" y=\"55.0\" width=\"55.48085937500001\" height=\"40\" stroke=\"black\" fill=\"white\" stroke-width=\"1\" /><text x=\"2949.5196874999997\" y=\"75.0\" dominant-baseline=\"middle\" text-anchor=\"middle\" font-size=\"14px\" font-family=\"Arial\">Y^x10</text><rect x=\"2997.2601171874994\" y=\"55.0\" width=\"55.49835937500001\" height=\"40\" stroke=\"black\" fill=\"white\" stroke-width=\"1\" /><text x=\"3025.0092968749996\" y=\"75.0\" dominant-baseline=\"middle\" text-anchor=\"middle\" font-size=\"14px\" font-family=\"Arial\">Z^x11</text><rect x=\"3072.7584765624993\" y=\"105.0\" width=\"55.601171875000006\" height=\"40\" stroke=\"black\" fill=\"white\" stroke-width=\"1\" /><text x=\"3100.559062499999\" y=\"125.0\" dominant-baseline=\"middle\" text-anchor=\"middle\" font-size=\"14px\" font-family=\"Arial\">X^x12</text><rect x=\"3148.3596484374993\" y=\"105.0\" width=\"55.288359375\" height=\"40\" stroke=\"black\" fill=\"white\" stroke-width=\"1\" /><text x=\"3176.0038281249995\" y=\"125.0\" dominant-baseline=\"middle\" text-anchor=\"middle\" font-size=\"14px\" font-family=\"Arial\">Y^x13</text><rect x=\"3223.648007812499\" y=\"105.0\" width=\"56.005859375\" height=\"40\" stroke=\"black\" fill=\"white\" stroke-width=\"1\" /><text x=\"3251.650937499999\" y=\"125.0\" dominant-baseline=\"middle\" text-anchor=\"middle\" font-size=\"14px\" font-family=\"Arial\">Z^x14</text><rect x=\"3299.653867187499\" y=\"155.0\" width=\"47.1664453125\" height=\"40\" stroke=\"black\" fill=\"white\" stroke-width=\"1\" /><text x=\"3323.2370898437493\" y=\"175.0\" dominant-baseline=\"middle\" text-anchor=\"middle\" font-size=\"14px\" font-family=\"Arial\">X^x0</text><rect x=\"3366.820312499999\" y=\"155.0\" width=\"46.2105078125\" height=\"40\" stroke=\"black\" fill=\"white\" stroke-width=\"1\" /><text x=\"3389.925566406249\" y=\"175.0\" dominant-baseline=\"middle\" text-anchor=\"middle\" font-size=\"14px\" font-family=\"Arial\">Y^x1</text><rect x=\"3433.030820312499\" y=\"155.0\" width=\"46.48175781250001\" height=\"40\" stroke=\"black\" fill=\"white\" stroke-width=\"1\" /><text x=\"3456.2716992187493\" y=\"175.0\" dominant-baseline=\"middle\" text-anchor=\"middle\" font-size=\"14px\" font-family=\"Arial\">Z^x2</text><rect x=\"3499.512578124999\" y=\"5.0\" width=\"46.97394531250001\" height=\"40\" stroke=\"black\" fill=\"white\" stroke-width=\"1\" /><text x=\"3522.999550781249\" y=\"25.0\" dominant-baseline=\"middle\" text-anchor=\"middle\" font-size=\"14px\" font-family=\"Arial\">X^x3</text><rect x=\"3566.486523437499\" y=\"5.0\" width=\"46.718007812500005\" height=\"40\" stroke=\"black\" fill=\"white\" stroke-width=\"1\" /><text x=\"3589.845527343749\" y=\"25.0\" dominant-baseline=\"middle\" text-anchor=\"middle\" font-size=\"14px\" font-family=\"Arial\">Y^x4</text><rect x=\"3633.204531249999\" y=\"5.0\" width=\"46.6611328125\" height=\"40\" stroke=\"black\" fill=\"white\" stroke-width=\"1\" /><text x=\"3656.535097656249\" y=\"25.0\" dominant-baseline=\"middle\" text-anchor=\"middle\" font-size=\"14px\" font-family=\"Arial\">Z^x5</text><rect x=\"3699.865664062499\" y=\"155.0\" width=\"56.593203125\" height=\"40\" stroke=\"black\" fill=\"white\" stroke-width=\"1\" /><text x=\"3728.1622656249992\" y=\"175.0\" dominant-baseline=\"middle\" text-anchor=\"middle\" font-size=\"14px\" font-family=\"Arial\">ZZ^x6</text><rect x=\"3699.865664062499\" y=\"5.0\" width=\"56.593203125\" height=\"40\" stroke=\"black\" fill=\"white\" stroke-width=\"1\" /><text x=\"3728.1622656249992\" y=\"25.0\" dominant-baseline=\"middle\" text-anchor=\"middle\" font-size=\"14px\" font-family=\"Arial\">ZZ</text><rect x=\"3776.458867187499\" y=\"155.0\" width=\"54.85851562500001\" height=\"40\" stroke=\"black\" fill=\"white\" stroke-width=\"1\" /><text x=\"3803.888124999999\" y=\"175.0\" dominant-baseline=\"middle\" text-anchor=\"middle\" font-size=\"14px\" font-family=\"Arial\">YY^x7</text><rect x=\"3776.458867187499\" y=\"5.0\" width=\"54.85851562500001\" height=\"40\" stroke=\"black\" fill=\"white\" stroke-width=\"1\" /><text x=\"3803.888124999999\" y=\"25.0\" dominant-baseline=\"middle\" text-anchor=\"middle\" font-size=\"14px\" font-family=\"Arial\">YY</text><rect x=\"3851.317382812499\" y=\"155.0\" width=\"56.72882812500001\" height=\"40\" stroke=\"black\" fill=\"white\" stroke-width=\"1\" /><text x=\"3879.6817968749992\" y=\"175.0\" dominant-baseline=\"middle\" text-anchor=\"middle\" font-size=\"14px\" font-family=\"Arial\">XX^x8</text><rect x=\"3851.317382812499\" y=\"5.0\" width=\"56.72882812500001\" height=\"40\" stroke=\"black\" fill=\"white\" stroke-width=\"1\" /><text x=\"3879.6817968749992\" y=\"25.0\" dominant-baseline=\"middle\" text-anchor=\"middle\" font-size=\"14px\" font-family=\"Arial\">XX</text><rect x=\"3928.046210937499\" y=\"155.0\" width=\"47.1117578125\" height=\"40\" stroke=\"black\" fill=\"white\" stroke-width=\"1\" /><text x=\"3951.602089843749\" y=\"175.0\" dominant-baseline=\"middle\" text-anchor=\"middle\" font-size=\"14px\" font-family=\"Arial\">X^x9</text><rect x=\"3995.157968749999\" y=\"155.0\" width=\"55.48085937500001\" height=\"40\" stroke=\"black\" fill=\"white\" stroke-width=\"1\" /><text x=\"4022.898398437499\" y=\"175.0\" dominant-baseline=\"middle\" text-anchor=\"middle\" font-size=\"14px\" font-family=\"Arial\">Y^x10</text><rect x=\"4070.6388281249983\" y=\"155.0\" width=\"55.49835937500001\" height=\"40\" stroke=\"black\" fill=\"white\" stroke-width=\"1\" /><text x=\"4098.3880078124985\" y=\"175.0\" dominant-baseline=\"middle\" text-anchor=\"middle\" font-size=\"14px\" font-family=\"Arial\">Z^x11</text><rect x=\"4146.137187499999\" y=\"5.0\" width=\"55.601171875000006\" height=\"40\" stroke=\"black\" fill=\"white\" stroke-width=\"1\" /><text x=\"4173.937773437498\" y=\"25.0\" dominant-baseline=\"middle\" text-anchor=\"middle\" font-size=\"14px\" font-family=\"Arial\">X^x12</text><rect x=\"4221.738359374998\" y=\"5.0\" width=\"55.288359375\" height=\"40\" stroke=\"black\" fill=\"white\" stroke-width=\"1\" /><text x=\"4249.382539062498\" y=\"25.0\" dominant-baseline=\"middle\" text-anchor=\"middle\" font-size=\"14px\" font-family=\"Arial\">Y^x13</text><rect x=\"4297.0267187499985\" y=\"5.0\" width=\"56.005859375\" height=\"40\" stroke=\"black\" fill=\"white\" stroke-width=\"1\" /><text x=\"4325.0296484374985\" y=\"25.0\" dominant-baseline=\"middle\" text-anchor=\"middle\" font-size=\"14px\" font-family=\"Arial\">Z^x14</text></svg>"
      ],
      "text/plain": [
       "<cirq.contrib.svg.svg.SVGCircuit at 0x7f16beac1fd0>"
      ]
     },
     "execution_count": 12,
     "metadata": {},
     "output_type": "execute_result"
    }
   ],
   "source": [
    "#plot the convulational circuit\n",
    "\n",
    "SVGCircuit(\n",
    "    quantum_conv_circuit(cirq.GridQubit.rect(1, 4), sympy.symbols('x0:15')))\n"
   ]
  },
  {
   "cell_type": "markdown",
   "id": "8f691ed2",
   "metadata": {},
   "source": [
    "### CREATE THE MODEL - QCNN WITH ANGLE ENCODING\n",
    "\n",
    "<p style=\"font-size: larger;\"> Decide how many convulational layers, pooling etc.... </p>"
   ]
  },
  {
   "cell_type": "code",
   "execution_count": 13,
   "id": "125edd6c",
   "metadata": {},
   "outputs": [
    {
     "name": "stdout",
     "output_type": "stream",
     "text": [
      "('You must install pydot (`pip install pydot`) and install graphviz (see instructions at https://graphviz.gitlab.io/download/) ', 'for plot_model/model_to_dot to work.')\n"
     ]
    }
   ],
   "source": [
    "def create_model_circuit(qubits):\n",
    "    \"\"\"Create sequence of alternating convolution and pooling operators \n",
    "    which gradually shrink over time.\"\"\"\n",
    "    model_circuit = cirq.Circuit()\n",
    "    symbols = sympy.symbols('qconv0:57')\n",
    "    # Cirq uses sympy.Symbols to map learnable variables. TensorFlow Quantum\n",
    "    # scans incoming circuits and replaces these with TensorFlow variables.\n",
    "#    model_circuit += quantum_conv_circuit(qubits, symbols[0:15])\n",
    "\n",
    "    model_circuit += quantum_conv_circuit(qubits, symbols[0:15])\n",
    "    model_circuit += quantum_pool_circuit(qubits[:3], qubits[3:6], symbols[15:21])\n",
    "    model_circuit += quantum_conv_circuit(qubits[3:], symbols[21:36])\n",
    "    model_circuit += quantum_pool_circuit(qubits[3:6], qubits[6:], symbols[36:42])\n",
    "\n",
    "    model_circuit += qfcc_3q(qubits[6:], symbols[42:57])\n",
    "    \n",
    "    return model_circuit\n",
    "\n",
    "\n",
    "\n",
    "\n",
    "qubits = cirq.GridQubit.rect(1, 9) #grid of qubit \n",
    "readout_operators = cirq.Z(qubits[-1]) #grid of operator i want to average on (final expected value)\n",
    "\n",
    "# Build a sequential model enacting the logic in 1.3 of this notebook.\n",
    "inputs = tf.keras.Input(shape=(), dtype=tf.dtypes.string) #still general input\n",
    "\n",
    "\n",
    "#define the model \n",
    "quantum_model = tfq.layers.PQC(create_model_circuit(qubits),readout_operators)(inputs)\n",
    "\n",
    "qcnn_model = tf.keras.Model(inputs=[inputs], outputs=[quantum_model])\n",
    "\n",
    "# Show the keras plot of the model\n",
    "tf.keras.utils.plot_model(qcnn_model,\n",
    "                          show_shapes=True,\n",
    "                          show_layer_names=False,\n",
    "                          dpi=70)\n"
   ]
  },
  {
   "cell_type": "code",
   "execution_count": 14,
   "id": "c921a21c",
   "metadata": {},
   "outputs": [],
   "source": [
    "import json\n",
    "\n",
    "# Open the file in read mode\n",
    "with open('angle_encoding_train.json', 'r') as f:\n",
    "    # Use json.load() to read the contents of the file\n",
    "    new_circuit = json.load(f)\n",
    "\n",
    "# Close the file\n",
    "f.close()\n",
    "train_circuits_data = [cirq.read_json(json_text=new_circuit[i]) for i in range((5000))]\n",
    "\n",
    "# Open the file in read mode\n",
    "with open('angle_encoding_test.json', 'r') as f:\n",
    "    # Use json.load() to read the contents of the file\n",
    "    new_circuit = json.load(f)\n",
    "\n",
    "# Close the file\n",
    "f.close()\n",
    "test_circuits_data = [cirq.read_json(json_text=new_circuit[i]) for i in range((500))]\n",
    "\n",
    "y_train = np.loadtxt(\"y_train.txt\")\n",
    "y_test = np.loadtxt(\"y_test.txt\")\n",
    "\n",
    "y_train = y_train[:5000]\n",
    "y_test = y_test[:500]\n"
   ]
  },
  {
   "cell_type": "code",
   "execution_count": 15,
   "id": "6da578c9",
   "metadata": {},
   "outputs": [],
   "source": [
    "# convert data to tensors\n",
    "train_circuits_data = tfq.convert_to_tensor(train_circuits_data)\n",
    "test_circuits_data = tfq.convert_to_tensor(test_circuits_data)"
   ]
  },
  {
   "cell_type": "code",
   "execution_count": 16,
   "id": "02522b04",
   "metadata": {},
   "outputs": [
    {
     "name": "stdout",
     "output_type": "stream",
     "text": [
      "Model: \"model\"\n",
      "_________________________________________________________________\n",
      " Layer (type)                Output Shape              Param #   \n",
      "=================================================================\n",
      " input_1 (InputLayer)        [(None,)]                 0         \n",
      "                                                                 \n",
      " pqc (PQC)                   (None, 1)                 57        \n",
      "                                                                 \n",
      "=================================================================\n",
      "Total params: 57\n",
      "Trainable params: 57\n",
      "Non-trainable params: 0\n",
      "_________________________________________________________________\n",
      "None\n"
     ]
    }
   ],
   "source": [
    "# Custom accuracy metric.\n",
    "@tf.function\n",
    "def custom_accuracy(y_true, y_pred):\n",
    "    y_true = tf.squeeze(y_true)\n",
    "    y_pred = tf.map_fn(lambda x: 1.0 if x >= 0 else -1.0, y_pred)\n",
    "    return tf.keras.backend.mean(tf.keras.backend.equal(y_true, y_pred))\n",
    "\n",
    "\n",
    "qcnn_model.compile(optimizer=tf.keras.optimizers.Adam(learning_rate=0.001),\n",
    "                   loss=tf.losses.mse,\n",
    "                   metrics=[custom_accuracy])\n",
    "\n",
    "print(qcnn_model.summary())"
   ]
  },
  {
   "cell_type": "code",
   "execution_count": null,
   "id": "9c2597b3",
   "metadata": {
    "scrolled": true
   },
   "outputs": [
    {
     "name": "stdout",
     "output_type": "stream",
     "text": [
      "Epoch 1/50\n",
      "79/79 [==============================] - 39s 492ms/step - loss: 0.9094 - custom_accuracy: 0.7455 - val_loss: 0.8393 - val_custom_accuracy: 0.8538\n",
      "Epoch 2/50\n",
      "79/79 [==============================] - 38s 486ms/step - loss: 0.8002 - custom_accuracy: 0.8402 - val_loss: 0.7554 - val_custom_accuracy: 0.8738\n",
      "Epoch 3/50\n",
      "79/79 [==============================] - 38s 485ms/step - loss: 0.7470 - custom_accuracy: 0.8372 - val_loss: 0.7167 - val_custom_accuracy: 0.8714\n",
      "Epoch 4/50\n",
      "79/79 [==============================] - 38s 483ms/step - loss: 0.7043 - custom_accuracy: 0.8483 - val_loss: 0.6711 - val_custom_accuracy: 0.8777\n",
      "Epoch 5/50\n",
      "79/79 [==============================] - 38s 486ms/step - loss: 0.6734 - custom_accuracy: 0.8477 - val_loss: 0.6467 - val_custom_accuracy: 0.8831\n",
      "Epoch 6/50\n",
      "79/79 [==============================] - 38s 482ms/step - loss: 0.6512 - custom_accuracy: 0.8562 - val_loss: 0.6264 - val_custom_accuracy: 0.8792\n",
      "Epoch 7/50\n",
      "79/79 [==============================] - 38s 483ms/step - loss: 0.6349 - custom_accuracy: 0.8507 - val_loss: 0.6145 - val_custom_accuracy: 0.8777\n",
      "Epoch 8/50\n",
      "79/79 [==============================] - 39s 488ms/step - loss: 0.6232 - custom_accuracy: 0.8540 - val_loss: 0.6059 - val_custom_accuracy: 0.8753\n",
      "Epoch 9/50\n",
      "79/79 [==============================] - 38s 483ms/step - loss: 0.6164 - custom_accuracy: 0.8511 - val_loss: 0.6005 - val_custom_accuracy: 0.8777\n",
      "Epoch 10/50\n",
      "79/79 [==============================] - 38s 482ms/step - loss: 0.6108 - custom_accuracy: 0.8566 - val_loss: 0.5989 - val_custom_accuracy: 0.8597\n",
      "Epoch 11/50\n",
      "79/79 [==============================] - 38s 485ms/step - loss: 0.6067 - custom_accuracy: 0.8532 - val_loss: 0.5931 - val_custom_accuracy: 0.8777\n",
      "Epoch 12/50\n",
      "79/79 [==============================] - 38s 482ms/step - loss: 0.6024 - custom_accuracy: 0.8536 - val_loss: 0.5927 - val_custom_accuracy: 0.8729\n",
      "Epoch 13/50\n",
      "79/79 [==============================] - 38s 482ms/step - loss: 0.5963 - custom_accuracy: 0.8546 - val_loss: 0.5836 - val_custom_accuracy: 0.8797\n",
      "Epoch 14/50\n",
      "79/79 [==============================] - 38s 486ms/step - loss: 0.5911 - custom_accuracy: 0.8580 - val_loss: 0.5769 - val_custom_accuracy: 0.8694\n",
      "Epoch 15/50\n",
      "79/79 [==============================] - 40s 506ms/step - loss: 0.5838 - custom_accuracy: 0.8594 - val_loss: 0.5710 - val_custom_accuracy: 0.8758\n",
      "Epoch 16/50\n",
      "79/79 [==============================] - 38s 487ms/step - loss: 0.5812 - custom_accuracy: 0.8546 - val_loss: 0.5691 - val_custom_accuracy: 0.8694\n",
      "Epoch 17/50\n",
      "79/79 [==============================] - 38s 487ms/step - loss: 0.5783 - custom_accuracy: 0.8590 - val_loss: 0.5667 - val_custom_accuracy: 0.8694\n",
      "Epoch 18/50\n",
      "79/79 [==============================] - 38s 486ms/step - loss: 0.5751 - custom_accuracy: 0.8602 - val_loss: 0.5629 - val_custom_accuracy: 0.8758\n",
      "Epoch 19/50\n",
      "79/79 [==============================] - 41s 520ms/step - loss: 0.5738 - custom_accuracy: 0.8606 - val_loss: 0.5607 - val_custom_accuracy: 0.8777\n",
      "Epoch 20/50\n",
      "79/79 [==============================] - 39s 498ms/step - loss: 0.5708 - custom_accuracy: 0.8586 - val_loss: 0.5610 - val_custom_accuracy: 0.8797\n",
      "Epoch 21/50\n",
      "79/79 [==============================] - 42s 529ms/step - loss: 0.5719 - custom_accuracy: 0.8602 - val_loss: 0.5602 - val_custom_accuracy: 0.8694\n",
      "Epoch 22/50\n",
      "79/79 [==============================] - 40s 507ms/step - loss: 0.5694 - custom_accuracy: 0.8625 - val_loss: 0.5573 - val_custom_accuracy: 0.8777\n",
      "Epoch 23/50\n",
      "79/79 [==============================] - 39s 495ms/step - loss: 0.5682 - custom_accuracy: 0.8604 - val_loss: 0.5569 - val_custom_accuracy: 0.8738\n",
      "Epoch 24/50\n",
      "79/79 [==============================] - 41s 516ms/step - loss: 0.5679 - custom_accuracy: 0.8604 - val_loss: 0.5565 - val_custom_accuracy: 0.8777\n",
      "Epoch 25/50\n",
      "79/79 [==============================] - 41s 519ms/step - loss: 0.5674 - custom_accuracy: 0.8570 - val_loss: 0.5561 - val_custom_accuracy: 0.8777\n",
      "Epoch 26/50\n",
      "79/79 [==============================] - 39s 495ms/step - loss: 0.5662 - custom_accuracy: 0.8590 - val_loss: 0.5547 - val_custom_accuracy: 0.8777\n",
      "Epoch 27/50\n",
      "79/79 [==============================] - 40s 513ms/step - loss: 0.5658 - custom_accuracy: 0.8578 - val_loss: 0.5543 - val_custom_accuracy: 0.8738\n",
      "Epoch 28/50\n",
      "79/79 [==============================] - 41s 516ms/step - loss: 0.5663 - custom_accuracy: 0.8596 - val_loss: 0.5558 - val_custom_accuracy: 0.8714\n",
      "Epoch 29/50\n",
      "79/79 [==============================] - 39s 500ms/step - loss: 0.5643 - custom_accuracy: 0.8598 - val_loss: 0.5596 - val_custom_accuracy: 0.8577\n",
      "Epoch 30/50\n",
      "79/79 [==============================] - 41s 517ms/step - loss: 0.5648 - custom_accuracy: 0.8568 - val_loss: 0.5536 - val_custom_accuracy: 0.8738\n",
      "Epoch 31/50\n",
      "79/79 [==============================] - 40s 503ms/step - loss: 0.5642 - custom_accuracy: 0.8596 - val_loss: 0.5540 - val_custom_accuracy: 0.8670\n",
      "Epoch 32/50\n",
      "79/79 [==============================] - 38s 483ms/step - loss: 0.5647 - custom_accuracy: 0.8562 - val_loss: 0.5531 - val_custom_accuracy: 0.8738\n",
      "Epoch 33/50\n",
      "79/79 [==============================] - 38s 484ms/step - loss: 0.5627 - custom_accuracy: 0.8582 - val_loss: 0.5534 - val_custom_accuracy: 0.8699\n",
      "Epoch 34/50\n",
      "79/79 [==============================] - 38s 482ms/step - loss: 0.5637 - custom_accuracy: 0.8552 - val_loss: 0.5532 - val_custom_accuracy: 0.8738\n",
      "Epoch 35/50\n",
      "79/79 [==============================] - 38s 479ms/step - loss: 0.5624 - custom_accuracy: 0.8600 - val_loss: 0.5536 - val_custom_accuracy: 0.8714\n",
      "Epoch 36/50\n",
      "79/79 [==============================] - 38s 479ms/step - loss: 0.5619 - custom_accuracy: 0.8546 - val_loss: 0.5519 - val_custom_accuracy: 0.8738\n",
      "Epoch 37/50\n",
      "79/79 [==============================] - 38s 483ms/step - loss: 0.5617 - custom_accuracy: 0.8612 - val_loss: 0.5535 - val_custom_accuracy: 0.8636\n",
      "Epoch 38/50\n",
      "79/79 [==============================] - 38s 484ms/step - loss: 0.5625 - custom_accuracy: 0.8540 - val_loss: 0.5510 - val_custom_accuracy: 0.8738\n",
      "Epoch 39/50\n",
      "79/79 [==============================] - 38s 483ms/step - loss: 0.5609 - custom_accuracy: 0.8608 - val_loss: 0.5512 - val_custom_accuracy: 0.8738\n",
      "Epoch 40/50\n",
      "79/79 [==============================] - 38s 482ms/step - loss: 0.5614 - custom_accuracy: 0.8600 - val_loss: 0.5515 - val_custom_accuracy: 0.8694\n",
      "Epoch 41/50\n",
      "79/79 [==============================] - 38s 485ms/step - loss: 0.5608 - custom_accuracy: 0.8586 - val_loss: 0.5507 - val_custom_accuracy: 0.8738\n",
      "Epoch 42/50\n",
      "79/79 [==============================] - 38s 481ms/step - loss: 0.5613 - custom_accuracy: 0.8606 - val_loss: 0.5515 - val_custom_accuracy: 0.8675\n",
      "Epoch 43/50\n",
      "79/79 [==============================] - 38s 485ms/step - loss: 0.5607 - custom_accuracy: 0.8536 - val_loss: 0.5491 - val_custom_accuracy: 0.8699\n",
      "Epoch 44/50\n",
      "79/79 [==============================] - 45s 574ms/step - loss: 0.5601 - custom_accuracy: 0.8564 - val_loss: 0.5495 - val_custom_accuracy: 0.8718\n",
      "Epoch 45/50\n",
      "79/79 [==============================] - 44s 561ms/step - loss: 0.5591 - custom_accuracy: 0.8602 - val_loss: 0.5491 - val_custom_accuracy: 0.8718\n",
      "Epoch 46/50\n",
      "79/79 [==============================] - 44s 559ms/step - loss: 0.5595 - custom_accuracy: 0.8616 - val_loss: 0.5493 - val_custom_accuracy: 0.8738\n",
      "Epoch 47/50\n",
      "79/79 [==============================] - 38s 483ms/step - loss: 0.5596 - custom_accuracy: 0.8586 - val_loss: 0.5501 - val_custom_accuracy: 0.8699\n",
      "Epoch 48/50\n",
      "79/79 [==============================] - 40s 504ms/step - loss: 0.5598 - custom_accuracy: 0.8570 - val_loss: 0.5487 - val_custom_accuracy: 0.8738\n",
      "Epoch 49/50\n",
      "24/79 [========>.....................] - ETA: 1:05 - loss: 0.5807 - custom_accuracy: 0.8444ETA: 53s - loss: 0.5810 - custom_accuracy: 0.84"
     ]
    }
   ],
   "source": [
    "qcnn_angle = qcnn_model.fit(x=train_circuits_data,\n",
    "                         y=y_train,\n",
    "                         batch_size=64,\n",
    "                         epochs=50,\n",
    "                         verbose=1,\n",
    "                         validation_data=(test_circuits_data, y_test))\n"
   ]
  },
  {
   "cell_type": "markdown",
   "id": "3bf33f18",
   "metadata": {},
   "source": [
    "### ENCODING - BASIS ENCODING"
   ]
  },
  {
   "cell_type": "code",
   "execution_count": 17,
   "id": "b4348f2f",
   "metadata": {},
   "outputs": [],
   "source": [
    "def basis_encoding(qubits, data_row):\n",
    "    \n",
    "    binary_datarow = np.where(data_row>0.5, 1, 0)\n",
    "    circuit = cirq.Circuit()\n",
    "    for i, qubit in enumerate(qubits):\n",
    "        if binary_datarow[i] == 1:\n",
    "            circuit += cirq.X.on(qubit)\n",
    "        circuit \n",
    "    return circuit    \n"
   ]
  },
  {
   "cell_type": "code",
   "execution_count": 18,
   "id": "130065e1",
   "metadata": {},
   "outputs": [],
   "source": [
    "#We want output of 1 of -1\n",
    "y_train = 2.0*y_train - 1.0\n",
    "y_test = 2.0*y_test - 1.0\n",
    "\n",
    "qubits = cirq.GridQubit.rect(1, 9) #grid of qubit -> for angle encoding we have N qubits \n",
    "# for N pixels.\n",
    "\n",
    "quantum_states_train = [np.ravel(x_train_small[i]) for i in range(len(x_train_small))]\n",
    "quantum_states_test = [np.ravel(x_test_small[i]) for i in range(len(x_test_small))]\n",
    "\n",
    "train_circuits_data = [basis_encoding(qubits, quantum_states_train[i]) for i in range(len(quantum_states_train))] \n",
    "test_circuits_data = [basis_encoding(qubits, quantum_states_test[i]) for i in range(len(quantum_states_test))] \n",
    "\n"
   ]
  },
  {
   "cell_type": "code",
   "execution_count": 19,
   "id": "612f7ce4",
   "metadata": {},
   "outputs": [],
   "source": [
    "\n",
    "\n",
    "# convert the training quantum circuits into JSON format using cirq.to_json()\n",
    "\n",
    "json_circuits = [cirq.to_json(train_circuits_data[i]) for i in range(len(train_circuits_data))]\n",
    "\n",
    "# Open a file in write mode\n",
    "with open('basis_encoding_train.json', 'w') as f:\n",
    "    # Use json.dump() to write the list of JSON strings to the file\n",
    "    json.dump(json_circuits, f)\n",
    "\n",
    "# Same for the testing data circuits\n",
    "\n",
    "json_circuits = [cirq.to_json(test_circuits_data[i]) for i in range(len(test_circuits_data))]\n",
    "\n",
    "with open('basis_encoding_test.json', 'w') as f:\n",
    "    json.dump(json_circuits, f)\n",
    "\n",
    "np.savetxt(\"y_train.txt\", y_train)\n",
    "np.savetxt(\"y_test.txt\", y_test)"
   ]
  },
  {
   "cell_type": "code",
   "execution_count": 24,
   "id": "9a12565a",
   "metadata": {},
   "outputs": [
    {
     "name": "stdout",
     "output_type": "stream",
     "text": [
      "('You must install pydot (`pip install pydot`) and install graphviz (see instructions at https://graphviz.gitlab.io/download/) ', 'for plot_model/model_to_dot to work.')\n"
     ]
    }
   ],
   "source": [
    "def create_model_circuit_basis(qubits):\n",
    "    \"\"\"Create sequence of alternating convolution and pooling operators \n",
    "    which gradually shrink over time.\"\"\"\n",
    "    model_circuit = cirq.Circuit()\n",
    "    symbols = sympy.symbols('qconv0:30')\n",
    "    # Cirq uses sympy.Symbols to map learnable variables. TensorFlow Quantum\n",
    "    # scans incoming circuits and replaces these with TensorFlow variables.\n",
    "#    model_circuit += quantum_conv_circuit(qubits, symbols[0:15])\n",
    "\n",
    "    model_circuit += quantum_conv_circuit(qubits, symbols[0:15])\n",
    "    model_circuit += qfcc_3q(qubits[6:], symbols[15:30])\n",
    "    \n",
    "\n",
    "    \n",
    "    \n",
    "    return model_circuit\n",
    "\n",
    "qubits = cirq.GridQubit.rect(1, 9) #grid of qubit \n",
    "readout_operators = cirq.Z(qubits[-1]) #grid of operator i want to average on (final expected value)\n",
    "\n",
    "# Build a sequential model enacting the logic in 1.3 of this notebook.\n",
    "inputs = tf.keras.Input(shape=(), dtype=tf.dtypes.string) #still general input\n",
    "\n",
    "\n",
    "\n",
    "#define the model \n",
    "quantum_model = tfq.layers.PQC(create_model_circuit_basis(qubits),readout_operators)(inputs)\n",
    "\n",
    "qcnn_model = tf.keras.Model(inputs=[inputs], outputs=[quantum_model])\n",
    "\n",
    "# Show the keras plot of the model\n",
    "tf.keras.utils.plot_model(qcnn_model,\n",
    "                          show_shapes=True,\n",
    "                          show_layer_names=False,\n",
    "                          dpi=70)\n"
   ]
  },
  {
   "cell_type": "code",
   "execution_count": 25,
   "id": "21678d78",
   "metadata": {},
   "outputs": [],
   "source": [
    "import json\n",
    "\n",
    "# Open the file in read mode\n",
    "with open('basis_encoding_train.json', 'r') as f:\n",
    "    # Use json.load() to read the contents of the file\n",
    "    new_circuit = json.load(f)\n",
    "\n",
    "# Close the file\n",
    "f.close()\n",
    "train_circuits_data = [cirq.read_json(json_text=new_circuit[i]) for i in range((5000))]\n",
    "\n",
    "# Open the file in read mode\n",
    "with open('basis_encoding_test.json', 'r') as f:\n",
    "    # Use json.load() to read the contents of the file\n",
    "    new_circuit = json.load(f)\n",
    "\n",
    "# Close the file\n",
    "f.close()\n",
    "test_circuits_data = [cirq.read_json(json_text=new_circuit[i]) for i in range((500))]\n",
    "\n",
    "y_train = np.loadtxt(\"y_train.txt\")\n",
    "y_test = np.loadtxt(\"y_test.txt\")\n",
    "\n",
    "y_train = y_train[:5000]\n",
    "y_test = y_test[:500]\n"
   ]
  },
  {
   "cell_type": "code",
   "execution_count": 26,
   "id": "037b4712",
   "metadata": {},
   "outputs": [],
   "source": [
    "# convert data to tensors\n",
    "train_circuits_data = tfq.convert_to_tensor(train_circuits_data)\n",
    "test_circuits_data = tfq.convert_to_tensor(test_circuits_data)"
   ]
  },
  {
   "cell_type": "code",
   "execution_count": 27,
   "id": "58c4bfdf",
   "metadata": {
    "scrolled": true
   },
   "outputs": [
    {
     "name": "stdout",
     "output_type": "stream",
     "text": [
      "Model: \"model_2\"\n",
      "_________________________________________________________________\n",
      " Layer (type)                Output Shape              Param #   \n",
      "=================================================================\n",
      " input_3 (InputLayer)        [(None,)]                 0         \n",
      "                                                                 \n",
      " pqc_2 (PQC)                 (None, 1)                 30        \n",
      "                                                                 \n",
      "=================================================================\n",
      "Total params: 30\n",
      "Trainable params: 30\n",
      "Non-trainable params: 0\n",
      "_________________________________________________________________\n",
      "None\n"
     ]
    }
   ],
   "source": [
    "qcnn_model.compile(optimizer=tf.keras.optimizers.Adam(learning_rate=0.001),\n",
    "                   loss=tf.losses.mse,\n",
    "                   metrics=[custom_accuracy])\n",
    "\n",
    "print(qcnn_model.summary())"
   ]
  },
  {
   "cell_type": "code",
   "execution_count": 166,
   "id": "34bfb40d",
   "metadata": {
    "scrolled": true
   },
   "outputs": [
    {
     "name": "stdout",
     "output_type": "stream",
     "text": [
      "Epoch 1/50\n",
      "79/79 [==============================] - 16s 196ms/step - loss: 1.2632 - custom_accuracy: 0.5125 - val_loss: 0.8645 - val_custom_accuracy: 0.5380\n",
      "Epoch 2/50\n",
      "79/79 [==============================] - 15s 194ms/step - loss: 0.7501 - custom_accuracy: 0.8052 - val_loss: 0.6514 - val_custom_accuracy: 0.8343\n",
      "Epoch 3/50\n",
      "79/79 [==============================] - 15s 194ms/step - loss: 0.6353 - custom_accuracy: 0.8222 - val_loss: 0.5863 - val_custom_accuracy: 0.8343\n",
      "Epoch 4/50\n",
      "79/79 [==============================] - 16s 198ms/step - loss: 0.6000 - custom_accuracy: 0.8222 - val_loss: 0.5629 - val_custom_accuracy: 0.8343\n",
      "Epoch 5/50\n",
      "79/79 [==============================] - 16s 207ms/step - loss: 0.5858 - custom_accuracy: 0.8222 - val_loss: 0.5526 - val_custom_accuracy: 0.8343\n",
      "Epoch 6/50\n",
      "79/79 [==============================] - 16s 196ms/step - loss: 0.5788 - custom_accuracy: 0.8236 - val_loss: 0.5459 - val_custom_accuracy: 0.8343\n",
      "Epoch 7/50\n",
      "79/79 [==============================] - 16s 208ms/step - loss: 0.5729 - custom_accuracy: 0.8250 - val_loss: 0.5412 - val_custom_accuracy: 0.8343\n",
      "Epoch 8/50\n",
      "79/79 [==============================] - 16s 208ms/step - loss: 0.5686 - custom_accuracy: 0.8222 - val_loss: 0.5366 - val_custom_accuracy: 0.8343\n",
      "Epoch 9/50\n",
      "79/79 [==============================] - 16s 205ms/step - loss: 0.5648 - custom_accuracy: 0.8236 - val_loss: 0.5339 - val_custom_accuracy: 0.8343\n",
      "Epoch 10/50\n",
      "79/79 [==============================] - 16s 198ms/step - loss: 0.5616 - custom_accuracy: 0.8167 - val_loss: 0.5333 - val_custom_accuracy: 0.8343\n",
      "Epoch 11/50\n",
      "79/79 [==============================] - 16s 197ms/step - loss: 0.5605 - custom_accuracy: 0.8153 - val_loss: 0.5312 - val_custom_accuracy: 0.8284\n",
      "Epoch 12/50\n",
      "79/79 [==============================] - 16s 207ms/step - loss: 0.5597 - custom_accuracy: 0.8153 - val_loss: 0.5316 - val_custom_accuracy: 0.8284\n",
      "Epoch 13/50\n",
      "79/79 [==============================] - 16s 206ms/step - loss: 0.5583 - custom_accuracy: 0.8167 - val_loss: 0.5305 - val_custom_accuracy: 0.8284\n",
      "Epoch 14/50\n",
      "79/79 [==============================] - 16s 198ms/step - loss: 0.5579 - custom_accuracy: 0.8153 - val_loss: 0.5304 - val_custom_accuracy: 0.8284\n",
      "Epoch 15/50\n",
      "79/79 [==============================] - 16s 197ms/step - loss: 0.5576 - custom_accuracy: 0.8153 - val_loss: 0.5314 - val_custom_accuracy: 0.8284\n",
      "Epoch 16/50\n",
      "79/79 [==============================] - 15s 196ms/step - loss: 0.5575 - custom_accuracy: 0.8125 - val_loss: 0.5303 - val_custom_accuracy: 0.8284\n",
      "Epoch 17/50\n",
      "79/79 [==============================] - 16s 200ms/step - loss: 0.5572 - custom_accuracy: 0.8139 - val_loss: 0.5299 - val_custom_accuracy: 0.8284\n",
      "Epoch 18/50\n",
      "79/79 [==============================] - 18s 224ms/step - loss: 0.5573 - custom_accuracy: 0.8125 - val_loss: 0.5307 - val_custom_accuracy: 0.8284\n",
      "Epoch 19/50\n",
      "79/79 [==============================] - 18s 231ms/step - loss: 0.5574 - custom_accuracy: 0.8139 - val_loss: 0.5303 - val_custom_accuracy: 0.8284\n",
      "Epoch 20/50\n",
      "79/79 [==============================] - 22s 284ms/step - loss: 0.5562 - custom_accuracy: 0.8153 - val_loss: 0.5304 - val_custom_accuracy: 0.8284\n",
      "Epoch 21/50\n",
      "79/79 [==============================] - 20s 251ms/step - loss: 0.5584 - custom_accuracy: 0.8139 - val_loss: 0.5298 - val_custom_accuracy: 0.8284\n",
      "Epoch 22/50\n",
      "79/79 [==============================] - 20s 257ms/step - loss: 0.5564 - custom_accuracy: 0.8139 - val_loss: 0.5306 - val_custom_accuracy: 0.8284\n",
      "Epoch 23/50\n",
      "79/79 [==============================] - 24s 307ms/step - loss: 0.5562 - custom_accuracy: 0.8139 - val_loss: 0.5331 - val_custom_accuracy: 0.8284\n",
      "Epoch 24/50\n",
      "79/79 [==============================] - 22s 279ms/step - loss: 0.5568 - custom_accuracy: 0.8167 - val_loss: 0.5296 - val_custom_accuracy: 0.8284\n",
      "Epoch 25/50\n",
      "79/79 [==============================] - 21s 264ms/step - loss: 0.5571 - custom_accuracy: 0.8167 - val_loss: 0.5297 - val_custom_accuracy: 0.8284\n",
      "Epoch 26/50\n",
      "79/79 [==============================] - 21s 272ms/step - loss: 0.5571 - custom_accuracy: 0.8167 - val_loss: 0.5296 - val_custom_accuracy: 0.8284\n",
      "Epoch 27/50\n",
      "79/79 [==============================] - 21s 266ms/step - loss: 0.5570 - custom_accuracy: 0.8153 - val_loss: 0.5298 - val_custom_accuracy: 0.8284\n",
      "Epoch 28/50\n",
      "79/79 [==============================] - 22s 281ms/step - loss: 0.5573 - custom_accuracy: 0.8153 - val_loss: 0.5301 - val_custom_accuracy: 0.8284\n",
      "Epoch 29/50\n",
      "79/79 [==============================] - 22s 275ms/step - loss: 0.5566 - custom_accuracy: 0.8139 - val_loss: 0.5316 - val_custom_accuracy: 0.8284\n",
      "Epoch 30/50\n",
      "79/79 [==============================] - 22s 284ms/step - loss: 0.5565 - custom_accuracy: 0.8139 - val_loss: 0.5294 - val_custom_accuracy: 0.8284\n",
      "Epoch 31/50\n",
      "79/79 [==============================] - 22s 284ms/step - loss: 0.5570 - custom_accuracy: 0.8139 - val_loss: 0.5297 - val_custom_accuracy: 0.8284\n",
      "Epoch 32/50\n",
      "79/79 [==============================] - 22s 281ms/step - loss: 0.5567 - custom_accuracy: 0.8139 - val_loss: 0.5298 - val_custom_accuracy: 0.8284\n",
      "Epoch 33/50\n",
      "79/79 [==============================] - 23s 286ms/step - loss: 0.5568 - custom_accuracy: 0.8167 - val_loss: 0.5295 - val_custom_accuracy: 0.8284\n",
      "Epoch 34/50\n",
      "79/79 [==============================] - 23s 286ms/step - loss: 0.5570 - custom_accuracy: 0.8167 - val_loss: 0.5299 - val_custom_accuracy: 0.8284\n",
      "Epoch 35/50\n",
      "79/79 [==============================] - 21s 263ms/step - loss: 0.5569 - custom_accuracy: 0.8167 - val_loss: 0.5295 - val_custom_accuracy: 0.8284\n",
      "Epoch 36/50\n",
      "79/79 [==============================] - 23s 287ms/step - loss: 0.5564 - custom_accuracy: 0.8125 - val_loss: 0.5318 - val_custom_accuracy: 0.8284\n",
      "Epoch 37/50\n",
      "79/79 [==============================] - 22s 278ms/step - loss: 0.5568 - custom_accuracy: 0.8111 - val_loss: 0.5294 - val_custom_accuracy: 0.8284\n",
      "Epoch 38/50\n",
      "79/79 [==============================] - 22s 274ms/step - loss: 0.5566 - custom_accuracy: 0.8125 - val_loss: 0.5293 - val_custom_accuracy: 0.8284\n",
      "Epoch 39/50\n",
      "79/79 [==============================] - 21s 271ms/step - loss: 0.5566 - custom_accuracy: 0.8139 - val_loss: 0.5291 - val_custom_accuracy: 0.8284\n",
      "Epoch 40/50\n",
      "79/79 [==============================] - 21s 262ms/step - loss: 0.5562 - custom_accuracy: 0.8111 - val_loss: 0.5307 - val_custom_accuracy: 0.8284\n",
      "Epoch 41/50\n",
      "79/79 [==============================] - 21s 268ms/step - loss: 0.5571 - custom_accuracy: 0.8167 - val_loss: 0.5293 - val_custom_accuracy: 0.8284\n",
      "Epoch 42/50\n",
      "79/79 [==============================] - 23s 285ms/step - loss: 0.5567 - custom_accuracy: 0.8167 - val_loss: 0.5292 - val_custom_accuracy: 0.8284\n",
      "Epoch 43/50\n",
      "79/79 [==============================] - 25s 316ms/step - loss: 0.5564 - custom_accuracy: 0.8167 - val_loss: 0.5294 - val_custom_accuracy: 0.8284\n",
      "Epoch 44/50\n",
      "79/79 [==============================] - 24s 304ms/step - loss: 0.5561 - custom_accuracy: 0.8125 - val_loss: 0.5312 - val_custom_accuracy: 0.8284\n",
      "Epoch 45/50\n",
      "79/79 [==============================] - 22s 274ms/step - loss: 0.5566 - custom_accuracy: 0.8125 - val_loss: 0.5312 - val_custom_accuracy: 0.8284\n",
      "Epoch 46/50\n",
      "79/79 [==============================] - 22s 282ms/step - loss: 0.5562 - custom_accuracy: 0.8139 - val_loss: 0.5291 - val_custom_accuracy: 0.8284\n",
      "Epoch 47/50\n",
      "79/79 [==============================] - 21s 265ms/step - loss: 0.5569 - custom_accuracy: 0.8139 - val_loss: 0.5313 - val_custom_accuracy: 0.8284\n",
      "Epoch 48/50\n",
      "79/79 [==============================] - 21s 267ms/step - loss: 0.5573 - custom_accuracy: 0.8139 - val_loss: 0.5295 - val_custom_accuracy: 0.8284\n",
      "Epoch 49/50\n",
      "79/79 [==============================] - 21s 269ms/step - loss: 0.5566 - custom_accuracy: 0.8153 - val_loss: 0.5321 - val_custom_accuracy: 0.8284\n",
      "Epoch 50/50\n",
      "79/79 [==============================] - 21s 261ms/step - loss: 0.5564 - custom_accuracy: 0.8111 - val_loss: 0.5296 - val_custom_accuracy: 0.8284\n"
     ]
    }
   ],
   "source": [
    "qcnn_basis = qcnn_model.fit(x=train_circuits_data,\n",
    "                         y=y_train,\n",
    "                         batch_size=64,\n",
    "                         epochs=50,\n",
    "                         verbose=1,\n",
    "                         validation_data=(test_circuits_data, y_test))\n"
   ]
  },
  {
   "cell_type": "markdown",
   "id": "b030edba",
   "metadata": {},
   "source": [
    "# CLASSICAL CNN"
   ]
  },
  {
   "cell_type": "markdown",
   "id": "33ff0084",
   "metadata": {},
   "source": [
    "## CLASSICAL CNN - LENET MODEL"
   ]
  },
  {
   "cell_type": "code",
   "execution_count": 28,
   "id": "cda026f9",
   "metadata": {},
   "outputs": [
    {
     "name": "stderr",
     "output_type": "stream",
     "text": [
      "2023-07-11 16:44:49.502520: W tensorflow/core/framework/cpu_allocator_impl.cc:82] Allocation of 75571328 exceeds 10% of free system memory.\n"
     ]
    }
   ],
   "source": [
    "(x_train, y_train), (x_test, y_test) = tf.keras.datasets.mnist.load_data()\n",
    "x_train, x_test = x_train[..., np.newaxis]/255.0, x_test[..., np.newaxis]/255.0\n",
    "x_train, y_train = filter_36(x_train, y_train)\n",
    "x_test, y_test = filter_36(x_test, y_test)\n",
    "x_train_small = tf.image.resize(x_train, (3,3)).numpy()\n",
    "x_test_small = tf.image.resize(x_test, (3,3)).numpy()"
   ]
  },
  {
   "cell_type": "code",
   "execution_count": 29,
   "id": "45703889",
   "metadata": {},
   "outputs": [
    {
     "name": "stdout",
     "output_type": "stream",
     "text": [
      "Model: \"sequential\"\n",
      "_________________________________________________________________\n",
      " Layer (type)                Output Shape              Param #   \n",
      "=================================================================\n",
      " conv2d (Conv2D)             (None, 3, 3, 32)          160       \n",
      "                                                                 \n",
      " conv2d_1 (Conv2D)           (None, 3, 3, 64)          8256      \n",
      "                                                                 \n",
      " max_pooling2d (MaxPooling2D  (None, 1, 1, 64)         0         \n",
      " )                                                               \n",
      "                                                                 \n",
      " dropout (Dropout)           (None, 1, 1, 64)          0         \n",
      "                                                                 \n",
      " flatten (Flatten)           (None, 64)                0         \n",
      "                                                                 \n",
      " dense (Dense)               (None, 128)               8320      \n",
      "                                                                 \n",
      " dropout_1 (Dropout)         (None, 128)               0         \n",
      "                                                                 \n",
      " dense_1 (Dense)             (None, 1)                 129       \n",
      "                                                                 \n",
      "=================================================================\n",
      "Total params: 16,865\n",
      "Trainable params: 16,865\n",
      "Non-trainable params: 0\n",
      "_________________________________________________________________\n"
     ]
    }
   ],
   "source": [
    "def cnn_lenet5():\n",
    "    # A simple model based off LeNet5 from https://www.tensorflow.org/quantum/tutorials/mnist\n",
    "    model = tf.keras.Sequential()\n",
    "    model.add(tf.keras.layers.Conv2D(32, [2, 2], activation='relu', padding=\"same\", input_shape=(3,3,1))) # changed input shape\n",
    "    model.add(tf.keras.layers.Conv2D(64, [2, 2], activation='relu', padding=\"same\"))\n",
    "    model.add(tf.keras.layers.MaxPooling2D(pool_size=(2, 2)))\n",
    "    model.add(tf.keras.layers.Dropout(0.25))\n",
    "    model.add(tf.keras.layers.Flatten())\n",
    "    model.add(tf.keras.layers.Dense(128, activation='relu'))\n",
    "    model.add(tf.keras.layers.Dropout(0.5))\n",
    "    model.add(tf.keras.layers.Dense(1))\n",
    "    return model\n",
    "\n",
    "\n",
    "model = cnn_lenet5()\n",
    "model.compile(loss=tf.keras.losses.BinaryCrossentropy(from_logits=True),\n",
    "              optimizer=tf.keras.optimizers.Adam(),\n",
    "              metrics=['accuracy'])\n",
    "\n",
    "model.summary()"
   ]
  },
  {
   "cell_type": "code",
   "execution_count": 30,
   "id": "1ddbddef",
   "metadata": {
    "scrolled": true
   },
   "outputs": [
    {
     "name": "stdout",
     "output_type": "stream",
     "text": [
      "Epoch 1/50\n",
      "95/95 [==============================] - 1s 4ms/step - loss: 0.4453 - accuracy: 0.7874 - val_loss: 0.2778 - val_accuracy: 0.8877\n",
      "Epoch 2/50\n",
      "95/95 [==============================] - 0s 3ms/step - loss: 0.3078 - accuracy: 0.8754 - val_loss: 0.2638 - val_accuracy: 0.8994\n",
      "Epoch 3/50\n",
      "95/95 [==============================] - 0s 3ms/step - loss: 0.2976 - accuracy: 0.8802 - val_loss: 0.2608 - val_accuracy: 0.9024\n",
      "Epoch 4/50\n",
      "95/95 [==============================] - 0s 3ms/step - loss: 0.2915 - accuracy: 0.8837 - val_loss: 0.2549 - val_accuracy: 0.9019\n",
      "Epoch 5/50\n",
      "95/95 [==============================] - 0s 3ms/step - loss: 0.2863 - accuracy: 0.8859 - val_loss: 0.2536 - val_accuracy: 0.8943\n",
      "Epoch 6/50\n",
      "95/95 [==============================] - 0s 3ms/step - loss: 0.2807 - accuracy: 0.8881 - val_loss: 0.2480 - val_accuracy: 0.9004\n",
      "Epoch 7/50\n",
      "95/95 [==============================] - 0s 3ms/step - loss: 0.2761 - accuracy: 0.8908 - val_loss: 0.2486 - val_accuracy: 0.9096\n",
      "Epoch 8/50\n",
      "95/95 [==============================] - 0s 3ms/step - loss: 0.2758 - accuracy: 0.8919 - val_loss: 0.2439 - val_accuracy: 0.9085\n",
      "Epoch 9/50\n",
      "95/95 [==============================] - 0s 3ms/step - loss: 0.2732 - accuracy: 0.8923 - val_loss: 0.2539 - val_accuracy: 0.8958\n",
      "Epoch 10/50\n",
      "95/95 [==============================] - 0s 3ms/step - loss: 0.2688 - accuracy: 0.8924 - val_loss: 0.2371 - val_accuracy: 0.9040\n",
      "Epoch 11/50\n",
      "95/95 [==============================] - 0s 3ms/step - loss: 0.2689 - accuracy: 0.8941 - val_loss: 0.2373 - val_accuracy: 0.9111\n",
      "Epoch 12/50\n",
      "95/95 [==============================] - 0s 3ms/step - loss: 0.2644 - accuracy: 0.8948 - val_loss: 0.2330 - val_accuracy: 0.9106\n",
      "Epoch 13/50\n",
      "95/95 [==============================] - 0s 3ms/step - loss: 0.2609 - accuracy: 0.8954 - val_loss: 0.2303 - val_accuracy: 0.9111\n",
      "Epoch 14/50\n",
      "95/95 [==============================] - 0s 3ms/step - loss: 0.2601 - accuracy: 0.8984 - val_loss: 0.2299 - val_accuracy: 0.9151\n",
      "Epoch 15/50\n",
      "95/95 [==============================] - 0s 3ms/step - loss: 0.2586 - accuracy: 0.8973 - val_loss: 0.2290 - val_accuracy: 0.9136\n",
      "Epoch 16/50\n",
      "95/95 [==============================] - 0s 3ms/step - loss: 0.2544 - accuracy: 0.9003 - val_loss: 0.2338 - val_accuracy: 0.9080\n",
      "Epoch 17/50\n",
      "95/95 [==============================] - 0s 3ms/step - loss: 0.2543 - accuracy: 0.8992 - val_loss: 0.2309 - val_accuracy: 0.9182\n",
      "Epoch 18/50\n",
      "95/95 [==============================] - 0s 3ms/step - loss: 0.2559 - accuracy: 0.9002 - val_loss: 0.2261 - val_accuracy: 0.9121\n",
      "Epoch 19/50\n",
      "95/95 [==============================] - 0s 3ms/step - loss: 0.2510 - accuracy: 0.8992 - val_loss: 0.2207 - val_accuracy: 0.9151\n",
      "Epoch 20/50\n",
      "95/95 [==============================] - 0s 3ms/step - loss: 0.2480 - accuracy: 0.9034 - val_loss: 0.2216 - val_accuracy: 0.9136\n",
      "Epoch 21/50\n",
      "95/95 [==============================] - 0s 3ms/step - loss: 0.2514 - accuracy: 0.8999 - val_loss: 0.2217 - val_accuracy: 0.9131\n",
      "Epoch 22/50\n",
      "95/95 [==============================] - 0s 3ms/step - loss: 0.2517 - accuracy: 0.9022 - val_loss: 0.2323 - val_accuracy: 0.9080\n",
      "Epoch 23/50\n",
      "95/95 [==============================] - 0s 3ms/step - loss: 0.2473 - accuracy: 0.9013 - val_loss: 0.2204 - val_accuracy: 0.9151\n",
      "Epoch 24/50\n",
      "95/95 [==============================] - 0s 3ms/step - loss: 0.2471 - accuracy: 0.9052 - val_loss: 0.2228 - val_accuracy: 0.9162\n",
      "Epoch 25/50\n",
      "95/95 [==============================] - 0s 3ms/step - loss: 0.2505 - accuracy: 0.9008 - val_loss: 0.2217 - val_accuracy: 0.9116\n",
      "Epoch 26/50\n",
      "95/95 [==============================] - 0s 3ms/step - loss: 0.2445 - accuracy: 0.9031 - val_loss: 0.2198 - val_accuracy: 0.9116\n",
      "Epoch 27/50\n",
      "95/95 [==============================] - 0s 3ms/step - loss: 0.2438 - accuracy: 0.9044 - val_loss: 0.2211 - val_accuracy: 0.9157\n",
      "Epoch 28/50\n",
      "95/95 [==============================] - 0s 3ms/step - loss: 0.2424 - accuracy: 0.9051 - val_loss: 0.2162 - val_accuracy: 0.9141\n",
      "Epoch 29/50\n",
      "95/95 [==============================] - 0s 3ms/step - loss: 0.2428 - accuracy: 0.9055 - val_loss: 0.2228 - val_accuracy: 0.9101\n",
      "Epoch 30/50\n",
      "95/95 [==============================] - 0s 3ms/step - loss: 0.2402 - accuracy: 0.9036 - val_loss: 0.2180 - val_accuracy: 0.9131\n",
      "Epoch 31/50\n",
      "95/95 [==============================] - 0s 3ms/step - loss: 0.2418 - accuracy: 0.9053 - val_loss: 0.2211 - val_accuracy: 0.9111\n",
      "Epoch 32/50\n",
      "95/95 [==============================] - 0s 3ms/step - loss: 0.2409 - accuracy: 0.9049 - val_loss: 0.2228 - val_accuracy: 0.9116\n",
      "Epoch 33/50\n",
      "95/95 [==============================] - 0s 3ms/step - loss: 0.2408 - accuracy: 0.9064 - val_loss: 0.2167 - val_accuracy: 0.9136\n",
      "Epoch 34/50\n",
      "95/95 [==============================] - 0s 3ms/step - loss: 0.2398 - accuracy: 0.9060 - val_loss: 0.2154 - val_accuracy: 0.9131\n",
      "Epoch 35/50\n",
      "95/95 [==============================] - 0s 3ms/step - loss: 0.2390 - accuracy: 0.9052 - val_loss: 0.2279 - val_accuracy: 0.9182\n",
      "Epoch 36/50\n",
      "95/95 [==============================] - 0s 3ms/step - loss: 0.2413 - accuracy: 0.9052 - val_loss: 0.2141 - val_accuracy: 0.9167\n",
      "Epoch 37/50\n",
      "95/95 [==============================] - 0s 3ms/step - loss: 0.2372 - accuracy: 0.9068 - val_loss: 0.2175 - val_accuracy: 0.9126\n",
      "Epoch 38/50\n",
      "95/95 [==============================] - 0s 3ms/step - loss: 0.2406 - accuracy: 0.9066 - val_loss: 0.2156 - val_accuracy: 0.9197\n",
      "Epoch 39/50\n",
      "95/95 [==============================] - 0s 3ms/step - loss: 0.2384 - accuracy: 0.9063 - val_loss: 0.2143 - val_accuracy: 0.9146\n",
      "Epoch 40/50\n",
      "95/95 [==============================] - 0s 3ms/step - loss: 0.2371 - accuracy: 0.9075 - val_loss: 0.2107 - val_accuracy: 0.9172\n",
      "Epoch 41/50\n",
      "95/95 [==============================] - 0s 3ms/step - loss: 0.2349 - accuracy: 0.9082 - val_loss: 0.2230 - val_accuracy: 0.9233\n",
      "Epoch 42/50\n",
      "95/95 [==============================] - 0s 3ms/step - loss: 0.2343 - accuracy: 0.9076 - val_loss: 0.2156 - val_accuracy: 0.9167\n",
      "Epoch 43/50\n",
      "95/95 [==============================] - 0s 3ms/step - loss: 0.2338 - accuracy: 0.9090 - val_loss: 0.2152 - val_accuracy: 0.9192\n",
      "Epoch 44/50\n",
      "95/95 [==============================] - 0s 3ms/step - loss: 0.2337 - accuracy: 0.9080 - val_loss: 0.2210 - val_accuracy: 0.9101\n",
      "Epoch 45/50\n",
      "95/95 [==============================] - 0s 3ms/step - loss: 0.2362 - accuracy: 0.9071 - val_loss: 0.2169 - val_accuracy: 0.9202\n",
      "Epoch 46/50\n",
      "95/95 [==============================] - 0s 3ms/step - loss: 0.2319 - accuracy: 0.9087 - val_loss: 0.2164 - val_accuracy: 0.9202\n",
      "Epoch 47/50\n",
      "95/95 [==============================] - 0s 3ms/step - loss: 0.2356 - accuracy: 0.9078 - val_loss: 0.2154 - val_accuracy: 0.9116\n",
      "Epoch 48/50\n",
      "95/95 [==============================] - 0s 3ms/step - loss: 0.2324 - accuracy: 0.9090 - val_loss: 0.2129 - val_accuracy: 0.9136\n",
      "Epoch 49/50\n",
      "95/95 [==============================] - 0s 3ms/step - loss: 0.2295 - accuracy: 0.9093 - val_loss: 0.2168 - val_accuracy: 0.9172\n",
      "Epoch 50/50\n",
      "95/95 [==============================] - 0s 3ms/step - loss: 0.2341 - accuracy: 0.9068 - val_loss: 0.2118 - val_accuracy: 0.9151\n",
      "62/62 [==============================] - 0s 811us/step - loss: 0.2118 - accuracy: 0.9151\n"
     ]
    }
   ],
   "source": [
    "lenet5 = model.fit(x_train_small,\n",
    "          y_train,\n",
    "          batch_size=128,\n",
    "          epochs=50,\n",
    "          verbose=1, # see the results with different output and animation dure the training\n",
    "          validation_data=(x_test_small, y_test))\n",
    "\n",
    "lenet5_results = model.evaluate(x_test_small, y_test)\n"
   ]
  },
  {
   "cell_type": "markdown",
   "id": "03c825c9",
   "metadata": {},
   "source": [
    "## FAIR CLASSICAL MODEL - FNN "
   ]
  },
  {
   "cell_type": "markdown",
   "id": "6697fb99",
   "metadata": {},
   "source": [
    "<p style=\"font-size:larger;\"> For the QCNN model we have used 57 parameters to train the model. Instead the Classic CNN uses almost 17,000 parameters. We should then expect that our Classical CNN behaves much better. In order to perform a fair comparision instead we will use a forward NN with an approximate number of parameters as the QCNN. </p>"
   ]
  },
  {
   "cell_type": "code",
   "execution_count": 31,
   "id": "37da8e50",
   "metadata": {},
   "outputs": [
    {
     "name": "stdout",
     "output_type": "stream",
     "text": [
      "Model: \"sequential_1\"\n",
      "_________________________________________________________________\n",
      " Layer (type)                Output Shape              Param #   \n",
      "=================================================================\n",
      " flatten_1 (Flatten)         (None, 9)                 0         \n",
      "                                                                 \n",
      " dense_2 (Dense)             (None, 3)                 30        \n",
      "                                                                 \n",
      " dense_3 (Dense)             (None, 5)                 20        \n",
      "                                                                 \n",
      " dense_4 (Dense)             (None, 1)                 6         \n",
      "                                                                 \n",
      "=================================================================\n",
      "Total params: 56\n",
      "Trainable params: 56\n",
      "Non-trainable params: 0\n",
      "_________________________________________________________________\n"
     ]
    }
   ],
   "source": [
    "def fair_fnn():\n",
    "    model = tf.keras.Sequential()\n",
    "    model.add(tf.keras.layers.Flatten(input_shape=(3, 3, 1)))\n",
    "    model.add(tf.keras.layers.Dense(3, activation=\"relu\"))\n",
    "    model.add(tf.keras.layers.Dense(5, activation=\"relu\"))\n",
    "    model.add(tf.keras.layers.Dense(1))\n",
    "    return model\n",
    "\n",
    "\n",
    "model = fair_fnn()\n",
    "model.compile(loss=tf.keras.losses.BinaryCrossentropy(from_logits=True),\n",
    "              optimizer=tf.keras.optimizers.Adam(),\n",
    "              metrics=['accuracy'])\n",
    "\n",
    "model.summary()\n",
    "\n"
   ]
  },
  {
   "cell_type": "code",
   "execution_count": 179,
   "id": "3490bb3c",
   "metadata": {
    "scrolled": true
   },
   "outputs": [
    {
     "name": "stdout",
     "output_type": "stream",
     "text": [
      "Epoch 1/50\n",
      "95/95 - 0s - loss: 0.6758 - accuracy: 0.4912 - val_loss: 0.6557 - val_accuracy: 0.4868 - 439ms/epoch - 5ms/step\n",
      "Epoch 2/50\n",
      "95/95 - 0s - loss: 0.6267 - accuracy: 0.5137 - val_loss: 0.5822 - val_accuracy: 0.6692 - 82ms/epoch - 867us/step\n",
      "Epoch 3/50\n",
      "95/95 - 0s - loss: 0.5433 - accuracy: 0.7782 - val_loss: 0.4861 - val_accuracy: 0.8420 - 84ms/epoch - 886us/step\n",
      "Epoch 4/50\n",
      "95/95 - 0s - loss: 0.4554 - accuracy: 0.8459 - val_loss: 0.4022 - val_accuracy: 0.8725 - 88ms/epoch - 921us/step\n",
      "Epoch 5/50\n",
      "95/95 - 0s - loss: 0.3887 - accuracy: 0.8601 - val_loss: 0.3450 - val_accuracy: 0.8780 - 95ms/epoch - 1ms/step\n",
      "Epoch 6/50\n",
      "95/95 - 0s - loss: 0.3460 - accuracy: 0.8670 - val_loss: 0.3103 - val_accuracy: 0.8811 - 91ms/epoch - 961us/step\n",
      "Epoch 7/50\n",
      "95/95 - 0s - loss: 0.3212 - accuracy: 0.8704 - val_loss: 0.2902 - val_accuracy: 0.8862 - 95ms/epoch - 1ms/step\n",
      "Epoch 8/50\n",
      "95/95 - 0s - loss: 0.3070 - accuracy: 0.8743 - val_loss: 0.2785 - val_accuracy: 0.8892 - 101ms/epoch - 1ms/step\n",
      "Epoch 9/50\n",
      "95/95 - 0s - loss: 0.2984 - accuracy: 0.8787 - val_loss: 0.2710 - val_accuracy: 0.8897 - 103ms/epoch - 1ms/step\n",
      "Epoch 10/50\n",
      "95/95 - 0s - loss: 0.2930 - accuracy: 0.8799 - val_loss: 0.2663 - val_accuracy: 0.8918 - 88ms/epoch - 921us/step\n",
      "Epoch 11/50\n",
      "95/95 - 0s - loss: 0.2891 - accuracy: 0.8823 - val_loss: 0.2629 - val_accuracy: 0.8968 - 88ms/epoch - 926us/step\n",
      "Epoch 12/50\n",
      "95/95 - 0s - loss: 0.2864 - accuracy: 0.8840 - val_loss: 0.2602 - val_accuracy: 0.8984 - 89ms/epoch - 933us/step\n",
      "Epoch 13/50\n",
      "95/95 - 0s - loss: 0.2841 - accuracy: 0.8865 - val_loss: 0.2584 - val_accuracy: 0.8974 - 89ms/epoch - 936us/step\n",
      "Epoch 14/50\n",
      "95/95 - 0s - loss: 0.2825 - accuracy: 0.8869 - val_loss: 0.2568 - val_accuracy: 0.8999 - 103ms/epoch - 1ms/step\n",
      "Epoch 15/50\n",
      "95/95 - 0s - loss: 0.2812 - accuracy: 0.8887 - val_loss: 0.2556 - val_accuracy: 0.8999 - 100ms/epoch - 1ms/step\n",
      "Epoch 16/50\n",
      "95/95 - 0s - loss: 0.2797 - accuracy: 0.8891 - val_loss: 0.2537 - val_accuracy: 0.9004 - 85ms/epoch - 895us/step\n",
      "Epoch 17/50\n",
      "95/95 - 0s - loss: 0.2785 - accuracy: 0.8897 - val_loss: 0.2523 - val_accuracy: 0.9004 - 89ms/epoch - 935us/step\n",
      "Epoch 18/50\n",
      "95/95 - 0s - loss: 0.2774 - accuracy: 0.8905 - val_loss: 0.2513 - val_accuracy: 0.9014 - 94ms/epoch - 989us/step\n",
      "Epoch 19/50\n",
      "95/95 - 0s - loss: 0.2765 - accuracy: 0.8919 - val_loss: 0.2502 - val_accuracy: 0.9024 - 99ms/epoch - 1ms/step\n",
      "Epoch 20/50\n",
      "95/95 - 0s - loss: 0.2757 - accuracy: 0.8920 - val_loss: 0.2499 - val_accuracy: 0.9004 - 93ms/epoch - 977us/step\n",
      "Epoch 21/50\n",
      "95/95 - 0s - loss: 0.2751 - accuracy: 0.8921 - val_loss: 0.2486 - val_accuracy: 0.9035 - 89ms/epoch - 940us/step\n",
      "Epoch 22/50\n",
      "95/95 - 0s - loss: 0.2743 - accuracy: 0.8934 - val_loss: 0.2481 - val_accuracy: 0.9019 - 88ms/epoch - 927us/step\n",
      "Epoch 23/50\n",
      "95/95 - 0s - loss: 0.2737 - accuracy: 0.8942 - val_loss: 0.2474 - val_accuracy: 0.9040 - 89ms/epoch - 941us/step\n",
      "Epoch 24/50\n",
      "95/95 - 0s - loss: 0.2730 - accuracy: 0.8945 - val_loss: 0.2467 - val_accuracy: 0.9045 - 87ms/epoch - 918us/step\n",
      "Epoch 25/50\n",
      "95/95 - 0s - loss: 0.2725 - accuracy: 0.8947 - val_loss: 0.2462 - val_accuracy: 0.9040 - 88ms/epoch - 926us/step\n",
      "Epoch 26/50\n",
      "95/95 - 0s - loss: 0.2721 - accuracy: 0.8950 - val_loss: 0.2457 - val_accuracy: 0.9045 - 88ms/epoch - 925us/step\n",
      "Epoch 27/50\n",
      "95/95 - 0s - loss: 0.2713 - accuracy: 0.8953 - val_loss: 0.2451 - val_accuracy: 0.9050 - 89ms/epoch - 935us/step\n",
      "Epoch 28/50\n",
      "95/95 - 0s - loss: 0.2711 - accuracy: 0.8947 - val_loss: 0.2446 - val_accuracy: 0.9050 - 88ms/epoch - 921us/step\n",
      "Epoch 29/50\n",
      "95/95 - 0s - loss: 0.2704 - accuracy: 0.8957 - val_loss: 0.2444 - val_accuracy: 0.9040 - 88ms/epoch - 931us/step\n",
      "Epoch 30/50\n",
      "95/95 - 0s - loss: 0.2704 - accuracy: 0.8951 - val_loss: 0.2437 - val_accuracy: 0.9060 - 87ms/epoch - 918us/step\n",
      "Epoch 31/50\n",
      "95/95 - 0s - loss: 0.2695 - accuracy: 0.8953 - val_loss: 0.2432 - val_accuracy: 0.9055 - 88ms/epoch - 929us/step\n",
      "Epoch 32/50\n",
      "95/95 - 0s - loss: 0.2690 - accuracy: 0.8953 - val_loss: 0.2430 - val_accuracy: 0.9055 - 91ms/epoch - 959us/step\n",
      "Epoch 33/50\n",
      "95/95 - 0s - loss: 0.2688 - accuracy: 0.8958 - val_loss: 0.2425 - val_accuracy: 0.9065 - 88ms/epoch - 922us/step\n",
      "Epoch 34/50\n",
      "95/95 - 0s - loss: 0.2685 - accuracy: 0.8963 - val_loss: 0.2421 - val_accuracy: 0.9055 - 90ms/epoch - 947us/step\n",
      "Epoch 35/50\n",
      "95/95 - 0s - loss: 0.2680 - accuracy: 0.8966 - val_loss: 0.2417 - val_accuracy: 0.9055 - 89ms/epoch - 932us/step\n",
      "Epoch 36/50\n",
      "95/95 - 0s - loss: 0.2679 - accuracy: 0.8965 - val_loss: 0.2414 - val_accuracy: 0.9055 - 90ms/epoch - 945us/step\n",
      "Epoch 37/50\n",
      "95/95 - 0s - loss: 0.2674 - accuracy: 0.8973 - val_loss: 0.2410 - val_accuracy: 0.9055 - 88ms/epoch - 931us/step\n",
      "Epoch 38/50\n",
      "95/95 - 0s - loss: 0.2671 - accuracy: 0.8971 - val_loss: 0.2406 - val_accuracy: 0.9075 - 87ms/epoch - 916us/step\n",
      "Epoch 39/50\n",
      "95/95 - 0s - loss: 0.2666 - accuracy: 0.8973 - val_loss: 0.2404 - val_accuracy: 0.9060 - 88ms/epoch - 922us/step\n",
      "Epoch 40/50\n",
      "95/95 - 0s - loss: 0.2663 - accuracy: 0.8978 - val_loss: 0.2400 - val_accuracy: 0.9080 - 87ms/epoch - 912us/step\n",
      "Epoch 41/50\n",
      "95/95 - 0s - loss: 0.2660 - accuracy: 0.8971 - val_loss: 0.2398 - val_accuracy: 0.9075 - 86ms/epoch - 909us/step\n",
      "Epoch 42/50\n",
      "95/95 - 0s - loss: 0.2656 - accuracy: 0.8974 - val_loss: 0.2396 - val_accuracy: 0.9070 - 87ms/epoch - 921us/step\n",
      "Epoch 43/50\n",
      "95/95 - 0s - loss: 0.2655 - accuracy: 0.8978 - val_loss: 0.2392 - val_accuracy: 0.9070 - 88ms/epoch - 925us/step\n",
      "Epoch 44/50\n",
      "95/95 - 0s - loss: 0.2654 - accuracy: 0.8978 - val_loss: 0.2388 - val_accuracy: 0.9080 - 89ms/epoch - 933us/step\n",
      "Epoch 45/50\n",
      "95/95 - 0s - loss: 0.2649 - accuracy: 0.8976 - val_loss: 0.2386 - val_accuracy: 0.9080 - 89ms/epoch - 932us/step\n",
      "Epoch 46/50\n",
      "95/95 - 0s - loss: 0.2648 - accuracy: 0.8985 - val_loss: 0.2385 - val_accuracy: 0.9065 - 97ms/epoch - 1ms/step\n",
      "Epoch 47/50\n",
      "95/95 - 0s - loss: 0.2644 - accuracy: 0.8984 - val_loss: 0.2381 - val_accuracy: 0.9075 - 95ms/epoch - 1ms/step\n",
      "Epoch 48/50\n",
      "95/95 - 0s - loss: 0.2643 - accuracy: 0.8984 - val_loss: 0.2377 - val_accuracy: 0.9075 - 98ms/epoch - 1ms/step\n",
      "Epoch 49/50\n",
      "95/95 - 0s - loss: 0.2639 - accuracy: 0.8991 - val_loss: 0.2375 - val_accuracy: 0.9085 - 91ms/epoch - 961us/step\n",
      "Epoch 50/50\n",
      "95/95 - 0s - loss: 0.2635 - accuracy: 0.8988 - val_loss: 0.2374 - val_accuracy: 0.9075 - 85ms/epoch - 893us/step\n",
      "62/62 [==============================] - 0s 640us/step - loss: 0.2374 - accuracy: 0.9075\n"
     ]
    }
   ],
   "source": [
    "fnn = model.fit(x_train_small,\n",
    "          y_train,\n",
    "          batch_size=128,\n",
    "          epochs=50,\n",
    "          verbose=2,\n",
    "          validation_data=(x_test_small, y_test))\n",
    "\n",
    "fnn_results = model.evaluate(x_test_small, y_test)\n"
   ]
  },
  {
   "cell_type": "code",
   "execution_count": 180,
   "id": "539e392b",
   "metadata": {},
   "outputs": [],
   "source": [
    "results = {\"qcnn_angle\":qcnn_angle.history, \"lenet5\": lenet5.history, \"fnn\":fnn.history}\n",
    "\n",
    "# store results\n",
    "with open('results_3by3_angle.json', 'w') as f:\n",
    "    json.dump(results, f)"
   ]
  },
  {
   "cell_type": "markdown",
   "id": "70df6435",
   "metadata": {},
   "source": [
    "### FAIR MODEL BASIS ENCODING"
   ]
  },
  {
   "cell_type": "code",
   "execution_count": 201,
   "id": "6be4c058",
   "metadata": {},
   "outputs": [
    {
     "name": "stdout",
     "output_type": "stream",
     "text": [
      "Model: \"sequential_12\"\n",
      "_________________________________________________________________\n",
      " Layer (type)                Output Shape              Param #   \n",
      "=================================================================\n",
      " flatten_12 (Flatten)        (None, 9)                 0         \n",
      "                                                                 \n",
      " dense_30 (Dense)            (None, 3)                 30        \n",
      "                                                                 \n",
      " dense_31 (Dense)            (None, 1)                 4         \n",
      "                                                                 \n",
      "=================================================================\n",
      "Total params: 34\n",
      "Trainable params: 34\n",
      "Non-trainable params: 0\n",
      "_________________________________________________________________\n"
     ]
    }
   ],
   "source": [
    "def fair_fnn_basis():\n",
    "    model = tf.keras.Sequential()\n",
    "    model.add(tf.keras.layers.Flatten(input_shape=(3, 3, 1)))\n",
    "    model.add(tf.keras.layers.Dense(3, activation=\"relu\"))\n",
    "    model.add(tf.keras.layers.Dense(1))\n",
    "    return model\n",
    "\n",
    "\n",
    "model = fair_fnn_basis()\n",
    "model.compile(loss=tf.keras.losses.BinaryCrossentropy(from_logits=True),\n",
    "              optimizer=tf.keras.optimizers.Adam(),\n",
    "              metrics=['accuracy'])\n",
    "\n",
    "model.summary()\n",
    "\n"
   ]
  },
  {
   "cell_type": "code",
   "execution_count": 203,
   "id": "99bebc45",
   "metadata": {
    "scrolled": true
   },
   "outputs": [
    {
     "name": "stdout",
     "output_type": "stream",
     "text": [
      "Epoch 1/50\n",
      "95/95 - 0s - loss: 0.2814 - accuracy: 0.8845 - val_loss: 0.2599 - val_accuracy: 0.8933 - 98ms/epoch - 1ms/step\n",
      "Epoch 2/50\n",
      "95/95 - 0s - loss: 0.2812 - accuracy: 0.8842 - val_loss: 0.2598 - val_accuracy: 0.8948 - 77ms/epoch - 805us/step\n",
      "Epoch 3/50\n",
      "95/95 - 0s - loss: 0.2810 - accuracy: 0.8851 - val_loss: 0.2596 - val_accuracy: 0.8948 - 84ms/epoch - 880us/step\n",
      "Epoch 4/50\n",
      "95/95 - 0s - loss: 0.2807 - accuracy: 0.8848 - val_loss: 0.2594 - val_accuracy: 0.8938 - 84ms/epoch - 886us/step\n",
      "Epoch 5/50\n",
      "95/95 - 0s - loss: 0.2805 - accuracy: 0.8846 - val_loss: 0.2592 - val_accuracy: 0.8948 - 82ms/epoch - 868us/step\n",
      "Epoch 6/50\n",
      "95/95 - 0s - loss: 0.2804 - accuracy: 0.8853 - val_loss: 0.2590 - val_accuracy: 0.8948 - 83ms/epoch - 871us/step\n",
      "Epoch 7/50\n",
      "95/95 - 0s - loss: 0.2801 - accuracy: 0.8849 - val_loss: 0.2589 - val_accuracy: 0.8948 - 83ms/epoch - 876us/step\n",
      "Epoch 8/50\n",
      "95/95 - 0s - loss: 0.2800 - accuracy: 0.8851 - val_loss: 0.2587 - val_accuracy: 0.8953 - 83ms/epoch - 876us/step\n",
      "Epoch 9/50\n",
      "95/95 - 0s - loss: 0.2798 - accuracy: 0.8846 - val_loss: 0.2586 - val_accuracy: 0.8953 - 86ms/epoch - 909us/step\n",
      "Epoch 10/50\n",
      "95/95 - 0s - loss: 0.2797 - accuracy: 0.8857 - val_loss: 0.2584 - val_accuracy: 0.8953 - 83ms/epoch - 870us/step\n",
      "Epoch 11/50\n",
      "95/95 - 0s - loss: 0.2794 - accuracy: 0.8840 - val_loss: 0.2583 - val_accuracy: 0.8963 - 84ms/epoch - 880us/step\n",
      "Epoch 12/50\n",
      "95/95 - 0s - loss: 0.2793 - accuracy: 0.8855 - val_loss: 0.2581 - val_accuracy: 0.8958 - 88ms/epoch - 925us/step\n",
      "Epoch 13/50\n",
      "95/95 - 0s - loss: 0.2790 - accuracy: 0.8857 - val_loss: 0.2581 - val_accuracy: 0.8948 - 83ms/epoch - 873us/step\n",
      "Epoch 14/50\n",
      "95/95 - 0s - loss: 0.2788 - accuracy: 0.8852 - val_loss: 0.2579 - val_accuracy: 0.8968 - 92ms/epoch - 972us/step\n",
      "Epoch 15/50\n",
      "95/95 - 0s - loss: 0.2787 - accuracy: 0.8865 - val_loss: 0.2577 - val_accuracy: 0.8948 - 87ms/epoch - 912us/step\n",
      "Epoch 16/50\n",
      "95/95 - 0s - loss: 0.2786 - accuracy: 0.8856 - val_loss: 0.2575 - val_accuracy: 0.8948 - 92ms/epoch - 974us/step\n",
      "Epoch 17/50\n",
      "95/95 - 0s - loss: 0.2782 - accuracy: 0.8846 - val_loss: 0.2575 - val_accuracy: 0.8968 - 84ms/epoch - 885us/step\n",
      "Epoch 18/50\n",
      "95/95 - 0s - loss: 0.2784 - accuracy: 0.8863 - val_loss: 0.2572 - val_accuracy: 0.8948 - 82ms/epoch - 866us/step\n",
      "Epoch 19/50\n",
      "95/95 - 0s - loss: 0.2782 - accuracy: 0.8852 - val_loss: 0.2571 - val_accuracy: 0.8968 - 94ms/epoch - 987us/step\n",
      "Epoch 20/50\n",
      "95/95 - 0s - loss: 0.2779 - accuracy: 0.8861 - val_loss: 0.2569 - val_accuracy: 0.8953 - 86ms/epoch - 907us/step\n",
      "Epoch 21/50\n",
      "95/95 - 0s - loss: 0.2777 - accuracy: 0.8856 - val_loss: 0.2567 - val_accuracy: 0.8963 - 84ms/epoch - 881us/step\n",
      "Epoch 22/50\n",
      "95/95 - 0s - loss: 0.2775 - accuracy: 0.8869 - val_loss: 0.2568 - val_accuracy: 0.8948 - 86ms/epoch - 903us/step\n",
      "Epoch 23/50\n",
      "95/95 - 0s - loss: 0.2775 - accuracy: 0.8860 - val_loss: 0.2565 - val_accuracy: 0.8953 - 93ms/epoch - 983us/step\n",
      "Epoch 24/50\n",
      "95/95 - 0s - loss: 0.2773 - accuracy: 0.8856 - val_loss: 0.2563 - val_accuracy: 0.8958 - 82ms/epoch - 868us/step\n",
      "Epoch 25/50\n",
      "95/95 - 0s - loss: 0.2771 - accuracy: 0.8866 - val_loss: 0.2562 - val_accuracy: 0.8958 - 86ms/epoch - 905us/step\n",
      "Epoch 26/50\n",
      "95/95 - 0s - loss: 0.2769 - accuracy: 0.8865 - val_loss: 0.2561 - val_accuracy: 0.8958 - 98ms/epoch - 1ms/step\n",
      "Epoch 27/50\n",
      "95/95 - 0s - loss: 0.2768 - accuracy: 0.8860 - val_loss: 0.2559 - val_accuracy: 0.8968 - 82ms/epoch - 860us/step\n",
      "Epoch 28/50\n",
      "95/95 - 0s - loss: 0.2766 - accuracy: 0.8863 - val_loss: 0.2558 - val_accuracy: 0.8963 - 82ms/epoch - 860us/step\n",
      "Epoch 29/50\n",
      "95/95 - 0s - loss: 0.2765 - accuracy: 0.8864 - val_loss: 0.2556 - val_accuracy: 0.8968 - 82ms/epoch - 860us/step\n",
      "Epoch 30/50\n",
      "95/95 - 0s - loss: 0.2763 - accuracy: 0.8867 - val_loss: 0.2556 - val_accuracy: 0.8968 - 85ms/epoch - 894us/step\n",
      "Epoch 31/50\n",
      "95/95 - 0s - loss: 0.2762 - accuracy: 0.8870 - val_loss: 0.2554 - val_accuracy: 0.8968 - 89ms/epoch - 936us/step\n",
      "Epoch 32/50\n",
      "95/95 - 0s - loss: 0.2761 - accuracy: 0.8860 - val_loss: 0.2554 - val_accuracy: 0.8979 - 82ms/epoch - 867us/step\n",
      "Epoch 33/50\n",
      "95/95 - 0s - loss: 0.2759 - accuracy: 0.8865 - val_loss: 0.2551 - val_accuracy: 0.8968 - 83ms/epoch - 875us/step\n",
      "Epoch 34/50\n",
      "95/95 - 0s - loss: 0.2758 - accuracy: 0.8865 - val_loss: 0.2550 - val_accuracy: 0.8968 - 81ms/epoch - 851us/step\n",
      "Epoch 35/50\n",
      "95/95 - 0s - loss: 0.2756 - accuracy: 0.8862 - val_loss: 0.2549 - val_accuracy: 0.8979 - 84ms/epoch - 883us/step\n",
      "Epoch 36/50\n",
      "95/95 - 0s - loss: 0.2756 - accuracy: 0.8866 - val_loss: 0.2548 - val_accuracy: 0.8979 - 111ms/epoch - 1ms/step\n",
      "Epoch 37/50\n",
      "95/95 - 0s - loss: 0.2753 - accuracy: 0.8866 - val_loss: 0.2546 - val_accuracy: 0.8974 - 83ms/epoch - 871us/step\n",
      "Epoch 38/50\n",
      "95/95 - 0s - loss: 0.2752 - accuracy: 0.8871 - val_loss: 0.2545 - val_accuracy: 0.8979 - 78ms/epoch - 820us/step\n",
      "Epoch 39/50\n",
      "95/95 - 0s - loss: 0.2750 - accuracy: 0.8872 - val_loss: 0.2545 - val_accuracy: 0.8974 - 90ms/epoch - 950us/step\n",
      "Epoch 40/50\n",
      "95/95 - 0s - loss: 0.2752 - accuracy: 0.8870 - val_loss: 0.2543 - val_accuracy: 0.8984 - 95ms/epoch - 1ms/step\n",
      "Epoch 41/50\n",
      "95/95 - 0s - loss: 0.2747 - accuracy: 0.8871 - val_loss: 0.2544 - val_accuracy: 0.8968 - 94ms/epoch - 994us/step\n",
      "Epoch 42/50\n",
      "95/95 - 0s - loss: 0.2749 - accuracy: 0.8868 - val_loss: 0.2541 - val_accuracy: 0.8984 - 86ms/epoch - 902us/step\n",
      "Epoch 43/50\n",
      "95/95 - 0s - loss: 0.2745 - accuracy: 0.8874 - val_loss: 0.2540 - val_accuracy: 0.8974 - 84ms/epoch - 885us/step\n",
      "Epoch 44/50\n",
      "95/95 - 0s - loss: 0.2743 - accuracy: 0.8866 - val_loss: 0.2538 - val_accuracy: 0.8979 - 94ms/epoch - 993us/step\n",
      "Epoch 45/50\n",
      "95/95 - 0s - loss: 0.2744 - accuracy: 0.8868 - val_loss: 0.2538 - val_accuracy: 0.8974 - 98ms/epoch - 1ms/step\n",
      "Epoch 46/50\n",
      "95/95 - 0s - loss: 0.2742 - accuracy: 0.8870 - val_loss: 0.2537 - val_accuracy: 0.8974 - 87ms/epoch - 920us/step\n",
      "Epoch 47/50\n",
      "95/95 - 0s - loss: 0.2740 - accuracy: 0.8875 - val_loss: 0.2536 - val_accuracy: 0.8974 - 83ms/epoch - 873us/step\n",
      "Epoch 48/50\n",
      "95/95 - 0s - loss: 0.2740 - accuracy: 0.8870 - val_loss: 0.2534 - val_accuracy: 0.8984 - 88ms/epoch - 924us/step\n",
      "Epoch 49/50\n",
      "95/95 - 0s - loss: 0.2738 - accuracy: 0.8877 - val_loss: 0.2532 - val_accuracy: 0.8984 - 92ms/epoch - 973us/step\n",
      "Epoch 50/50\n",
      "95/95 - 0s - loss: 0.2737 - accuracy: 0.8870 - val_loss: 0.2531 - val_accuracy: 0.8984 - 85ms/epoch - 890us/step\n",
      "62/62 [==============================] - 0s 621us/step - loss: 0.2531 - accuracy: 0.8984\n"
     ]
    }
   ],
   "source": [
    "fnn_b = model.fit(x_train_small,\n",
    "          y_train,\n",
    "          batch_size=128,\n",
    "          epochs=50,\n",
    "          verbose=2,\n",
    "          validation_data=(x_test_small, y_test))\n",
    "\n",
    "fnn_results = model.evaluate(x_test_small, y_test)\n"
   ]
  },
  {
   "cell_type": "code",
   "execution_count": 204,
   "id": "6c798a95",
   "metadata": {},
   "outputs": [],
   "source": [
    "results = {\"qcnn_basis\":qcnn_basis.history, \"lenet5\": lenet5.history, \"fnn\":fnn_b.history}\n",
    "\n",
    "# store results\n",
    "with open('results_3by3_basis.json', 'w') as f:\n",
    "    json.dump(results, f)"
   ]
  },
  {
   "cell_type": "markdown",
   "id": "afc228c5",
   "metadata": {},
   "source": [
    "## PLOTS"
   ]
  },
  {
   "cell_type": "markdown",
   "id": "bf40d3a8",
   "metadata": {},
   "source": [
    "### BASIS ENCODING"
   ]
  },
  {
   "cell_type": "code",
   "execution_count": 209,
   "id": "de82770b",
   "metadata": {},
   "outputs": [],
   "source": [
    "### LOAD RESULTS\n",
    "\n",
    "filename = \"results_3by3_basis.json\"\n",
    "with open(filename, \"r\") as f:\n",
    "    results = json.load(f)\n",
    "\n",
    "\n",
    "qcnn_basis_results = results[\"qcnn_basis\"]\n",
    "lenet5_results = results[\"lenet5\"]\n",
    "fnn_results = results[\"fnn\"]\n",
    "\n"
   ]
  },
  {
   "cell_type": "code",
   "execution_count": 211,
   "id": "1452595f",
   "metadata": {},
   "outputs": [
    {
     "data": {
      "image/png": "[encoded data removed]",
      "text/plain": [
       "<Figure size 600x600 with 2 Axes>"
      ]
     },
     "metadata": {},
     "output_type": "display_data"
    }
   ],
   "source": [
    "fig, axLL = plt.subplots(1, 1 , figsize=(6, 6))\n",
    "\n",
    "q_basis = qcnn_basis_results[\"val_custom_accuracy\"]\n",
    "l5 = lenet5_results[\"val_accuracy\"]\n",
    "f = fnn_results[\"val_accuracy\"]\n",
    "\n",
    "\n",
    "axLL.plot(q_basis,\"-.\", marker= \"x\", markersize=3, label = \"QCNN\", color=\"violet\")\n",
    "axLL.plot(l5,\"-.\", marker= \"x\", markersize=3, label = \"Not-fair Classical \", color=\"orange\")\n",
    "axLL.plot(f,\"-.\", marker= \"o\", markersize=2, label = \"Fair Classical\", color=\"green\")\n",
    "\n",
    "\n",
    "\n",
    "axLL.set_xlabel(\"epochs\")\n",
    "axLL.set_ylabel(\"Accuracy\")\n",
    "axLL.legend(loc = 'best')\n",
    "axLL.set_title(\"Classical-Quantum comparison\")\n",
    "#axLL.set_ylim(-5.7,-5.1)\n",
    "#plt.ylim(-0.2,0.1)\n",
    "axLL.grid(True, which= \"both\")\n",
    "l, b, h, w = .4, .35, .2, .45\n",
    "ax3 = fig.add_axes([l, b, w, h])\n",
    "plt.ylim(0.7, 1.1)\n",
    "x = [\"QCNN\", \"Not-fair\\nClassical\", \"Fair Classical\"]\n",
    "y = [np.mean(q_basis[30:]), np.mean(l5[30:]), np.mean(f[30:])]\n",
    "plt.bar(x,y, color=(\"violet\", \"orange\",\"green\" ))\n",
    "# Adding labels to each bar\n",
    "\n",
    "for i in range(len(x)):\n",
    "    plt.text(x[i], y[i], '{:.3f}'.format(y[i]), ha='center', va='bottom')\n",
    "    \n",
    "plt.savefig(\"basis_encoding.jpg\")"
   ]
  },
  {
   "cell_type": "code",
   "execution_count": 213,
   "id": "b71e87ae",
   "metadata": {},
   "outputs": [
    {
     "data": {
      "image/png": "[encoded data removed]",
      "text/plain": [
       "<Figure size 600x600 with 1 Axes>"
      ]
     },
     "metadata": {},
     "output_type": "display_data"
    }
   ],
   "source": [
    "fig, axLL = plt.subplots(1, 1 , figsize=(6, 6))\n",
    "\n",
    "val_loss = qcnn_basis_results[\"val_loss\"]\n",
    "tr_loss = qcnn_basis_results[\"loss\"]\n",
    "\n",
    "\n",
    "axLL.plot(tr_loss,\"-.\", marker= \"o\", markersize=2, label = \"Training Loss\", color=\"green\")\n",
    "axLL.plot(val_loss,\"-.\", marker= \"x\", markersize=3, label = \"Validation Loss\", color=\"violet\")\n",
    "\n",
    "axLL.set_xlabel(\"epochs\")\n",
    "axLL.set_ylabel(\"Loss\")\n",
    "axLL.legend(loc = 'best')\n",
    "axLL.set_title(\"Quantum model Loss function\")\n",
    "#axLL.set_ylim(-5.7,-5.1)\n",
    "#plt.ylim(-0.2,0.1)\n",
    "axLL.grid(True, which= \"both\")\n",
    "\n",
    "plt.savefig(\"basis_encoding_loss.jpg\")"
   ]
  },
  {
   "cell_type": "markdown",
   "id": "85e8b657",
   "metadata": {},
   "source": [
    "### ANGLE ENCODING"
   ]
  },
  {
   "cell_type": "code",
   "execution_count": 181,
   "id": "742358bc",
   "metadata": {},
   "outputs": [],
   "source": [
    "### LOAD RESULTS\n",
    "\n",
    "filename = \"results_3by3_angle.json\"\n",
    "with open(filename, \"r\") as f:\n",
    "    results = json.load(f)\n",
    "\n",
    "\n",
    "qcnn_angle_results = results[\"qcnn_angle\"]\n",
    "lenet5_results = results[\"lenet5\"]\n",
    "fnn_results = results[\"fnn\"]"
   ]
  },
  {
   "cell_type": "code",
   "execution_count": 212,
   "id": "98db225b",
   "metadata": {
    "scrolled": false
   },
   "outputs": [
    {
     "data": {
      "image/png": "[encoded data removed]",
      "text/plain": [
       "<Figure size 600x600 with 2 Axes>"
      ]
     },
     "metadata": {},
     "output_type": "display_data"
    }
   ],
   "source": [
    "fig, axLL = plt.subplots(1, 1 , figsize=(6, 6))\n",
    "\n",
    "q_angle = qcnn_angle_results[\"val_custom_accuracy\"]\n",
    "l5 = lenet5_results[\"val_accuracy\"]\n",
    "f = fnn_results[\"val_accuracy\"]\n",
    "\n",
    "\n",
    "axLL.plot(q_angle,\"-.\", marker= \"x\", markersize=3, label = \"QCNN\", color=\"violet\")\n",
    "axLL.plot(l5,\"-.\", marker= \"x\", markersize=3, label = \"Not-fair Classical \", color=\"orange\")\n",
    "axLL.plot(f,\"-.\", marker= \"o\", markersize=2, label = \"Fair Classical\", color=\"green\")\n",
    "\n",
    "\n",
    "\n",
    "axLL.set_xlabel(\"epochs\")\n",
    "axLL.set_ylabel(\"Accuracy\")\n",
    "axLL.legend(loc = 'best')\n",
    "axLL.set_title(\"Classical-Quantum comparison\")\n",
    "#axLL.set_ylim(-5.7,-5.1)\n",
    "#plt.ylim(-0.2,0.1)\n",
    "axLL.grid(True, which= \"both\")\n",
    "l, b, h, w = .4, .35, .2, .45\n",
    "ax3 = fig.add_axes([l, b, w, h])\n",
    "plt.ylim(0.7, 1.1)\n",
    "x = [\"QCNN\", \"Not-fair\\nClassical\", \"Fair Classical\"]\n",
    "y = [np.mean(q_angle[30:]), np.mean(l5[30:]), np.mean(f[30:])]\n",
    "plt.bar(x,y, color=(\"violet\", \"orange\",\"green\" ))\n",
    "# Adding labels to each bar\n",
    "\n",
    "for i in range(len(x)):\n",
    "    plt.text(x[i], y[i], '{:.3f}'.format(y[i]), ha='center', va='bottom')\n",
    "    \n",
    "plt.savefig(\"angle_encoding.jpg\")"
   ]
  },
  {
   "cell_type": "code",
   "execution_count": 193,
   "id": "6217e282",
   "metadata": {},
   "outputs": [
    {
     "data": {
      "image/png": "[encoded data removed]",
      "text/plain": [
       "<Figure size 600x600 with 1 Axes>"
      ]
     },
     "metadata": {},
     "output_type": "display_data"
    }
   ],
   "source": [
    "fig, axLL = plt.subplots(1, 1 , figsize=(6, 6))\n",
    "\n",
    "val_loss = qcnn_angle_results[\"val_loss\"]\n",
    "tr_loss = qcnn_angle_results[\"loss\"]\n",
    "\n",
    "\n",
    "axLL.plot(tr_loss,\"-.\", marker= \"o\", markersize=2, label = \"Training Loss\", color=\"green\")\n",
    "axLL.plot(val_loss,\"-.\", marker= \"x\", markersize=3, label = \"Validation Loss\", color=\"violet\")\n",
    "\n",
    "axLL.set_xlabel(\"epochs\")\n",
    "axLL.set_ylabel(\"Loss\")\n",
    "axLL.legend(loc = 'best')\n",
    "axLL.set_title(\"Quantum model Loss function\")\n",
    "#axLL.set_ylim(-5.7,-5.1)\n",
    "#plt.ylim(-0.2,0.1)\n",
    "axLL.grid(True, which= \"both\")\n",
    "\n",
    "plt.savefig(\"angle_encoding_loss.jpg\")"
   ]
  },
  {
   "cell_type": "markdown",
   "id": "698a79ab",
   "metadata": {},
   "source": [
    "## PARAMETRIZED CIRCUITS"
   ]
  },
  {
   "cell_type": "code",
   "execution_count": 32,
   "id": "4f927145",
   "metadata": {},
   "outputs": [],
   "source": [
    "def circuit_2(symbols, qubits):\n",
    "    circuit = cirq.Circuit()\n",
    "    \n",
    "    circuit += cirq.rx(symbols[0]).on(qubits[0])\n",
    "    circuit += cirq.rx(symbols[1]).on(qubits[1])\n",
    "    circuit += cirq.rx(symbols[2]).on(qubits[2])\n",
    "    circuit += cirq.rx(symbols[3]).on(qubits[3])\n",
    "\n",
    "    circuit += cirq.rz(symbols[4]).on(qubits[0])\n",
    "    circuit += cirq.rz(symbols[5]).on(qubits[1])\n",
    "    circuit += cirq.rz(symbols[6]).on(qubits[2])\n",
    "    circuit += cirq.rz(symbols[7]).on(qubits[3])\n",
    "        \n",
    "    circuit += cirq.CNOT(qubits[1], qubits[0])\n",
    "    circuit += cirq.CNOT(qubits[2], qubits[1])\n",
    "    circuit += cirq.CNOT(qubits[3], qubits[2])\n",
    "    \n",
    "    return circuit\n",
    "\n",
    "def circuit_11(symbols, qubits):\n",
    "    circuit = cirq.Circuit()\n",
    "    \n",
    "    circuit += cirq.ry(symbols[0]).on(qubits[0])\n",
    "    circuit += cirq.ry(symbols[1]).on(qubits[1])\n",
    "    circuit += cirq.ry(symbols[2]).on(qubits[2])\n",
    "    circuit += cirq.ry(symbols[3]).on(qubits[3])\n",
    "\n",
    "    circuit += cirq.rz(symbols[4]).on(qubits[0])\n",
    "    circuit += cirq.rz(symbols[5]).on(qubits[1])\n",
    "    circuit += cirq.rz(symbols[6]).on(qubits[2])\n",
    "    circuit += cirq.rz(symbols[7]).on(qubits[3])\n",
    "\n",
    "    circuit += cirq.CNOT(qubits[1], qubits[0])\n",
    "    circuit += cirq.CNOT(qubits[3], qubits[2])\n",
    "    \n",
    "    circuit += cirq.ry(symbols[8]).on(qubits[1])\n",
    "    circuit += cirq.ry(symbols[9]).on(qubits[2])\n",
    "    \n",
    "    circuit += cirq.rz(symbols[10]).on(qubits[1])\n",
    "    circuit += cirq.rz(symbols[11]).on(qubits[2])\n",
    "    \n",
    "    circuit += cirq.CNOT(qubits[2], qubits[1])\n",
    "    \n",
    "    return circuit\n",
    "\n",
    "\n",
    "def circuit_12(symbols, qubits):\n",
    "    circuit = cirq.Circuit()\n",
    "    \n",
    "    circuit += cirq.ry(symbols[0]).on(qubits[0])\n",
    "    circuit += cirq.ry(symbols[1]).on(qubits[1])\n",
    "    circuit += cirq.ry(symbols[2]).on(qubits[2])\n",
    "    circuit += cirq.ry(symbols[3]).on(qubits[3])\n",
    "\n",
    "    circuit += cirq.rz(symbols[4]).on(qubits[0])\n",
    "    circuit += cirq.rz(symbols[5]).on(qubits[1])\n",
    "    circuit += cirq.rz(symbols[6]).on(qubits[2])\n",
    "    circuit += cirq.rz(symbols[7]).on(qubits[3])\n",
    "\n",
    "\n",
    "    circuit += cirq.CZ(qubits[0], qubits[1])\n",
    "    circuit += cirq.CZ(qubits[2], qubits[3])\n",
    "    \n",
    "    circuit += cirq.ry(symbols[8]).on(qubits[1])\n",
    "    circuit += cirq.ry(symbols[9]).on(qubits[2])\n",
    "\n",
    "    circuit += cirq.rz(symbols[10]).on(qubits[1])\n",
    "    circuit += cirq.rz(symbols[11]).on(qubits[2])\n",
    "\n",
    "    circuit += cirq.CZ(qubits[1], qubits[2])\n",
    "\n",
    "    return circuit\n",
    "    \n",
    "    "
   ]
  },
  {
   "cell_type": "code",
   "execution_count": 33,
   "id": "898eea0e",
   "metadata": {},
   "outputs": [
    {
     "name": "stderr",
     "output_type": "stream",
     "text": [
      "findfont: Font family 'Arial' not found.\n",
      "findfont: Font family 'Arial' not found.\n",
      "findfont: Font family 'Arial' not found.\n",
      "findfont: Font family 'Arial' not found.\n",
      "findfont: Font family 'Arial' not found.\n",
      "findfont: Font family 'Arial' not found.\n",
      "findfont: Font family 'Arial' not found.\n",
      "findfont: Font family 'Arial' not found.\n",
      "findfont: Font family 'Arial' not found.\n",
      "findfont: Font family 'Arial' not found.\n",
      "findfont: Font family 'Arial' not found.\n",
      "findfont: Font family 'Arial' not found.\n",
      "findfont: Font family 'Arial' not found.\n",
      "findfont: Font family 'Arial' not found.\n",
      "findfont: Font family 'Arial' not found.\n",
      "findfont: Font family 'Arial' not found.\n",
      "findfont: Font family 'Arial' not found.\n",
      "findfont: Font family 'Arial' not found.\n"
     ]
    },
    {
     "data": {
      "image/svg+xml": [
       "<svg xmlns=\"http://www.w3.org/2000/svg\" width=\"435.6858203125\" height=\"200.0\"><line x1=\"34.7588671875\" x2=\"405.6858203125\" y1=\"25.0\" y2=\"25.0\" stroke=\"#1967d2\" stroke-width=\"1\" /><line x1=\"34.7588671875\" x2=\"405.6858203125\" y1=\"75.0\" y2=\"75.0\" stroke=\"#1967d2\" stroke-width=\"1\" /><line x1=\"34.7588671875\" x2=\"405.6858203125\" y1=\"125.0\" y2=\"125.0\" stroke=\"#1967d2\" stroke-width=\"1\" /><line x1=\"34.7588671875\" x2=\"405.6858203125\" y1=\"175.0\" y2=\"175.0\" stroke=\"#1967d2\" stroke-width=\"1\" /><line x1=\"245.6858203125\" x2=\"245.6858203125\" y1=\"25.0\" y2=\"75.0\" stroke=\"black\" stroke-width=\"3\" /><line x1=\"305.6858203125\" x2=\"305.6858203125\" y1=\"75.0\" y2=\"125.0\" stroke=\"black\" stroke-width=\"3\" /><line x1=\"365.6858203125\" x2=\"365.6858203125\" y1=\"125.0\" y2=\"175.0\" stroke=\"black\" stroke-width=\"3\" /><rect x=\"10.0\" y=\"5.0\" width=\"49.517734375\" height=\"40\" stroke=\"black\" fill=\"white\" stroke-width=\"0\" /><text x=\"34.7588671875\" y=\"25.0\" dominant-baseline=\"middle\" text-anchor=\"middle\" font-size=\"14px\" font-family=\"Arial\">(0, 0): </text><rect x=\"10.0\" y=\"55.0\" width=\"49.517734375\" height=\"40\" stroke=\"black\" fill=\"white\" stroke-width=\"0\" /><text x=\"34.7588671875\" y=\"75.0\" dominant-baseline=\"middle\" text-anchor=\"middle\" font-size=\"14px\" font-family=\"Arial\">(0, 1): </text><rect x=\"10.0\" y=\"105.0\" width=\"49.517734375\" height=\"40\" stroke=\"black\" fill=\"white\" stroke-width=\"0\" /><text x=\"34.7588671875\" y=\"125.0\" dominant-baseline=\"middle\" text-anchor=\"middle\" font-size=\"14px\" font-family=\"Arial\">(0, 2): </text><rect x=\"10.0\" y=\"155.0\" width=\"49.517734375\" height=\"40\" stroke=\"black\" fill=\"white\" stroke-width=\"0\" /><text x=\"34.7588671875\" y=\"175.0\" dominant-baseline=\"middle\" text-anchor=\"middle\" font-size=\"14px\" font-family=\"Arial\">(0, 3): </text><rect x=\"79.517734375\" y=\"5.0\" width=\"53.5523046875\" height=\"40\" stroke=\"black\" fill=\"white\" stroke-width=\"1\" /><text x=\"106.29388671875\" y=\"25.0\" dominant-baseline=\"middle\" text-anchor=\"middle\" font-size=\"14px\" font-family=\"Arial\">Rx(x0)</text><rect x=\"79.517734375\" y=\"55.0\" width=\"53.5523046875\" height=\"40\" stroke=\"black\" fill=\"white\" stroke-width=\"1\" /><text x=\"106.29388671875\" y=\"75.0\" dominant-baseline=\"middle\" text-anchor=\"middle\" font-size=\"14px\" font-family=\"Arial\">Rx(x1)</text><rect x=\"79.517734375\" y=\"105.0\" width=\"53.5523046875\" height=\"40\" stroke=\"black\" fill=\"white\" stroke-width=\"1\" /><text x=\"106.29388671875\" y=\"125.0\" dominant-baseline=\"middle\" text-anchor=\"middle\" font-size=\"14px\" font-family=\"Arial\">Rx(x2)</text><rect x=\"79.517734375\" y=\"155.0\" width=\"53.5523046875\" height=\"40\" stroke=\"black\" fill=\"white\" stroke-width=\"1\" /><text x=\"106.29388671875\" y=\"175.0\" dominant-baseline=\"middle\" text-anchor=\"middle\" font-size=\"14px\" font-family=\"Arial\">Rx(x3)</text><rect x=\"153.0700390625\" y=\"5.0\" width=\"52.61578125\" height=\"40\" stroke=\"black\" fill=\"white\" stroke-width=\"1\" /><text x=\"179.3779296875\" y=\"25.0\" dominant-baseline=\"middle\" text-anchor=\"middle\" font-size=\"14px\" font-family=\"Arial\">Rz(x4)</text><rect x=\"153.0700390625\" y=\"55.0\" width=\"52.61578125\" height=\"40\" stroke=\"black\" fill=\"white\" stroke-width=\"1\" /><text x=\"179.3779296875\" y=\"75.0\" dominant-baseline=\"middle\" text-anchor=\"middle\" font-size=\"14px\" font-family=\"Arial\">Rz(x5)</text><rect x=\"153.0700390625\" y=\"105.0\" width=\"52.61578125\" height=\"40\" stroke=\"black\" fill=\"white\" stroke-width=\"1\" /><text x=\"179.3779296875\" y=\"125.0\" dominant-baseline=\"middle\" text-anchor=\"middle\" font-size=\"14px\" font-family=\"Arial\">Rz(x6)</text><rect x=\"153.0700390625\" y=\"155.0\" width=\"52.61578125\" height=\"40\" stroke=\"black\" fill=\"white\" stroke-width=\"1\" /><text x=\"179.3779296875\" y=\"175.0\" dominant-baseline=\"middle\" text-anchor=\"middle\" font-size=\"14px\" font-family=\"Arial\">Rz(x7)</text><circle cx=\"245.6858203125\" cy=\"75.0\" r=\"10.0\" /><rect x=\"225.6858203125\" y=\"5.0\" width=\"40\" height=\"40\" stroke=\"black\" fill=\"white\" stroke-width=\"1\" /><text x=\"245.6858203125\" y=\"25.0\" dominant-baseline=\"middle\" text-anchor=\"middle\" font-size=\"18px\" font-family=\"Arial\">X</text><circle cx=\"305.6858203125\" cy=\"125.0\" r=\"10.0\" /><rect x=\"285.6858203125\" y=\"55.0\" width=\"40\" height=\"40\" stroke=\"black\" fill=\"white\" stroke-width=\"1\" /><text x=\"305.6858203125\" y=\"75.0\" dominant-baseline=\"middle\" text-anchor=\"middle\" font-size=\"18px\" font-family=\"Arial\">X</text><circle cx=\"365.6858203125\" cy=\"175.0\" r=\"10.0\" /><rect x=\"345.6858203125\" y=\"105.0\" width=\"40\" height=\"40\" stroke=\"black\" fill=\"white\" stroke-width=\"1\" /><text x=\"365.6858203125\" y=\"125.0\" dominant-baseline=\"middle\" text-anchor=\"middle\" font-size=\"18px\" font-family=\"Arial\">X</text></svg>"
      ],
      "text/plain": [
       "<cirq.contrib.svg.svg.SVGCircuit at 0x7f16bead3250>"
      ]
     },
     "execution_count": 33,
     "metadata": {},
     "output_type": "execute_result"
    }
   ],
   "source": [
    "test_bits = cirq.GridQubit.rect(1, 4)\n",
    "\n",
    "\n",
    "SVGCircuit(\n",
    "    circuit_2(sympy.symbols('x0:10'), test_bits))"
   ]
  },
  {
   "cell_type": "code",
   "execution_count": 34,
   "id": "99753a89",
   "metadata": {},
   "outputs": [
    {
     "name": "stderr",
     "output_type": "stream",
     "text": [
      "findfont: Font family 'Arial' not found.\n",
      "findfont: Font family 'Arial' not found.\n",
      "findfont: Font family 'Arial' not found.\n",
      "findfont: Font family 'Arial' not found.\n",
      "findfont: Font family 'Arial' not found.\n",
      "findfont: Font family 'Arial' not found.\n",
      "findfont: Font family 'Arial' not found.\n",
      "findfont: Font family 'Arial' not found.\n",
      "findfont: Font family 'Arial' not found.\n",
      "findfont: Font family 'Arial' not found.\n",
      "findfont: Font family 'Arial' not found.\n",
      "findfont: Font family 'Arial' not found.\n",
      "findfont: Font family 'Arial' not found.\n",
      "findfont: Font family 'Arial' not found.\n",
      "findfont: Font family 'Arial' not found.\n",
      "findfont: Font family 'Arial' not found.\n",
      "findfont: Font family 'Arial' not found.\n",
      "findfont: Font family 'Arial' not found.\n",
      "findfont: Font family 'Arial' not found.\n",
      "findfont: Font family 'Arial' not found.\n",
      "findfont: Font family 'Arial' not found.\n",
      "findfont: Font family 'Arial' not found.\n"
     ]
    },
    {
     "data": {
      "image/svg+xml": [
       "<svg xmlns=\"http://www.w3.org/2000/svg\" width=\"529.2211328125\" height=\"200.0\"><line x1=\"34.7588671875\" x2=\"499.2211328125\" y1=\"25.0\" y2=\"25.0\" stroke=\"#1967d2\" stroke-width=\"1\" /><line x1=\"34.7588671875\" x2=\"499.2211328125\" y1=\"75.0\" y2=\"75.0\" stroke=\"#1967d2\" stroke-width=\"1\" /><line x1=\"34.7588671875\" x2=\"499.2211328125\" y1=\"125.0\" y2=\"125.0\" stroke=\"#1967d2\" stroke-width=\"1\" /><line x1=\"34.7588671875\" x2=\"499.2211328125\" y1=\"175.0\" y2=\"175.0\" stroke=\"#1967d2\" stroke-width=\"1\" /><line x1=\"244.9158203125\" x2=\"244.9158203125\" y1=\"25.0\" y2=\"75.0\" stroke=\"black\" stroke-width=\"3\" /><line x1=\"244.9158203125\" x2=\"244.9158203125\" y1=\"125.0\" y2=\"175.0\" stroke=\"black\" stroke-width=\"3\" /><line x1=\"459.2211328125\" x2=\"459.2211328125\" y1=\"75.0\" y2=\"125.0\" stroke=\"black\" stroke-width=\"3\" /><rect x=\"10.0\" y=\"5.0\" width=\"49.517734375\" height=\"40\" stroke=\"black\" fill=\"white\" stroke-width=\"0\" /><text x=\"34.7588671875\" y=\"25.0\" dominant-baseline=\"middle\" text-anchor=\"middle\" font-size=\"14px\" font-family=\"Arial\">(0, 0): </text><rect x=\"10.0\" y=\"55.0\" width=\"49.517734375\" height=\"40\" stroke=\"black\" fill=\"white\" stroke-width=\"0\" /><text x=\"34.7588671875\" y=\"75.0\" dominant-baseline=\"middle\" text-anchor=\"middle\" font-size=\"14px\" font-family=\"Arial\">(0, 1): </text><rect x=\"10.0\" y=\"105.0\" width=\"49.517734375\" height=\"40\" stroke=\"black\" fill=\"white\" stroke-width=\"0\" /><text x=\"34.7588671875\" y=\"125.0\" dominant-baseline=\"middle\" text-anchor=\"middle\" font-size=\"14px\" font-family=\"Arial\">(0, 2): </text><rect x=\"10.0\" y=\"155.0\" width=\"49.517734375\" height=\"40\" stroke=\"black\" fill=\"white\" stroke-width=\"0\" /><text x=\"34.7588671875\" y=\"175.0\" dominant-baseline=\"middle\" text-anchor=\"middle\" font-size=\"14px\" font-family=\"Arial\">(0, 3): </text><rect x=\"79.517734375\" y=\"5.0\" width=\"52.7823046875\" height=\"40\" stroke=\"black\" fill=\"white\" stroke-width=\"1\" /><text x=\"105.90888671875001\" y=\"25.0\" dominant-baseline=\"middle\" text-anchor=\"middle\" font-size=\"14px\" font-family=\"Arial\">Ry(x0)</text><rect x=\"79.517734375\" y=\"55.0\" width=\"52.7823046875\" height=\"40\" stroke=\"black\" fill=\"white\" stroke-width=\"1\" /><text x=\"105.90888671875001\" y=\"75.0\" dominant-baseline=\"middle\" text-anchor=\"middle\" font-size=\"14px\" font-family=\"Arial\">Ry(x1)</text><rect x=\"79.517734375\" y=\"105.0\" width=\"52.7823046875\" height=\"40\" stroke=\"black\" fill=\"white\" stroke-width=\"1\" /><text x=\"105.90888671875001\" y=\"125.0\" dominant-baseline=\"middle\" text-anchor=\"middle\" font-size=\"14px\" font-family=\"Arial\">Ry(x2)</text><rect x=\"79.517734375\" y=\"155.0\" width=\"52.7823046875\" height=\"40\" stroke=\"black\" fill=\"white\" stroke-width=\"1\" /><text x=\"105.90888671875001\" y=\"175.0\" dominant-baseline=\"middle\" text-anchor=\"middle\" font-size=\"14px\" font-family=\"Arial\">Ry(x3)</text><rect x=\"152.3000390625\" y=\"5.0\" width=\"52.61578125\" height=\"40\" stroke=\"black\" fill=\"white\" stroke-width=\"1\" /><text x=\"178.6079296875\" y=\"25.0\" dominant-baseline=\"middle\" text-anchor=\"middle\" font-size=\"14px\" font-family=\"Arial\">Rz(x4)</text><rect x=\"152.3000390625\" y=\"55.0\" width=\"52.61578125\" height=\"40\" stroke=\"black\" fill=\"white\" stroke-width=\"1\" /><text x=\"178.6079296875\" y=\"75.0\" dominant-baseline=\"middle\" text-anchor=\"middle\" font-size=\"14px\" font-family=\"Arial\">Rz(x5)</text><rect x=\"152.3000390625\" y=\"105.0\" width=\"52.61578125\" height=\"40\" stroke=\"black\" fill=\"white\" stroke-width=\"1\" /><text x=\"178.6079296875\" y=\"125.0\" dominant-baseline=\"middle\" text-anchor=\"middle\" font-size=\"14px\" font-family=\"Arial\">Rz(x6)</text><rect x=\"152.3000390625\" y=\"155.0\" width=\"52.61578125\" height=\"40\" stroke=\"black\" fill=\"white\" stroke-width=\"1\" /><text x=\"178.6079296875\" y=\"175.0\" dominant-baseline=\"middle\" text-anchor=\"middle\" font-size=\"14px\" font-family=\"Arial\">Rz(x7)</text><circle cx=\"244.9158203125\" cy=\"75.0\" r=\"10.0\" /><rect x=\"224.9158203125\" y=\"5.0\" width=\"40\" height=\"40\" stroke=\"black\" fill=\"white\" stroke-width=\"1\" /><text x=\"244.9158203125\" y=\"25.0\" dominant-baseline=\"middle\" text-anchor=\"middle\" font-size=\"18px\" font-family=\"Arial\">X</text><circle cx=\"244.9158203125\" cy=\"175.0\" r=\"10.0\" /><rect x=\"224.9158203125\" y=\"105.0\" width=\"40\" height=\"40\" stroke=\"black\" fill=\"white\" stroke-width=\"1\" /><text x=\"244.9158203125\" y=\"125.0\" dominant-baseline=\"middle\" text-anchor=\"middle\" font-size=\"18px\" font-family=\"Arial\">X</text><rect x=\"284.9158203125\" y=\"55.0\" width=\"52.7823046875\" height=\"40\" stroke=\"black\" fill=\"white\" stroke-width=\"1\" /><text x=\"311.30697265624997\" y=\"75.0\" dominant-baseline=\"middle\" text-anchor=\"middle\" font-size=\"14px\" font-family=\"Arial\">Ry(x8)</text><rect x=\"284.9158203125\" y=\"105.0\" width=\"52.7823046875\" height=\"40\" stroke=\"black\" fill=\"white\" stroke-width=\"1\" /><text x=\"311.30697265624997\" y=\"125.0\" dominant-baseline=\"middle\" text-anchor=\"middle\" font-size=\"14px\" font-family=\"Arial\">Ry(x9)</text><rect x=\"357.698125\" y=\"55.0\" width=\"61.5230078125\" height=\"40\" stroke=\"black\" fill=\"white\" stroke-width=\"1\" /><text x=\"388.45962890625003\" y=\"75.0\" dominant-baseline=\"middle\" text-anchor=\"middle\" font-size=\"14px\" font-family=\"Arial\">Rz(x10)</text><rect x=\"357.698125\" y=\"105.0\" width=\"61.5230078125\" height=\"40\" stroke=\"black\" fill=\"white\" stroke-width=\"1\" /><text x=\"388.45962890625003\" y=\"125.0\" dominant-baseline=\"middle\" text-anchor=\"middle\" font-size=\"14px\" font-family=\"Arial\">Rz(x11)</text><circle cx=\"459.2211328125\" cy=\"125.0\" r=\"10.0\" /><rect x=\"439.2211328125\" y=\"55.0\" width=\"40\" height=\"40\" stroke=\"black\" fill=\"white\" stroke-width=\"1\" /><text x=\"459.2211328125\" y=\"75.0\" dominant-baseline=\"middle\" text-anchor=\"middle\" font-size=\"18px\" font-family=\"Arial\">X</text></svg>"
      ],
      "text/plain": [
       "<cirq.contrib.svg.svg.SVGCircuit at 0x7f17101e43a0>"
      ]
     },
     "execution_count": 34,
     "metadata": {},
     "output_type": "execute_result"
    }
   ],
   "source": [
    "SVGCircuit(circuit_11(sympy.symbols('x0:12'), test_bits))"
   ]
  },
  {
   "cell_type": "code",
   "execution_count": 35,
   "id": "334d84dc",
   "metadata": {},
   "outputs": [
    {
     "name": "stderr",
     "output_type": "stream",
     "text": [
      "findfont: Font family 'Arial' not found.\n",
      "findfont: Font family 'Arial' not found.\n",
      "findfont: Font family 'Arial' not found.\n",
      "findfont: Font family 'Arial' not found.\n",
      "findfont: Font family 'Arial' not found.\n",
      "findfont: Font family 'Arial' not found.\n",
      "findfont: Font family 'Arial' not found.\n",
      "findfont: Font family 'Arial' not found.\n",
      "findfont: Font family 'Arial' not found.\n",
      "findfont: Font family 'Arial' not found.\n",
      "findfont: Font family 'Arial' not found.\n",
      "findfont: Font family 'Arial' not found.\n",
      "findfont: Font family 'Arial' not found.\n",
      "findfont: Font family 'Arial' not found.\n",
      "findfont: Font family 'Arial' not found.\n",
      "findfont: Font family 'Arial' not found.\n",
      "findfont: Font family 'Arial' not found.\n",
      "findfont: Font family 'Arial' not found.\n",
      "findfont: Font family 'Arial' not found.\n",
      "findfont: Font family 'Arial' not found.\n",
      "findfont: Font family 'Arial' not found.\n",
      "findfont: Font family 'Arial' not found.\n"
     ]
    },
    {
     "data": {
      "image/svg+xml": [
       "<svg xmlns=\"http://www.w3.org/2000/svg\" width=\"529.2211328125\" height=\"200.0\"><line x1=\"34.7588671875\" x2=\"499.2211328125\" y1=\"25.0\" y2=\"25.0\" stroke=\"#1967d2\" stroke-width=\"1\" /><line x1=\"34.7588671875\" x2=\"499.2211328125\" y1=\"75.0\" y2=\"75.0\" stroke=\"#1967d2\" stroke-width=\"1\" /><line x1=\"34.7588671875\" x2=\"499.2211328125\" y1=\"125.0\" y2=\"125.0\" stroke=\"#1967d2\" stroke-width=\"1\" /><line x1=\"34.7588671875\" x2=\"499.2211328125\" y1=\"175.0\" y2=\"175.0\" stroke=\"#1967d2\" stroke-width=\"1\" /><line x1=\"244.9158203125\" x2=\"244.9158203125\" y1=\"25.0\" y2=\"75.0\" stroke=\"black\" stroke-width=\"3\" /><line x1=\"244.9158203125\" x2=\"244.9158203125\" y1=\"125.0\" y2=\"175.0\" stroke=\"black\" stroke-width=\"3\" /><line x1=\"459.2211328125\" x2=\"459.2211328125\" y1=\"75.0\" y2=\"125.0\" stroke=\"black\" stroke-width=\"3\" /><rect x=\"10.0\" y=\"5.0\" width=\"49.517734375\" height=\"40\" stroke=\"black\" fill=\"white\" stroke-width=\"0\" /><text x=\"34.7588671875\" y=\"25.0\" dominant-baseline=\"middle\" text-anchor=\"middle\" font-size=\"14px\" font-family=\"Arial\">(0, 0): </text><rect x=\"10.0\" y=\"55.0\" width=\"49.517734375\" height=\"40\" stroke=\"black\" fill=\"white\" stroke-width=\"0\" /><text x=\"34.7588671875\" y=\"75.0\" dominant-baseline=\"middle\" text-anchor=\"middle\" font-size=\"14px\" font-family=\"Arial\">(0, 1): </text><rect x=\"10.0\" y=\"105.0\" width=\"49.517734375\" height=\"40\" stroke=\"black\" fill=\"white\" stroke-width=\"0\" /><text x=\"34.7588671875\" y=\"125.0\" dominant-baseline=\"middle\" text-anchor=\"middle\" font-size=\"14px\" font-family=\"Arial\">(0, 2): </text><rect x=\"10.0\" y=\"155.0\" width=\"49.517734375\" height=\"40\" stroke=\"black\" fill=\"white\" stroke-width=\"0\" /><text x=\"34.7588671875\" y=\"175.0\" dominant-baseline=\"middle\" text-anchor=\"middle\" font-size=\"14px\" font-family=\"Arial\">(0, 3): </text><rect x=\"79.517734375\" y=\"5.0\" width=\"52.7823046875\" height=\"40\" stroke=\"black\" fill=\"white\" stroke-width=\"1\" /><text x=\"105.90888671875001\" y=\"25.0\" dominant-baseline=\"middle\" text-anchor=\"middle\" font-size=\"14px\" font-family=\"Arial\">Ry(x0)</text><rect x=\"79.517734375\" y=\"55.0\" width=\"52.7823046875\" height=\"40\" stroke=\"black\" fill=\"white\" stroke-width=\"1\" /><text x=\"105.90888671875001\" y=\"75.0\" dominant-baseline=\"middle\" text-anchor=\"middle\" font-size=\"14px\" font-family=\"Arial\">Ry(x1)</text><rect x=\"79.517734375\" y=\"105.0\" width=\"52.7823046875\" height=\"40\" stroke=\"black\" fill=\"white\" stroke-width=\"1\" /><text x=\"105.90888671875001\" y=\"125.0\" dominant-baseline=\"middle\" text-anchor=\"middle\" font-size=\"14px\" font-family=\"Arial\">Ry(x2)</text><rect x=\"79.517734375\" y=\"155.0\" width=\"52.7823046875\" height=\"40\" stroke=\"black\" fill=\"white\" stroke-width=\"1\" /><text x=\"105.90888671875001\" y=\"175.0\" dominant-baseline=\"middle\" text-anchor=\"middle\" font-size=\"14px\" font-family=\"Arial\">Ry(x3)</text><rect x=\"152.3000390625\" y=\"5.0\" width=\"52.61578125\" height=\"40\" stroke=\"black\" fill=\"white\" stroke-width=\"1\" /><text x=\"178.6079296875\" y=\"25.0\" dominant-baseline=\"middle\" text-anchor=\"middle\" font-size=\"14px\" font-family=\"Arial\">Rz(x4)</text><rect x=\"152.3000390625\" y=\"55.0\" width=\"52.61578125\" height=\"40\" stroke=\"black\" fill=\"white\" stroke-width=\"1\" /><text x=\"178.6079296875\" y=\"75.0\" dominant-baseline=\"middle\" text-anchor=\"middle\" font-size=\"14px\" font-family=\"Arial\">Rz(x5)</text><rect x=\"152.3000390625\" y=\"105.0\" width=\"52.61578125\" height=\"40\" stroke=\"black\" fill=\"white\" stroke-width=\"1\" /><text x=\"178.6079296875\" y=\"125.0\" dominant-baseline=\"middle\" text-anchor=\"middle\" font-size=\"14px\" font-family=\"Arial\">Rz(x6)</text><rect x=\"152.3000390625\" y=\"155.0\" width=\"52.61578125\" height=\"40\" stroke=\"black\" fill=\"white\" stroke-width=\"1\" /><text x=\"178.6079296875\" y=\"175.0\" dominant-baseline=\"middle\" text-anchor=\"middle\" font-size=\"14px\" font-family=\"Arial\">Rz(x7)</text><circle cx=\"244.9158203125\" cy=\"25.0\" r=\"10.0\" /><circle cx=\"244.9158203125\" cy=\"75.0\" r=\"10.0\" /><circle cx=\"244.9158203125\" cy=\"125.0\" r=\"10.0\" /><circle cx=\"244.9158203125\" cy=\"175.0\" r=\"10.0\" /><rect x=\"284.9158203125\" y=\"55.0\" width=\"52.7823046875\" height=\"40\" stroke=\"black\" fill=\"white\" stroke-width=\"1\" /><text x=\"311.30697265624997\" y=\"75.0\" dominant-baseline=\"middle\" text-anchor=\"middle\" font-size=\"14px\" font-family=\"Arial\">Ry(x8)</text><rect x=\"284.9158203125\" y=\"105.0\" width=\"52.7823046875\" height=\"40\" stroke=\"black\" fill=\"white\" stroke-width=\"1\" /><text x=\"311.30697265624997\" y=\"125.0\" dominant-baseline=\"middle\" text-anchor=\"middle\" font-size=\"14px\" font-family=\"Arial\">Ry(x9)</text><rect x=\"357.698125\" y=\"55.0\" width=\"61.5230078125\" height=\"40\" stroke=\"black\" fill=\"white\" stroke-width=\"1\" /><text x=\"388.45962890625003\" y=\"75.0\" dominant-baseline=\"middle\" text-anchor=\"middle\" font-size=\"14px\" font-family=\"Arial\">Rz(x10)</text><rect x=\"357.698125\" y=\"105.0\" width=\"61.5230078125\" height=\"40\" stroke=\"black\" fill=\"white\" stroke-width=\"1\" /><text x=\"388.45962890625003\" y=\"125.0\" dominant-baseline=\"middle\" text-anchor=\"middle\" font-size=\"14px\" font-family=\"Arial\">Rz(x11)</text><circle cx=\"459.2211328125\" cy=\"75.0\" r=\"10.0\" /><circle cx=\"459.2211328125\" cy=\"125.0\" r=\"10.0\" /></svg>"
      ],
      "text/plain": [
       "<cirq.contrib.svg.svg.SVGCircuit at 0x7f16bf6eba90>"
      ]
     },
     "execution_count": 35,
     "metadata": {},
     "output_type": "execute_result"
    }
   ],
   "source": [
    "SVGCircuit(circuit_12(sympy.symbols('x0:12'), test_bits))"
   ]
  },
  {
   "cell_type": "code",
   "execution_count": null,
   "id": "6e717d4c",
   "metadata": {},
   "outputs": [],
   "source": []
  }
 ],
 "metadata": {
  "kernelspec": {
   "display_name": "Python 3 (ipykernel)",
   "language": "python",
   "name": "python3"
  },
  "language_info": {
   "codemirror_mode": {
    "name": "ipython",
    "version": 3
   },
   "file_extension": ".py",
   "mimetype": "text/x-python",
   "name": "python",
   "nbconvert_exporter": "python",
   "pygments_lexer": "ipython3",
   "version": "3.8.10"
  }
 },
 "nbformat": 4,
 "nbformat_minor": 5
}
