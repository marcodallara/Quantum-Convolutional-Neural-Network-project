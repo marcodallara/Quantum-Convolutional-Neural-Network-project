{
 "cells": [
  {
   "cell_type": "markdown",
   "id": "3d0ab460",
   "metadata": {},
   "source": [
    "## Extract MINST data"
   ]
  },
  {
   "cell_type": "code",
   "execution_count": 1,
   "id": "f88d3c65",
   "metadata": {},
   "outputs": [
    {
     "name": "stderr",
     "output_type": "stream",
     "text": [
      "2023-06-01 10:05:23.926388: W tensorflow/stream_executor/platform/default/dso_loader.cc:64] Could not load dynamic library 'libcudart.so.11.0'; dlerror: libcudart.so.11.0: cannot open shared object file: No such file or directory\n",
      "2023-06-01 10:05:23.926414: I tensorflow/stream_executor/cuda/cudart_stub.cc:29] Ignore above cudart dlerror if you do not have a GPU set up on your machine.\n",
      "2023-06-01 10:05:28.865293: E tensorflow/stream_executor/cuda/cuda_driver.cc:271] failed call to cuInit: CUDA_ERROR_NO_DEVICE: no CUDA-capable device is detected\n",
      "2023-06-01 10:05:28.865317: I tensorflow/stream_executor/cuda/cuda_diagnostics.cc:156] kernel driver does not appear to be running on this host (marco-Lenovo-S340-15IWL): /proc/driver/nvidia/version does not exist\n",
      "2023-06-01 10:05:28.865752: I tensorflow/core/platform/cpu_feature_guard.cc:151] This TensorFlow binary is optimized with oneAPI Deep Neural Network Library (oneDNN) to use the following CPU instructions in performance-critical operations:  AVX2 FMA\n",
      "To enable them in other operations, rebuild TensorFlow with the appropriate compiler flags.\n"
     ]
    }
   ],
   "source": [
    "import tensorflow as tf\n",
    "import tensorflow_quantum as tfq\n",
    "\n",
    "import cirq\n",
    "import sympy\n",
    "import numpy as np\n",
    "from numpy import linalg as LA\n",
    "import copy\n",
    "import itertools\n",
    "\n",
    "# visualization tools\n",
    "%matplotlib inline\n",
    "import matplotlib.pyplot as plt\n",
    "from cirq.contrib.svg import SVGCircuit"
   ]
  },
  {
   "cell_type": "code",
   "execution_count": 2,
   "id": "97a4816d",
   "metadata": {},
   "outputs": [],
   "source": [
    "def angle_encoding(qubits, data_row):\n",
    "    circuit = cirq.Circuit()\n",
    "    values = data_row*2*np.pi - np.pi\n",
    "    for i, qubit in enumerate(qubits):\n",
    "        circuit += (cirq.ry(values[i]).on(qubit))\n",
    "    return circuit"
   ]
  },
  {
   "cell_type": "code",
   "execution_count": 3,
   "id": "45f6f756",
   "metadata": {},
   "outputs": [
    {
     "name": "stdout",
     "output_type": "stream",
     "text": [
      "Number of original training examples: 60000\n",
      "Number of original test examples: 10000\n"
     ]
    }
   ],
   "source": [
    "(x_train, y_train), (x_test, y_test) = tf.keras.datasets.mnist.load_data()\n",
    "\n",
    "# Rescale the images from [0,255] to the [0.0,1.0] range.\n",
    "x_train, x_test = x_train[..., np.newaxis]/255.0, x_test[..., np.newaxis]/255.0\n",
    "\n",
    "print(\"Number of original training examples:\", len(x_train))\n",
    "print(\"Number of original test examples:\", len(x_test))\n"
   ]
  },
  {
   "cell_type": "code",
   "execution_count": 4,
   "id": "645e9fd1",
   "metadata": {},
   "outputs": [],
   "source": [
    "def filter_36(x, y):\n",
    "    keep = (y == 3) | (y == 6)\n",
    "    x, y = x[keep], y[keep]\n",
    "    y = y == 3\n",
    "    return x,y"
   ]
  },
  {
   "cell_type": "code",
   "execution_count": 5,
   "id": "d108ce1d",
   "metadata": {},
   "outputs": [
    {
     "name": "stdout",
     "output_type": "stream",
     "text": [
      "Number of filtered training examples: 12049\n",
      "Number of filtered test examples: 1968\n",
      "True\n",
      "True\n"
     ]
    },
    {
     "data": {
      "text/plain": [
       "<matplotlib.colorbar.Colorbar at 0x7fd8cb508910>"
      ]
     },
     "execution_count": 5,
     "metadata": {},
     "output_type": "execute_result"
    },
    {
     "data": {
      "image/png": "[encoded data removed]",
      "text/plain": [
       "<Figure size 640x480 with 3 Axes>"
      ]
     },
     "metadata": {},
     "output_type": "display_data"
    }
   ],
   "source": [
    "x_train, y_train = filter_36(x_train, y_train)\n",
    "x_test, y_test = filter_36(x_test, y_test)\n",
    "\n",
    "print(\"Number of filtered training examples:\", len(x_train))\n",
    "print(\"Number of filtered test examples:\", len(x_test))\n",
    "\n",
    "print(y_train[0])\n",
    "\n",
    "plt.imshow(x_train[0, :, :, 0])\n",
    "plt.colorbar()\n",
    "\n",
    "x_train_small = tf.image.resize(x_train, (3,3)).numpy()\n",
    "x_test_small = tf.image.resize(x_test, (3,3)).numpy()\n",
    "\n",
    "print(y_train[10])\n",
    "\n",
    "plt.imshow(x_train_small[10,:,:,0], vmin=0, vmax=1)\n",
    "plt.colorbar()\n"
   ]
  },
  {
   "cell_type": "code",
   "execution_count": 6,
   "id": "101675e2",
   "metadata": {},
   "outputs": [],
   "source": [
    "#x_train_small = x_train_small[0:800]\n",
    "#x_test_small = x_test_small[0:100]\n",
    "\n",
    "#We want output of 1 of -1\n",
    "y_train = 2.0*y_train - 1.0\n",
    "y_test = 2.0*y_test - 1.0\n",
    "\n",
    "#y_train = y_train[0:800]\n",
    "#y_test = y_test[0:100]\n",
    "\n",
    "qubits = cirq.GridQubit.rect(1, 9) #grid of qubit\n",
    "\n",
    "\n",
    "quantum_states_train = [np.ravel(x_train_small[i]) for i in range(len(x_train_small))]\n",
    "quantum_states_test = [np.ravel(x_test_small[i]) for i in range(len(x_test_small))]\n",
    "\n",
    "train_circuits_data = [angle_encoding(qubits, quantum_states_train[i]) for i in range(len(quantum_states_train))] \n",
    "test_circuits_data = [angle_encoding(qubits, quantum_states_test[i]) for i in range(len(quantum_states_test))] \n",
    "\n",
    "\n"
   ]
  },
  {
   "cell_type": "code",
   "execution_count": 7,
   "id": "c8ccba41",
   "metadata": {},
   "outputs": [],
   "source": [
    "import json\n",
    "\n",
    "json_circuits = [cirq.to_json(train_circuits_data[i]) for i in range(len(train_circuits_data))]\n",
    "\n",
    "# Open a file in write mode\n",
    "with open('angle_encoding_train.json', 'w') as f:\n",
    "    # Use json.dump() to write the list of JSON strings to the file\n",
    "    json.dump(json_circuits, f)\n",
    "\n",
    "# Close the file\n",
    "f.close()\n",
    "\n",
    "json_circuits = [cirq.to_json(test_circuits_data[i]) for i in range(len(test_circuits_data))]\n",
    "\n",
    "# Open a file in write mode\n",
    "with open('angle_encoding_test.json', 'w') as f:\n",
    "    # Use json.dump() to write the list of JSON strings to the file\n",
    "    json.dump(json_circuits, f)\n",
    "\n",
    "# Close the file\n",
    "f.close()\n",
    "\n",
    "np.savetxt(\"y_train.txt\", y_train)\n",
    "np.savetxt(\"y_test.txt\", y_test)"
   ]
  },
  {
   "cell_type": "code",
   "execution_count": null,
   "id": "3fbf5164",
   "metadata": {},
   "outputs": [],
   "source": []
  }
 ],
 "metadata": {
  "kernelspec": {
   "display_name": "qcnn",
   "language": "python",
   "name": "qcnn"
  },
  "language_info": {
   "codemirror_mode": {
    "name": "ipython",
    "version": 3
   },
   "file_extension": ".py",
   "mimetype": "text/x-python",
   "name": "python",
   "nbconvert_exporter": "python",
   "pygments_lexer": "ipython3",
   "version": "3.8.10"
  }
 },
 "nbformat": 4,
 "nbformat_minor": 5
}
