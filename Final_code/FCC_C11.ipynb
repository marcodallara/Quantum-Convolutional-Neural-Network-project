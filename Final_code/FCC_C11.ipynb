{
 "cells": [
  {
   "cell_type": "code",
   "execution_count": null,
   "id": "2a27cb44",
   "metadata": {},
   "outputs": [],
   "source": [
    "import tensorflow as tf\n",
    "import tensorflow_quantum as tfq\n",
    "\n",
    "\n",
    "import cirq\n",
    "import sympy\n",
    "import numpy as np\n",
    "from numpy import linalg as LA\n",
    "import copy\n",
    "import itertools\n",
    "import collections\n",
    "import json\n",
    "\n",
    "\n",
    "# visualization tools\n",
    "%matplotlib inline\n",
    "import matplotlib.pyplot as plt\n",
    "from cirq.contrib.svg import SVGCircuit"
   ]
  },
  {
   "cell_type": "markdown",
   "id": "5659c6f1",
   "metadata": {},
   "source": [
    "## Definition of two qbits"
   ]
  },
  {
   "cell_type": "code",
   "execution_count": 2,
   "id": "45d77301",
   "metadata": {},
   "outputs": [],
   "source": [
    "def one_qubit_unitary(bit, symbols):\n",
    "    \"\"\"Make a Cirq circuit enacting a rotation of the bloch sphere about the X,\n",
    "    Y and Z axis, that depends on the values in `symbols`.\n",
    "    \"\"\"\n",
    "    return cirq.Circuit(\n",
    "        cirq.X(bit)**symbols[0],\n",
    "        cirq.Y(bit)**symbols[1],\n",
    "        cirq.Z(bit)**symbols[2])\n",
    "\n",
    "    \n",
    "def two_qubit_unitary(bits, symbols):\n",
    "    \"\"\"Make a Cirq circuit that creates an arbitrary two qubit unitary.\"\"\"\n",
    "    circuit = cirq.Circuit()\n",
    "    circuit += one_qubit_unitary(bits[0], symbols[0:3])\n",
    "    circuit += one_qubit_unitary(bits[1], symbols[3:6])\n",
    "    circuit += [cirq.ZZ(*bits)**symbols[6]]\n",
    "    circuit += [cirq.YY(*bits)**symbols[7]]\n",
    "    circuit += [cirq.XX(*bits)**symbols[8]]\n",
    "    circuit += one_qubit_unitary(bits[0], symbols[9:12])\n",
    "    circuit += one_qubit_unitary(bits[1], symbols[12:])\n",
    "    return circuit\n",
    "\n",
    "\n",
    "def two_qubit_pool(source_qubit, sink_qubit, symbols):\n",
    "    \"\"\"Make a Cirq circuit to do a parameterized 'pooling' operation, which\n",
    "    attempts to reduce entanglement down from two qubits to just one.\"\"\"\n",
    "    pool_circuit = cirq.Circuit()\n",
    "    sink_basis_selector = one_qubit_unitary(sink_qubit, symbols[0:3])\n",
    "    source_basis_selector = one_qubit_unitary(source_qubit, symbols[3:6])\n",
    "    pool_circuit.append(sink_basis_selector)\n",
    "    pool_circuit.append(source_basis_selector)\n",
    "    pool_circuit.append(cirq.CNOT(control=source_qubit, target=sink_qubit))\n",
    "    pool_circuit.append(sink_basis_selector**-1)\n",
    "    return pool_circuit"
   ]
  },
  {
   "cell_type": "markdown",
   "id": "fff8f9da",
   "metadata": {},
   "source": [
    "## QCNN"
   ]
  },
  {
   "cell_type": "code",
   "execution_count": 3,
   "id": "9fd265a2",
   "metadata": {},
   "outputs": [],
   "source": [
    "def quantum_conv_circuit(bits, symbols):\n",
    "    \"\"\"Quantum Convolution Layer following the above diagram.\n",
    "    Return a Cirq circuit with the cascade of `two_qubit_unitary` applied\n",
    "    to all pairs of qubits in `bits` as in the diagram above.\n",
    "    \"\"\"\n",
    "    circuit = cirq.Circuit()\n",
    "    for first, second in zip(bits[0::2], bits[1::2]):\n",
    "        circuit += two_qubit_unitary([first, second], symbols)\n",
    "    for first, second in zip(bits[1::2], bits[2::2] + [bits[0]]):\n",
    "        circuit += two_qubit_unitary([first, second], symbols)\n",
    "    return circuit\n",
    "\n",
    "\n",
    "def quantum_pool_circuit(source_bits, sink_bits, symbols):\n",
    "    \"\"\"A layer that specifies a quantum pooling operation.\n",
    "    A Quantum pool tries to learn to pool the relevant information from two\n",
    "    qubits onto 1.\n",
    "    \"\"\"\n",
    "    circuit = cirq.Circuit()\n",
    "    for source, sink in zip(source_bits, sink_bits):\n",
    "        circuit += two_qubit_pool(source, sink, symbols)\n",
    "    return circuit"
   ]
  },
  {
   "cell_type": "markdown",
   "id": "300412a2",
   "metadata": {},
   "source": [
    "## QFCC"
   ]
  },
  {
   "cell_type": "code",
   "execution_count": 4,
   "id": "1cf653f8",
   "metadata": {},
   "outputs": [],
   "source": [
    "def circuit_11(symbols, qubits):\n",
    "    circuit = cirq.Circuit()\n",
    "    # 9 qbits\n",
    "    circuit += cirq.ry(symbols[0]).on(qubits[0])\n",
    "    circuit += cirq.ry(symbols[1]).on(qubits[1])\n",
    "    circuit += cirq.ry(symbols[2]).on(qubits[2])\n",
    "\n",
    "    circuit += cirq.rz(symbols[3]).on(qubits[0])\n",
    "    circuit += cirq.rz(symbols[4]).on(qubits[1])\n",
    "    circuit += cirq.rz(symbols[5]).on(qubits[2])\n",
    "\n",
    "    circuit += cirq.CNOT(qubits[1], qubits[0])\n",
    "    circuit += cirq.CNOT(qubits[2], qubits[1])\n",
    "    \n",
    "    circuit += cirq.ry(symbols[6]).on(qubits[1])\n",
    "    circuit += cirq.ry(symbols[7]).on(qubits[2])\n",
    "    \n",
    "    circuit += cirq.rz(symbols[8]).on(qubits[1])\n",
    "    circuit += cirq.rz(symbols[9]).on(qubits[2])\n",
    "    \n",
    "    circuit += cirq.CNOT(qubits[2], qubits[1])\n",
    "    \n",
    "    return circuit"
   ]
  },
  {
   "cell_type": "markdown",
   "id": "7a2387fe",
   "metadata": {},
   "source": [
    "## Create the model"
   ]
  },
  {
   "cell_type": "code",
   "execution_count": 6,
   "id": "ac0267bc",
   "metadata": {},
   "outputs": [
    {
     "name": "stdout",
     "output_type": "stream",
     "text": [
      "('You must install pydot (`pip install pydot`) and install graphviz (see instructions at https://graphviz.gitlab.io/download/) ', 'for plot_model/model_to_dot to work.')\n"
     ]
    }
   ],
   "source": [
    "def create_model_circuit(qubits):\n",
    "    \"\"\"Create sequence of alternating convolution and pooling operators \n",
    "    which gradually shrink over time.\"\"\"\n",
    "    model_circuit = cirq.Circuit()\n",
    "    symbols = sympy.symbols('qconv0:46')\n",
    "    # Cirq uses sympy.Symbols to map learnable variables. TensorFlow Quantum\n",
    "    # scans incoming circuits and replaces these with TensorFlow variables.\n",
    "    model_circuit += quantum_conv_circuit(qubits, symbols[0:15])\n",
    "    model_circuit += quantum_pool_circuit(qubits[:3], qubits[3:],\n",
    "                                          symbols[15:21])\n",
    "    model_circuit += quantum_conv_circuit(qubits[3:], symbols[21:36])\n",
    "\n",
    "    model_circuit += circuit_11(symbols[36:46], qubits[3:])\n",
    "    \n",
    "    #model_circuit += (cirq.r(symbols[36]) * cirq.Y(symbols[36])).controlled_by(qubits[5])\n",
    "    \n",
    "    #cirq.ControlledGate(cirq.rx(symbols[36]) * cirq.ry(symbols[37]) * cirq.rz(symbols[38])).on(qubits[4], qubits[5])\n",
    "    #model_circuit += cirq.ControlledGate(my_U).on(qubits[4], qubits[5])\n",
    "    #model_circuit += cirq.Circuit(custom_gate.on(*qubits[2:4]))\n",
    "    #model_circuit += quantum_fc_circuit(qubits[3:], symbols[36:75])\n",
    "\n",
    "    \n",
    "    return model_circuit\n",
    "\n",
    "\n",
    "from tensorflow_quantum import differentiators\n",
    "\n",
    "\n",
    "qubits = cirq.GridQubit.rect(1, 6) #grid of qubit \n",
    "readout_operators = cirq.Z(qubits[-1]) #grid of operator i want to average on (final expected value)\n",
    "\n",
    "# Build a sequential model enacting the logic in 1.3 of this notebook.\n",
    "inputs = tf.keras.Input(shape=(), dtype=tf.dtypes.string) #still general input\n",
    "\n",
    "#define the differentiator\n",
    "#differentiator = differentiators.ParameterShift()\n",
    "\n",
    "\n",
    "#define the model \n",
    "quantum_model = tfq.layers.PQC(create_model_circuit(qubits),readout_operators)(inputs)\n",
    "\n",
    "qcnn_model = tf.keras.Model(inputs=[inputs], outputs=[quantum_model])\n",
    "\n",
    "# Show the keras plot of the model\n",
    "tf.keras.utils.plot_model(qcnn_model,\n",
    "                          show_shapes=True,\n",
    "                          show_layer_names=False,\n",
    "                          dpi=70)"
   ]
  },
  {
   "cell_type": "markdown",
   "id": "5b0cb58d",
   "metadata": {},
   "source": [
    "## Load data of amplitude encoding"
   ]
  },
  {
   "cell_type": "code",
   "execution_count": 7,
   "id": "76447216",
   "metadata": {},
   "outputs": [],
   "source": [
    "import json\n",
    "\n",
    "# Open the file in read mode\n",
    "with open('amplitude_encoding_train.json', 'r') as f:\n",
    "    # Use json.load() to read the contents of the file\n",
    "    new_circuit = json.load(f)\n",
    "\n",
    "# Close the file\n",
    "f.close()\n",
    "train_circuits_data = [cirq.read_json(json_text=new_circuit[i]) for i in range((5000))]\n",
    "\n",
    "# Open the file in read mode\n",
    "with open('amplitude_encoding_test.json', 'r') as f:\n",
    "    # Use json.load() to read the contents of the file\n",
    "    new_circuit = json.load(f)\n",
    "\n",
    "# Close the file\n",
    "f.close()\n",
    "test_circuits_data = [cirq.read_json(json_text=new_circuit[i]) for i in range((500))]\n",
    "\n",
    "y_train = np.loadtxt(\"y_train.txt\")\n",
    "y_test = np.loadtxt(\"y_test.txt\")\n",
    "\n",
    "y_train = y_train[:5000]\n",
    "y_test = y_test[:500]\n"
   ]
  },
  {
   "cell_type": "code",
   "execution_count": 8,
   "id": "12274584",
   "metadata": {},
   "outputs": [],
   "source": [
    "# convert to tensors\n",
    "train_circuits_data = tfq.convert_to_tensor(train_circuits_data)\n",
    "test_circuits_data = tfq.convert_to_tensor(test_circuits_data)"
   ]
  },
  {
   "cell_type": "code",
   "execution_count": 11,
   "id": "f12aa957",
   "metadata": {},
   "outputs": [],
   "source": [
    "\n",
    "# Custom accuracy metric.\n",
    "@tf.function\n",
    "def custom_accuracy(y_true, y_pred):\n",
    "    y_true = tf.squeeze(y_true)\n",
    "    y_pred = tf.map_fn(lambda x: 1.0 if x >= 0 else -1.0, y_pred)\n",
    "    return tf.keras.backend.mean(tf.keras.backend.equal(y_true, y_pred))\n",
    "\n",
    "\n",
    "qcnn_model.compile(optimizer=tf.keras.optimizers.Adam(learning_rate=0.001),\n",
    "                   loss=tf.losses.mse,\n",
    "                   metrics=[custom_accuracy])"
   ]
  },
  {
   "cell_type": "code",
   "execution_count": 12,
   "id": "964055d7",
   "metadata": {},
   "outputs": [
    {
     "name": "stdout",
     "output_type": "stream",
     "text": [
      "Epoch 1/50\n",
      "67/67 [==============================] - 41s 603ms/step - loss: 0.9292 - custom_accuracy: 0.6287 - val_loss: 0.8870 - val_custom_accuracy: 0.7095\n",
      "Epoch 2/50\n",
      "67/67 [==============================] - 39s 578ms/step - loss: 0.7963 - custom_accuracy: 0.8062 - val_loss: 0.8000 - val_custom_accuracy: 0.8181\n",
      "Epoch 3/50\n",
      "67/67 [==============================] - 39s 589ms/step - loss: 0.7196 - custom_accuracy: 0.8553 - val_loss: 0.7303 - val_custom_accuracy: 0.8314\n",
      "Epoch 4/50\n",
      "67/67 [==============================] - 40s 591ms/step - loss: 0.6310 - custom_accuracy: 0.8928 - val_loss: 0.6471 - val_custom_accuracy: 0.8667\n",
      "Epoch 5/50\n",
      "67/67 [==============================] - 38s 570ms/step - loss: 0.5617 - custom_accuracy: 0.9217 - val_loss: 0.5940 - val_custom_accuracy: 0.8867\n",
      "Epoch 6/50\n",
      "67/67 [==============================] - 38s 572ms/step - loss: 0.5339 - custom_accuracy: 0.9257 - val_loss: 0.5797 - val_custom_accuracy: 0.9000\n",
      "Epoch 7/50\n",
      "67/67 [==============================] - 38s 572ms/step - loss: 0.5219 - custom_accuracy: 0.9275 - val_loss: 0.5739 - val_custom_accuracy: 0.8990\n",
      "Epoch 8/50\n",
      "67/67 [==============================] - 38s 569ms/step - loss: 0.5138 - custom_accuracy: 0.9262 - val_loss: 0.5671 - val_custom_accuracy: 0.9010\n",
      "Epoch 9/50\n",
      "67/67 [==============================] - 38s 568ms/step - loss: 0.5077 - custom_accuracy: 0.9265 - val_loss: 0.5633 - val_custom_accuracy: 0.8990\n",
      "Epoch 10/50\n",
      "67/67 [==============================] - 38s 569ms/step - loss: 0.5027 - custom_accuracy: 0.9296 - val_loss: 0.5597 - val_custom_accuracy: 0.8952\n",
      "Epoch 11/50\n",
      "67/67 [==============================] - 38s 570ms/step - loss: 0.4990 - custom_accuracy: 0.9307 - val_loss: 0.5560 - val_custom_accuracy: 0.8952\n",
      "Epoch 12/50\n",
      "67/67 [==============================] - 38s 570ms/step - loss: 0.4957 - custom_accuracy: 0.9306 - val_loss: 0.5508 - val_custom_accuracy: 0.8990\n",
      "Epoch 13/50\n",
      "67/67 [==============================] - 38s 568ms/step - loss: 0.4930 - custom_accuracy: 0.9314 - val_loss: 0.5519 - val_custom_accuracy: 0.8933\n",
      "Epoch 14/50\n",
      "67/67 [==============================] - 38s 570ms/step - loss: 0.4906 - custom_accuracy: 0.9304 - val_loss: 0.5465 - val_custom_accuracy: 0.8990\n",
      "Epoch 15/50\n",
      "67/67 [==============================] - 38s 569ms/step - loss: 0.4882 - custom_accuracy: 0.9316 - val_loss: 0.5454 - val_custom_accuracy: 0.8962\n",
      "Epoch 16/50\n",
      "67/67 [==============================] - 38s 570ms/step - loss: 0.4860 - custom_accuracy: 0.9327 - val_loss: 0.5448 - val_custom_accuracy: 0.8943\n",
      "Epoch 17/50\n",
      "67/67 [==============================] - 39s 579ms/step - loss: 0.4834 - custom_accuracy: 0.9324 - val_loss: 0.5419 - val_custom_accuracy: 0.9000\n",
      "Epoch 18/50\n",
      "67/67 [==============================] - 38s 570ms/step - loss: 0.4807 - custom_accuracy: 0.9340 - val_loss: 0.5379 - val_custom_accuracy: 0.8943\n",
      "Epoch 19/50\n",
      "67/67 [==============================] - 40s 595ms/step - loss: 0.4782 - custom_accuracy: 0.9331 - val_loss: 0.5364 - val_custom_accuracy: 0.8962\n",
      "Epoch 20/50\n",
      "67/67 [==============================] - 38s 574ms/step - loss: 0.4754 - custom_accuracy: 0.9350 - val_loss: 0.5326 - val_custom_accuracy: 0.8914\n",
      "Epoch 21/50\n",
      "67/67 [==============================] - 38s 570ms/step - loss: 0.4729 - custom_accuracy: 0.9351 - val_loss: 0.5313 - val_custom_accuracy: 0.8962\n",
      "Epoch 22/50\n",
      "67/67 [==============================] - 40s 598ms/step - loss: 0.4698 - custom_accuracy: 0.9367 - val_loss: 0.5277 - val_custom_accuracy: 0.9000\n",
      "Epoch 23/50\n",
      "67/67 [==============================] - 39s 582ms/step - loss: 0.4667 - custom_accuracy: 0.9369 - val_loss: 0.5244 - val_custom_accuracy: 0.9029\n",
      "Epoch 24/50\n",
      "67/67 [==============================] - 39s 588ms/step - loss: 0.4635 - custom_accuracy: 0.9432 - val_loss: 0.5222 - val_custom_accuracy: 0.9095\n",
      "Epoch 25/50\n",
      "67/67 [==============================] - 40s 593ms/step - loss: 0.4601 - custom_accuracy: 0.9467 - val_loss: 0.5160 - val_custom_accuracy: 0.9190\n",
      "Epoch 26/50\n",
      "67/67 [==============================] - 39s 589ms/step - loss: 0.4567 - custom_accuracy: 0.9472 - val_loss: 0.5124 - val_custom_accuracy: 0.9248\n",
      "Epoch 27/50\n",
      "67/67 [==============================] - 40s 591ms/step - loss: 0.4538 - custom_accuracy: 0.9483 - val_loss: 0.5101 - val_custom_accuracy: 0.9219\n",
      "Epoch 28/50\n",
      "67/67 [==============================] - 40s 596ms/step - loss: 0.4513 - custom_accuracy: 0.9504 - val_loss: 0.5043 - val_custom_accuracy: 0.9352\n",
      "Epoch 29/50\n",
      "67/67 [==============================] - 42s 626ms/step - loss: 0.4493 - custom_accuracy: 0.9511 - val_loss: 0.5045 - val_custom_accuracy: 0.9267\n",
      "Epoch 30/50\n",
      "67/67 [==============================] - 38s 569ms/step - loss: 0.4471 - custom_accuracy: 0.9517 - val_loss: 0.5013 - val_custom_accuracy: 0.9371\n",
      "Epoch 31/50\n",
      "67/67 [==============================] - 38s 571ms/step - loss: 0.4453 - custom_accuracy: 0.9520 - val_loss: 0.4973 - val_custom_accuracy: 0.9343\n",
      "Epoch 32/50\n",
      "67/67 [==============================] - 39s 578ms/step - loss: 0.4434 - custom_accuracy: 0.9531 - val_loss: 0.4938 - val_custom_accuracy: 0.9429\n",
      "Epoch 33/50\n",
      "67/67 [==============================] - 41s 619ms/step - loss: 0.4416 - custom_accuracy: 0.9525 - val_loss: 0.4935 - val_custom_accuracy: 0.9476\n",
      "Epoch 34/50\n",
      "67/67 [==============================] - 38s 574ms/step - loss: 0.4400 - custom_accuracy: 0.9510 - val_loss: 0.4885 - val_custom_accuracy: 0.9429\n",
      "Epoch 35/50\n",
      "67/67 [==============================] - 38s 569ms/step - loss: 0.4385 - custom_accuracy: 0.9511 - val_loss: 0.4865 - val_custom_accuracy: 0.9476\n",
      "Epoch 36/50\n",
      "67/67 [==============================] - 39s 578ms/step - loss: 0.4373 - custom_accuracy: 0.9493 - val_loss: 0.4853 - val_custom_accuracy: 0.9590\n",
      "Epoch 37/50\n",
      "67/67 [==============================] - 40s 593ms/step - loss: 0.4364 - custom_accuracy: 0.9496 - val_loss: 0.4829 - val_custom_accuracy: 0.9524\n",
      "Epoch 38/50\n",
      "67/67 [==============================] - 40s 598ms/step - loss: 0.4354 - custom_accuracy: 0.9485 - val_loss: 0.4800 - val_custom_accuracy: 0.9543\n",
      "Epoch 39/50\n",
      "67/67 [==============================] - 39s 583ms/step - loss: 0.4344 - custom_accuracy: 0.9488 - val_loss: 0.4779 - val_custom_accuracy: 0.9581\n",
      "Epoch 40/50\n",
      "67/67 [==============================] - 39s 583ms/step - loss: 0.4337 - custom_accuracy: 0.9496 - val_loss: 0.4776 - val_custom_accuracy: 0.9562\n",
      "Epoch 41/50\n",
      "67/67 [==============================] - 39s 575ms/step - loss: 0.4333 - custom_accuracy: 0.9493 - val_loss: 0.4750 - val_custom_accuracy: 0.9524\n",
      "Epoch 42/50\n",
      "67/67 [==============================] - 41s 616ms/step - loss: 0.4326 - custom_accuracy: 0.9494 - val_loss: 0.4759 - val_custom_accuracy: 0.9524\n",
      "Epoch 43/50\n",
      "67/67 [==============================] - 39s 588ms/step - loss: 0.4322 - custom_accuracy: 0.9487 - val_loss: 0.4724 - val_custom_accuracy: 0.9562\n",
      "Epoch 44/50\n",
      "67/67 [==============================] - 39s 576ms/step - loss: 0.4322 - custom_accuracy: 0.9500 - val_loss: 0.4710 - val_custom_accuracy: 0.9543\n",
      "Epoch 45/50\n",
      "67/67 [==============================] - 39s 578ms/step - loss: 0.4314 - custom_accuracy: 0.9498 - val_loss: 0.4698 - val_custom_accuracy: 0.9581\n",
      "Epoch 46/50\n",
      "67/67 [==============================] - 39s 576ms/step - loss: 0.4310 - custom_accuracy: 0.9479 - val_loss: 0.4698 - val_custom_accuracy: 0.9524\n",
      "Epoch 47/50\n",
      "67/67 [==============================] - 38s 573ms/step - loss: 0.4305 - custom_accuracy: 0.9500 - val_loss: 0.4673 - val_custom_accuracy: 0.9524\n",
      "Epoch 48/50\n",
      "67/67 [==============================] - 38s 574ms/step - loss: 0.4304 - custom_accuracy: 0.9497 - val_loss: 0.4671 - val_custom_accuracy: 0.9562\n",
      "Epoch 49/50\n",
      "67/67 [==============================] - 38s 572ms/step - loss: 0.4297 - custom_accuracy: 0.9508 - val_loss: 0.4677 - val_custom_accuracy: 0.9562\n",
      "Epoch 50/50\n",
      "67/67 [==============================] - 38s 575ms/step - loss: 0.4294 - custom_accuracy: 0.9490 - val_loss: 0.4651 - val_custom_accuracy: 0.9571\n"
     ]
    }
   ],
   "source": [
    "history = qcnn_model.fit(x=train_circuits_data,\n",
    "                         y=y_train,\n",
    "                         batch_size=75,\n",
    "                         epochs=50,\n",
    "                         verbose=1,\n",
    "                         validation_data=(test_circuits_data, y_test))"
   ]
  },
  {
   "cell_type": "code",
   "execution_count": 14,
   "id": "ac03f473",
   "metadata": {},
   "outputs": [
    {
     "data": {
      "image/png": "[encoded data removed]",
      "text/plain": [
       "<Figure size 640x480 with 1 Axes>"
      ]
     },
     "metadata": {},
     "output_type": "display_data"
    }
   ],
   "source": [
    "plt.plot(history.history['loss'][1:], label='Training')\n",
    "plt.plot(history.history['val_loss'][1:], label='Validation')\n",
    "plt.title('Training a Quantum CNN ')\n",
    "plt.xlabel('Epochs')\n",
    "plt.ylabel('Loss')\n",
    "plt.legend()\n",
    "plt.show()"
   ]
  },
  {
   "cell_type": "code",
   "execution_count": 13,
   "id": "d759e1c4",
   "metadata": {},
   "outputs": [
    {
     "data": {
      "image/png": "[encoded data removed]",
      "text/plain": [
       "<Figure size 640x480 with 1 Axes>"
      ]
     },
     "metadata": {},
     "output_type": "display_data"
    }
   ],
   "source": [
    "plt.plot(history.history['val_custom_accuracy'], label='QCNN')\n",
    "plt.title('Quantum vs Hybrid CNN performance')\n",
    "plt.xlabel('Epochs')\n",
    "plt.legend()\n",
    "plt.ylabel('Validation Accuracy')\n",
    "plt.show()"
   ]
  },
  {
   "cell_type": "code",
   "execution_count": 15,
   "id": "1532ef84",
   "metadata": {},
   "outputs": [],
   "source": [
    "np.savetxt('11loss.txt', history.history['loss'][1:])\n",
    "np.savetxt('11val_loss.txt', history.history['val_loss'][1:])\n",
    "\n",
    "np.savetxt('11val_acc.txt', history.history['val_custom_accuracy'])"
   ]
  }
 ],
 "metadata": {
  "kernelspec": {
   "display_name": "qcnn",
   "language": "python",
   "name": "qcnn"
  },
  "language_info": {
   "codemirror_mode": {
    "name": "ipython",
    "version": 3
   },
   "file_extension": ".py",
   "mimetype": "text/x-python",
   "name": "python",
   "nbconvert_exporter": "python",
   "pygments_lexer": "ipython3",
   "version": "3.8.16"
  }
 },
 "nbformat": 4,
 "nbformat_minor": 5
}
