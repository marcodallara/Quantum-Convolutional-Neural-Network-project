{
 "cells": [
  {
   "cell_type": "code",
   "execution_count": 1,
   "id": "2a27cb44",
   "metadata": {},
   "outputs": [
    {
     "name": "stderr",
     "output_type": "stream",
     "text": [
      "2023-07-08 13:15:07.549418: W tensorflow/stream_executor/platform/default/dso_loader.cc:64] Could not load dynamic library 'libcudart.so.11.0'; dlerror: libcudart.so.11.0: cannot open shared object file: No such file or directory\n",
      "2023-07-08 13:15:07.549443: I tensorflow/stream_executor/cuda/cudart_stub.cc:29] Ignore above cudart dlerror if you do not have a GPU set up on your machine.\n",
      "2023-07-08 13:15:11.171666: W tensorflow/stream_executor/platform/default/dso_loader.cc:64] Could not load dynamic library 'libcuda.so.1'; dlerror: libcuda.so.1: cannot open shared object file: No such file or directory\n",
      "2023-07-08 13:15:11.171691: W tensorflow/stream_executor/cuda/cuda_driver.cc:269] failed call to cuInit: UNKNOWN ERROR (303)\n",
      "2023-07-08 13:15:11.171713: I tensorflow/stream_executor/cuda/cuda_diagnostics.cc:156] kernel driver does not appear to be running on this host (giulio-HP-250-G7-Notebook-PC): /proc/driver/nvidia/version does not exist\n",
      "2023-07-08 13:15:11.171995: I tensorflow/core/platform/cpu_feature_guard.cc:151] This TensorFlow binary is optimized with oneAPI Deep Neural Network Library (oneDNN) to use the following CPU instructions in performance-critical operations:  AVX2 FMA\n",
      "To enable them in other operations, rebuild TensorFlow with the appropriate compiler flags.\n"
     ]
    }
   ],
   "source": [
    "import tensorflow as tf\n",
    "import tensorflow_quantum as tfq\n",
    "\n",
    "\n",
    "import cirq\n",
    "import sympy\n",
    "import numpy as np\n",
    "from numpy import linalg as LA\n",
    "import copy\n",
    "import itertools\n",
    "import collections\n",
    "import json\n",
    "\n",
    "\n",
    "# visualization tools\n",
    "%matplotlib inline\n",
    "import matplotlib.pyplot as plt\n",
    "from cirq.contrib.svg import SVGCircuit"
   ]
  },
  {
   "cell_type": "markdown",
   "id": "5659c6f1",
   "metadata": {},
   "source": [
    "## Definition of two qbits"
   ]
  },
  {
   "cell_type": "code",
   "execution_count": 2,
   "id": "45d77301",
   "metadata": {},
   "outputs": [],
   "source": [
    "def one_qubit_unitary(bit, symbols):\n",
    "    \"\"\"Make a Cirq circuit enacting a rotation of the bloch sphere about the X,\n",
    "    Y and Z axis, that depends on the values in `symbols`.\n",
    "    \"\"\"\n",
    "    return cirq.Circuit(\n",
    "        cirq.X(bit)**symbols[0],\n",
    "        cirq.Y(bit)**symbols[1],\n",
    "        cirq.Z(bit)**symbols[2])\n",
    "\n",
    "    \n",
    "def two_qubit_unitary(bits, symbols):\n",
    "    \"\"\"Make a Cirq circuit that creates an arbitrary two qubit unitary.\"\"\"\n",
    "    circuit = cirq.Circuit()\n",
    "    circuit += one_qubit_unitary(bits[0], symbols[0:3])\n",
    "    circuit += one_qubit_unitary(bits[1], symbols[3:6])\n",
    "    circuit += [cirq.ZZ(*bits)**symbols[6]]\n",
    "    circuit += [cirq.YY(*bits)**symbols[7]]\n",
    "    circuit += [cirq.XX(*bits)**symbols[8]]\n",
    "    circuit += one_qubit_unitary(bits[0], symbols[9:12])\n",
    "    circuit += one_qubit_unitary(bits[1], symbols[12:])\n",
    "    return circuit\n",
    "\n",
    "\n",
    "def two_qubit_pool(source_qubit, sink_qubit, symbols):\n",
    "    \"\"\"Make a Cirq circuit to do a parameterized 'pooling' operation, which\n",
    "    attempts to reduce entanglement down from two qubits to just one.\"\"\"\n",
    "    pool_circuit = cirq.Circuit()\n",
    "    sink_basis_selector = one_qubit_unitary(sink_qubit, symbols[0:3])\n",
    "    source_basis_selector = one_qubit_unitary(source_qubit, symbols[3:6])\n",
    "    pool_circuit.append(sink_basis_selector)\n",
    "    pool_circuit.append(source_basis_selector)\n",
    "    pool_circuit.append(cirq.CNOT(control=source_qubit, target=sink_qubit))\n",
    "    pool_circuit.append(sink_basis_selector**-1)\n",
    "    return pool_circuit"
   ]
  },
  {
   "cell_type": "markdown",
   "id": "fff8f9da",
   "metadata": {},
   "source": [
    "## QCNN"
   ]
  },
  {
   "cell_type": "code",
   "execution_count": 3,
   "id": "9fd265a2",
   "metadata": {},
   "outputs": [],
   "source": [
    "def quantum_conv_circuit(bits, symbols):\n",
    "    \"\"\"Quantum Convolution Layer following the above diagram.\n",
    "    Return a Cirq circuit with the cascade of `two_qubit_unitary` applied\n",
    "    to all pairs of qubits in `bits` as in the diagram above.\n",
    "    \"\"\"\n",
    "    circuit = cirq.Circuit()\n",
    "    for first, second in zip(bits[0::2], bits[1::2]):\n",
    "        circuit += two_qubit_unitary([first, second], symbols)\n",
    "    for first, second in zip(bits[1::2], bits[2::2] + [bits[0]]):\n",
    "        circuit += two_qubit_unitary([first, second], symbols)\n",
    "    return circuit\n",
    "\n",
    "\n",
    "def quantum_pool_circuit(source_bits, sink_bits, symbols):\n",
    "    \"\"\"A layer that specifies a quantum pooling operation.\n",
    "    A Quantum pool tries to learn to pool the relevant information from two\n",
    "    qubits onto 1.\n",
    "    \"\"\"\n",
    "    circuit = cirq.Circuit()\n",
    "    for source, sink in zip(source_bits, sink_bits):\n",
    "        circuit += two_qubit_pool(source, sink, symbols)\n",
    "    return circuit"
   ]
  },
  {
   "cell_type": "markdown",
   "id": "300412a2",
   "metadata": {},
   "source": [
    "## QFCC"
   ]
  },
  {
   "cell_type": "code",
   "execution_count": 4,
   "id": "1cf653f8",
   "metadata": {},
   "outputs": [],
   "source": [
    "def circuit_2(symbols, qubits):\n",
    "    circuit = cirq.Circuit()\n",
    "    # 5 params\n",
    "    circuit += cirq.rx(symbols[0]).on(qubits[0])\n",
    "    circuit += cirq.rx(symbols[1]).on(qubits[1])\n",
    "    circuit += cirq.rx(symbols[2]).on(qubits[2])\n",
    "    \n",
    "\n",
    "    circuit += cirq.rz(symbols[3]).on(qubits[0])\n",
    "    circuit += cirq.rz(symbols[4]).on(qubits[1])\n",
    "    circuit += cirq.rz(symbols[5]).on(qubits[2])\n",
    "    \n",
    "        \n",
    "    circuit += cirq.CNOT(qubits[1], qubits[0])\n",
    "    circuit += cirq.CNOT(qubits[2], qubits[1])\n",
    "    \n",
    "    \n",
    "    return circuit"
   ]
  },
  {
   "cell_type": "markdown",
   "id": "7a2387fe",
   "metadata": {},
   "source": [
    "## Create the model"
   ]
  },
  {
   "cell_type": "code",
   "execution_count": 5,
   "id": "ac0267bc",
   "metadata": {},
   "outputs": [
    {
     "name": "stdout",
     "output_type": "stream",
     "text": [
      "('You must install pydot (`pip install pydot`) and install graphviz (see instructions at https://graphviz.gitlab.io/download/) ', 'for plot_model/model_to_dot to work.')\n"
     ]
    }
   ],
   "source": [
    "def create_model_circuit(qubits):\n",
    "    \"\"\"Create sequence of alternating convolution and pooling operators \n",
    "    which gradually shrink over time.\"\"\"\n",
    "    model_circuit = cirq.Circuit()\n",
    "    symbols = sympy.symbols('qconv0:42')\n",
    "    # Cirq uses sympy.Symbols to map learnable variables. TensorFlow Quantum\n",
    "    # scans incoming circuits and replaces these with TensorFlow variables.\n",
    "    model_circuit += quantum_conv_circuit(qubits, symbols[0:15])\n",
    "    model_circuit += quantum_pool_circuit(qubits[:3], qubits[3:],\n",
    "                                          symbols[15:21])\n",
    "    model_circuit += quantum_conv_circuit(qubits[3:], symbols[21:36])\n",
    "\n",
    "    model_circuit += circuit_2(symbols[36:42], qubits[3:])\n",
    "    \n",
    "    #model_circuit += (cirq.r(symbols[36]) * cirq.Y(symbols[36])).controlled_by(qubits[5])\n",
    "    \n",
    "    #cirq.ControlledGate(cirq.rx(symbols[36]) * cirq.ry(symbols[37]) * cirq.rz(symbols[38])).on(qubits[4], qubits[5])\n",
    "    #model_circuit += cirq.ControlledGate(my_U).on(qubits[4], qubits[5])\n",
    "    #model_circuit += cirq.Circuit(custom_gate.on(*qubits[2:4]))\n",
    "    #model_circuit += quantum_fc_circuit(qubits[3:], symbols[36:75])\n",
    "\n",
    "    \n",
    "    return model_circuit\n",
    "\n",
    "\n",
    "from tensorflow_quantum import differentiators\n",
    "\n",
    "\n",
    "qubits = cirq.GridQubit.rect(1, 6) #grid of qubit \n",
    "readout_operators = cirq.Z(qubits[-1]) #grid of operator i want to average on (final expected value)\n",
    "\n",
    "# Build a sequential model enacting the logic in 1.3 of this notebook.\n",
    "inputs = tf.keras.Input(shape=(), dtype=tf.dtypes.string) #still general input\n",
    "\n",
    "#define the differentiator\n",
    "#differentiator = differentiators.ParameterShift()\n",
    "\n",
    "\n",
    "#define the model \n",
    "quantum_model = tfq.layers.PQC(create_model_circuit(qubits),readout_operators)(inputs)\n",
    "\n",
    "qcnn_model = tf.keras.Model(inputs=[inputs], outputs=[quantum_model])\n",
    "\n",
    "# Show the keras plot of the model\n",
    "tf.keras.utils.plot_model(qcnn_model,\n",
    "                          show_shapes=True,\n",
    "                          show_layer_names=False,\n",
    "                          dpi=70)"
   ]
  },
  {
   "cell_type": "markdown",
   "id": "5b0cb58d",
   "metadata": {},
   "source": [
    "## Load data of amplitude encoding"
   ]
  },
  {
   "cell_type": "code",
   "execution_count": 6,
   "id": "76447216",
   "metadata": {},
   "outputs": [],
   "source": [
    "import json\n",
    "\n",
    "# Open the file in read mode\n",
    "with open('amplitude_encoding_train.json', 'r') as f:\n",
    "    # Use json.load() to read the contents of the file\n",
    "    new_circuit = json.load(f)\n",
    "\n",
    "# Close the file\n",
    "f.close()\n",
    "train_circuits_data = [cirq.read_json(json_text=new_circuit[i]) for i in range((5000))]\n",
    "\n",
    "# Open the file in read mode\n",
    "with open('amplitude_encoding_test.json', 'r') as f:\n",
    "    # Use json.load() to read the contents of the file\n",
    "    new_circuit = json.load(f)\n",
    "\n",
    "# Close the file\n",
    "f.close()\n",
    "test_circuits_data = [cirq.read_json(json_text=new_circuit[i]) for i in range((500))]\n",
    "\n",
    "y_train = np.loadtxt(\"y_train.txt\")\n",
    "y_test = np.loadtxt(\"y_test.txt\")\n",
    "\n",
    "y_train = y_train[:5000]\n",
    "y_test = y_test[:500]\n"
   ]
  },
  {
   "cell_type": "code",
   "execution_count": 7,
   "id": "12274584",
   "metadata": {},
   "outputs": [],
   "source": [
    "# convert to tensors\n",
    "train_circuits_data = tfq.convert_to_tensor(train_circuits_data)\n",
    "test_circuits_data = tfq.convert_to_tensor(test_circuits_data)"
   ]
  },
  {
   "cell_type": "code",
   "execution_count": 8,
   "id": "f12aa957",
   "metadata": {},
   "outputs": [],
   "source": [
    "\n",
    "# Custom accuracy metric.\n",
    "@tf.function\n",
    "def custom_accuracy(y_true, y_pred):\n",
    "    y_true = tf.squeeze(y_true)\n",
    "    y_pred = tf.map_fn(lambda x: 1.0 if x >= 0 else -1.0, y_pred)\n",
    "    return tf.keras.backend.mean(tf.keras.backend.equal(y_true, y_pred))\n",
    "\n",
    "\n",
    "qcnn_model.compile(optimizer=tf.keras.optimizers.Adam(learning_rate=0.001),\n",
    "                   loss=tf.losses.mse,\n",
    "                   metrics=[custom_accuracy])"
   ]
  },
  {
   "cell_type": "code",
   "execution_count": 9,
   "id": "964055d7",
   "metadata": {},
   "outputs": [
    {
     "name": "stdout",
     "output_type": "stream",
     "text": [
      "Epoch 1/50\n",
      "67/67 [==============================] - 39s 570ms/step - loss: 0.7789 - custom_accuracy: 0.7912 - val_loss: 0.6635 - val_custom_accuracy: 0.9000\n",
      "Epoch 2/50\n",
      "67/67 [==============================] - 38s 565ms/step - loss: 0.5639 - custom_accuracy: 0.9274 - val_loss: 0.5313 - val_custom_accuracy: 0.9200\n",
      "Epoch 3/50\n",
      "67/67 [==============================] - 38s 566ms/step - loss: 0.4774 - custom_accuracy: 0.9365 - val_loss: 0.4844 - val_custom_accuracy: 0.9324\n",
      "Epoch 4/50\n",
      "67/67 [==============================] - 37s 557ms/step - loss: 0.4437 - custom_accuracy: 0.9391 - val_loss: 0.4698 - val_custom_accuracy: 0.9333\n",
      "Epoch 5/50\n",
      "67/67 [==============================] - 37s 555ms/step - loss: 0.4311 - custom_accuracy: 0.9399 - val_loss: 0.4650 - val_custom_accuracy: 0.9352\n",
      "Epoch 6/50\n",
      "67/67 [==============================] - 37s 559ms/step - loss: 0.4262 - custom_accuracy: 0.9416 - val_loss: 0.4640 - val_custom_accuracy: 0.9295\n",
      "Epoch 7/50\n",
      "67/67 [==============================] - 37s 556ms/step - loss: 0.4227 - custom_accuracy: 0.9445 - val_loss: 0.4599 - val_custom_accuracy: 0.9371\n",
      "Epoch 8/50\n",
      "67/67 [==============================] - 37s 560ms/step - loss: 0.4210 - custom_accuracy: 0.9428 - val_loss: 0.4590 - val_custom_accuracy: 0.9371\n",
      "Epoch 9/50\n",
      "67/67 [==============================] - 37s 560ms/step - loss: 0.4185 - custom_accuracy: 0.9448 - val_loss: 0.4584 - val_custom_accuracy: 0.9352\n",
      "Epoch 10/50\n",
      "67/67 [==============================] - 38s 568ms/step - loss: 0.4170 - custom_accuracy: 0.9452 - val_loss: 0.4588 - val_custom_accuracy: 0.9352\n",
      "Epoch 11/50\n",
      "67/67 [==============================] - 37s 555ms/step - loss: 0.4154 - custom_accuracy: 0.9453 - val_loss: 0.4577 - val_custom_accuracy: 0.9390\n",
      "Epoch 12/50\n",
      "67/67 [==============================] - 37s 554ms/step - loss: 0.4141 - custom_accuracy: 0.9457 - val_loss: 0.4577 - val_custom_accuracy: 0.9333\n",
      "Epoch 13/50\n",
      "67/67 [==============================] - 37s 557ms/step - loss: 0.4132 - custom_accuracy: 0.9469 - val_loss: 0.4568 - val_custom_accuracy: 0.9371\n",
      "Epoch 14/50\n",
      "67/67 [==============================] - 37s 557ms/step - loss: 0.4122 - custom_accuracy: 0.9461 - val_loss: 0.4563 - val_custom_accuracy: 0.9352\n",
      "Epoch 15/50\n",
      "67/67 [==============================] - 37s 559ms/step - loss: 0.4112 - custom_accuracy: 0.9468 - val_loss: 0.4562 - val_custom_accuracy: 0.9352\n",
      "Epoch 16/50\n",
      "67/67 [==============================] - 38s 565ms/step - loss: 0.4106 - custom_accuracy: 0.9469 - val_loss: 0.4552 - val_custom_accuracy: 0.9390\n",
      "Epoch 17/50\n",
      "67/67 [==============================] - 37s 557ms/step - loss: 0.4106 - custom_accuracy: 0.9461 - val_loss: 0.4568 - val_custom_accuracy: 0.9371\n",
      "Epoch 18/50\n",
      "67/67 [==============================] - 37s 560ms/step - loss: 0.4097 - custom_accuracy: 0.9463 - val_loss: 0.4566 - val_custom_accuracy: 0.9448\n",
      "Epoch 19/50\n",
      "67/67 [==============================] - 39s 578ms/step - loss: 0.4094 - custom_accuracy: 0.9462 - val_loss: 0.4535 - val_custom_accuracy: 0.9390\n",
      "Epoch 20/50\n",
      "67/67 [==============================] - 38s 570ms/step - loss: 0.4091 - custom_accuracy: 0.9464 - val_loss: 0.4544 - val_custom_accuracy: 0.9429\n",
      "Epoch 21/50\n",
      "67/67 [==============================] - 38s 567ms/step - loss: 0.4082 - custom_accuracy: 0.9456 - val_loss: 0.4547 - val_custom_accuracy: 0.9390\n",
      "Epoch 22/50\n",
      "67/67 [==============================] - 37s 558ms/step - loss: 0.4077 - custom_accuracy: 0.9464 - val_loss: 0.4545 - val_custom_accuracy: 0.9410\n",
      "Epoch 23/50\n",
      "67/67 [==============================] - 37s 555ms/step - loss: 0.4074 - custom_accuracy: 0.9465 - val_loss: 0.4518 - val_custom_accuracy: 0.9390\n",
      "Epoch 24/50\n",
      "67/67 [==============================] - 38s 562ms/step - loss: 0.4074 - custom_accuracy: 0.9475 - val_loss: 0.4514 - val_custom_accuracy: 0.9352\n",
      "Epoch 25/50\n",
      "67/67 [==============================] - 39s 576ms/step - loss: 0.4068 - custom_accuracy: 0.9463 - val_loss: 0.4503 - val_custom_accuracy: 0.9371\n",
      "Epoch 26/50\n",
      "67/67 [==============================] - 39s 578ms/step - loss: 0.4060 - custom_accuracy: 0.9471 - val_loss: 0.4505 - val_custom_accuracy: 0.9371\n",
      "Epoch 27/50\n",
      "67/67 [==============================] - 37s 556ms/step - loss: 0.4058 - custom_accuracy: 0.9477 - val_loss: 0.4491 - val_custom_accuracy: 0.9467\n",
      "Epoch 28/50\n",
      "67/67 [==============================] - 38s 565ms/step - loss: 0.4051 - custom_accuracy: 0.9474 - val_loss: 0.4476 - val_custom_accuracy: 0.9429\n",
      "Epoch 29/50\n",
      "67/67 [==============================] - 38s 567ms/step - loss: 0.4046 - custom_accuracy: 0.9468 - val_loss: 0.4467 - val_custom_accuracy: 0.9390\n",
      "Epoch 30/50\n",
      "67/67 [==============================] - 38s 574ms/step - loss: 0.4040 - custom_accuracy: 0.9467 - val_loss: 0.4442 - val_custom_accuracy: 0.9467\n",
      "Epoch 31/50\n",
      "67/67 [==============================] - 38s 574ms/step - loss: 0.4037 - custom_accuracy: 0.9479 - val_loss: 0.4429 - val_custom_accuracy: 0.9410\n",
      "Epoch 32/50\n",
      "67/67 [==============================] - 39s 576ms/step - loss: 0.4024 - custom_accuracy: 0.9473 - val_loss: 0.4426 - val_custom_accuracy: 0.9467\n",
      "Epoch 33/50\n",
      "67/67 [==============================] - 39s 591ms/step - loss: 0.4020 - custom_accuracy: 0.9496 - val_loss: 0.4413 - val_custom_accuracy: 0.9448\n",
      "Epoch 34/50\n",
      "67/67 [==============================] - 39s 580ms/step - loss: 0.4010 - custom_accuracy: 0.9481 - val_loss: 0.4409 - val_custom_accuracy: 0.9486\n",
      "Epoch 35/50\n",
      "67/67 [==============================] - 41s 621ms/step - loss: 0.4005 - custom_accuracy: 0.9485 - val_loss: 0.4386 - val_custom_accuracy: 0.9486\n",
      "Epoch 36/50\n",
      "67/67 [==============================] - 38s 566ms/step - loss: 0.4000 - custom_accuracy: 0.9491 - val_loss: 0.4385 - val_custom_accuracy: 0.9448\n",
      "Epoch 37/50\n",
      "67/67 [==============================] - 37s 556ms/step - loss: 0.3992 - custom_accuracy: 0.9481 - val_loss: 0.4378 - val_custom_accuracy: 0.9467\n",
      "Epoch 38/50\n",
      "67/67 [==============================] - 37s 559ms/step - loss: 0.3986 - custom_accuracy: 0.9494 - val_loss: 0.4342 - val_custom_accuracy: 0.9467\n",
      "Epoch 39/50\n",
      "67/67 [==============================] - 37s 557ms/step - loss: 0.3984 - custom_accuracy: 0.9499 - val_loss: 0.4373 - val_custom_accuracy: 0.9467\n",
      "Epoch 40/50\n",
      "67/67 [==============================] - 37s 558ms/step - loss: 0.3982 - custom_accuracy: 0.9496 - val_loss: 0.4347 - val_custom_accuracy: 0.9467\n",
      "Epoch 41/50\n",
      "67/67 [==============================] - 37s 558ms/step - loss: 0.3978 - custom_accuracy: 0.9487 - val_loss: 0.4338 - val_custom_accuracy: 0.9448\n",
      "Epoch 42/50\n",
      "67/67 [==============================] - 37s 558ms/step - loss: 0.3977 - custom_accuracy: 0.9495 - val_loss: 0.4354 - val_custom_accuracy: 0.9448\n",
      "Epoch 43/50\n",
      "67/67 [==============================] - 37s 558ms/step - loss: 0.3977 - custom_accuracy: 0.9495 - val_loss: 0.4339 - val_custom_accuracy: 0.9448\n",
      "Epoch 44/50\n",
      "67/67 [==============================] - 39s 579ms/step - loss: 0.3970 - custom_accuracy: 0.9506 - val_loss: 0.4344 - val_custom_accuracy: 0.9467\n",
      "Epoch 45/50\n",
      "67/67 [==============================] - 38s 574ms/step - loss: 0.3969 - custom_accuracy: 0.9498 - val_loss: 0.4320 - val_custom_accuracy: 0.9448\n",
      "Epoch 46/50\n",
      "67/67 [==============================] - 39s 578ms/step - loss: 0.3969 - custom_accuracy: 0.9509 - val_loss: 0.4312 - val_custom_accuracy: 0.9448\n",
      "Epoch 47/50\n",
      "67/67 [==============================] - 39s 576ms/step - loss: 0.3965 - custom_accuracy: 0.9502 - val_loss: 0.4326 - val_custom_accuracy: 0.9448\n",
      "Epoch 48/50\n",
      "67/67 [==============================] - 39s 580ms/step - loss: 0.3961 - custom_accuracy: 0.9510 - val_loss: 0.4331 - val_custom_accuracy: 0.9486\n",
      "Epoch 49/50\n",
      "67/67 [==============================] - 37s 558ms/step - loss: 0.3960 - custom_accuracy: 0.9501 - val_loss: 0.4320 - val_custom_accuracy: 0.9486\n",
      "Epoch 50/50\n",
      "67/67 [==============================] - 37s 560ms/step - loss: 0.3959 - custom_accuracy: 0.9514 - val_loss: 0.4323 - val_custom_accuracy: 0.9467\n"
     ]
    }
   ],
   "source": [
    "history = qcnn_model.fit(x=train_circuits_data,\n",
    "                         y=y_train,\n",
    "                         batch_size=75,\n",
    "                         epochs=50,\n",
    "                         verbose=1,\n",
    "                         validation_data=(test_circuits_data, y_test))"
   ]
  },
  {
   "cell_type": "code",
   "execution_count": 10,
   "id": "ac03f473",
   "metadata": {},
   "outputs": [
    {
     "data": {
      "image/png": "[encoded data removed]",
      "text/plain": [
       "<Figure size 640x480 with 1 Axes>"
      ]
     },
     "metadata": {},
     "output_type": "display_data"
    }
   ],
   "source": [
    "plt.plot(history.history['loss'][1:], label='Training')\n",
    "plt.plot(history.history['val_loss'][1:], label='Validation')\n",
    "plt.title('Training a Quantum CNN ')\n",
    "plt.xlabel('Epochs')\n",
    "plt.ylabel('Loss')\n",
    "plt.legend()\n",
    "plt.show()"
   ]
  },
  {
   "cell_type": "code",
   "execution_count": 11,
   "id": "d759e1c4",
   "metadata": {},
   "outputs": [
    {
     "data": {
      "image/png": "[encoded data removed]",
      "text/plain": [
       "<Figure size 640x480 with 1 Axes>"
      ]
     },
     "metadata": {},
     "output_type": "display_data"
    }
   ],
   "source": [
    "plt.plot(history.history['val_custom_accuracy'], label='QCNN')\n",
    "plt.title('Quantum vs Hybrid CNN performance')\n",
    "plt.xlabel('Epochs')\n",
    "plt.legend()\n",
    "plt.ylabel('Validation Accuracy')\n",
    "plt.show()"
   ]
  },
  {
   "cell_type": "code",
   "execution_count": 12,
   "id": "1532ef84",
   "metadata": {},
   "outputs": [],
   "source": [
    "np.savetxt('2loss.txt', history.history['loss'][1:])\n",
    "np.savetxt('2val_loss.txt', history.history['val_loss'][1:])\n",
    "\n",
    "np.savetxt('2val_acc.txt', history.history['val_custom_accuracy'])"
   ]
  },
  {
   "cell_type": "code",
   "execution_count": null,
   "id": "8bf4b596",
   "metadata": {},
   "outputs": [],
   "source": []
  }
 ],
 "metadata": {
  "kernelspec": {
   "display_name": "qcnn",
   "language": "python",
   "name": "qcnn"
  },
  "language_info": {
   "codemirror_mode": {
    "name": "ipython",
    "version": 3
   },
   "file_extension": ".py",
   "mimetype": "text/x-python",
   "name": "python",
   "nbconvert_exporter": "python",
   "pygments_lexer": "ipython3",
   "version": "3.8.16"
  }
 },
 "nbformat": 4,
 "nbformat_minor": 5
}
