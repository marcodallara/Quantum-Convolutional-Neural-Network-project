{
 "cells": [
  {
   "cell_type": "code",
   "execution_count": 1,
   "id": "4ff23843",
   "metadata": {},
   "outputs": [
    {
     "name": "stderr",
     "output_type": "stream",
     "text": [
      "2023-07-08 12:26:46.637145: W tensorflow/stream_executor/platform/default/dso_loader.cc:64] Could not load dynamic library 'libcudart.so.11.0'; dlerror: libcudart.so.11.0: cannot open shared object file: No such file or directory\n",
      "2023-07-08 12:26:46.637170: I tensorflow/stream_executor/cuda/cudart_stub.cc:29] Ignore above cudart dlerror if you do not have a GPU set up on your machine.\n",
      "2023-07-08 12:26:50.575649: W tensorflow/stream_executor/platform/default/dso_loader.cc:64] Could not load dynamic library 'libcuda.so.1'; dlerror: libcuda.so.1: cannot open shared object file: No such file or directory\n",
      "2023-07-08 12:26:50.575694: W tensorflow/stream_executor/cuda/cuda_driver.cc:269] failed call to cuInit: UNKNOWN ERROR (303)\n",
      "2023-07-08 12:26:50.575725: I tensorflow/stream_executor/cuda/cuda_diagnostics.cc:156] kernel driver does not appear to be running on this host (giulio-HP-250-G7-Notebook-PC): /proc/driver/nvidia/version does not exist\n",
      "2023-07-08 12:26:50.576021: I tensorflow/core/platform/cpu_feature_guard.cc:151] This TensorFlow binary is optimized with oneAPI Deep Neural Network Library (oneDNN) to use the following CPU instructions in performance-critical operations:  AVX2 FMA\n",
      "To enable them in other operations, rebuild TensorFlow with the appropriate compiler flags.\n"
     ]
    }
   ],
   "source": [
    "import tensorflow as tf\n",
    "import tensorflow_quantum as tfq\n",
    "\n",
    "import cirq\n",
    "import sympy\n",
    "import cmath\n",
    "import numpy as np\n",
    "from numpy import linalg as LA\n",
    "\n",
    "# visualization tools\n",
    "%matplotlib inline\n",
    "import matplotlib.pyplot as plt\n",
    "from cirq.contrib.svg import SVGCircuit\n"
   ]
  },
  {
   "cell_type": "markdown",
   "id": "b65ec9b4",
   "metadata": {},
   "source": [
    "## Definition of the gates"
   ]
  },
  {
   "cell_type": "code",
   "execution_count": 2,
   "id": "4ed9ff80",
   "metadata": {
    "scrolled": true
   },
   "outputs": [],
   "source": [
    "def one_qubit_unitary(bit, symbols):\n",
    "    \"\"\"Make a Cirq circuit enacting a rotation of the bloch sphere about the X,\n",
    "    Y and Z axis, that depends on the values in `symbols`.\n",
    "    \"\"\"\n",
    "    return cirq.Circuit(\n",
    "        cirq.X(bit)**symbols[0],\n",
    "        cirq.Y(bit)**symbols[1],\n",
    "        cirq.Z(bit)**symbols[2])\n",
    "\n",
    "    \n",
    "def two_qubit_unitary(bits, symbols):\n",
    "    \"\"\"Make a Cirq circuit that creates an arbitrary two qubit unitary.\"\"\"\n",
    "    circuit = cirq.Circuit()\n",
    "    circuit += one_qubit_unitary(bits[0], symbols[0:3])\n",
    "    circuit += one_qubit_unitary(bits[1], symbols[3:6])\n",
    "    circuit += [cirq.ZZ(*bits)**symbols[6]]\n",
    "    circuit += [cirq.YY(*bits)**symbols[7]]\n",
    "    circuit += [cirq.XX(*bits)**symbols[8]]\n",
    "    circuit += one_qubit_unitary(bits[0], symbols[9:12])\n",
    "    circuit += one_qubit_unitary(bits[1], symbols[12:])\n",
    "    return circuit\n",
    "\n",
    "\n",
    "def two_qubit_pool(source_qubit, sink_qubit, symbols):\n",
    "    \"\"\"Make a Cirq circuit to do a parameterized 'pooling' operation, which\n",
    "    attempts to reduce entanglement down from two qubits to just one.\"\"\"\n",
    "    pool_circuit = cirq.Circuit()\n",
    "    sink_basis_selector = one_qubit_unitary(sink_qubit, symbols[0:3])\n",
    "    source_basis_selector = one_qubit_unitary(source_qubit, symbols[3:6])\n",
    "    pool_circuit.append(sink_basis_selector)\n",
    "    pool_circuit.append(source_basis_selector)\n",
    "    pool_circuit.append(cirq.CNOT(control=source_qubit, target=sink_qubit))\n",
    "    pool_circuit.append(sink_basis_selector**-1)\n",
    "    return pool_circuit"
   ]
  },
  {
   "cell_type": "markdown",
   "id": "0f136229",
   "metadata": {},
   "source": [
    "## Local Gate for FCC "
   ]
  },
  {
   "cell_type": "code",
   "execution_count": 3,
   "id": "1734dafa",
   "metadata": {},
   "outputs": [],
   "source": [
    "\"\"\"Define a custom gate with a parameter.\"\"\"\n",
    "class one_gate_unitary(cirq.Gate):\n",
    "    def __init__(self, theta):\n",
    "        super(one_gate_unitary, self)\n",
    "        self.theta = theta\n",
    "\n",
    "    def _num_qubits_(self):\n",
    "        return 1\n",
    "\n",
    "    def _unitary_(self):\n",
    "        return np.array([\n",
    "            [np.exp(complex(0,self.theta[1]))*np.cos(self.theta[0]), np.exp(complex(0,self.theta[2]))*np.sin(self.theta[0])],\n",
    "            [-np.exp(-complex(0,self.theta[2]))*np.sin(self.theta[0]), np.exp(-complex(0,self.theta[1]))*np.cos(self.theta[0])]\n",
    "        ])\n",
    "\n",
    "    def _circuit_diagram_info_(self, args):\n",
    "        return f\"G({self.theta})\"\n"
   ]
  },
  {
   "cell_type": "markdown",
   "id": "8ad29811",
   "metadata": {},
   "source": [
    "## Definition of the convolutional model"
   ]
  },
  {
   "cell_type": "code",
   "execution_count": 4,
   "id": "a1a48774",
   "metadata": {},
   "outputs": [],
   "source": [
    "def quantum_conv_circuit(bits, symbols):\n",
    "    \"\"\"Quantum Convolution Layer following the above diagram.\n",
    "    Return a Cirq circuit with the cascade of `two_qubit_unitary` applied\n",
    "    to all pairs of qubits in `bits` as in the diagram above.\n",
    "    \"\"\"\n",
    "    circuit = cirq.Circuit()\n",
    "    for first, second in zip(bits[0::2], bits[1::2]):\n",
    "        circuit += two_qubit_unitary([first, second], symbols)\n",
    "    for first, second in zip(bits[1::2], bits[2::2] + [bits[0]]):\n",
    "        circuit += two_qubit_unitary([first, second], symbols)\n",
    "    return circuit\n",
    "\n",
    "\n",
    "def quantum_pool_circuit(source_bits, sink_bits, symbols):\n",
    "    \"\"\"A layer that specifies a quantum pooling operation.\n",
    "    A Quantum pool tries to learn to pool the relevant information from two\n",
    "    qubits onto 1.\n",
    "    \"\"\"\n",
    "    circuit = cirq.Circuit()\n",
    "    for source, sink in zip(source_bits, sink_bits):\n",
    "        circuit += two_qubit_pool(source, sink, symbols)\n",
    "    return circuit"
   ]
  },
  {
   "cell_type": "markdown",
   "id": "0135b5b4",
   "metadata": {},
   "source": [
    "## EXAMPLE TO USE cirq.ControllGate()"
   ]
  },
  {
   "cell_type": "markdown",
   "id": "19fe20dc",
   "metadata": {},
   "source": [
    "## Definition of Fully Connected Circuit"
   ]
  },
  {
   "cell_type": "code",
   "execution_count": 5,
   "id": "19dc81ad",
   "metadata": {},
   "outputs": [],
   "source": [
    "def qCZ_cirq(bits, symbols):\n",
    "    circuit = cirq.Circuit()\n",
    "    \n",
    "    #control on bits[1]\n",
    "    circuit += cirq.CZ(bits[0], bits[1])**symbols[0]\n",
    "    #control on bits[0]\n",
    "    circuit += cirq.CZ(bits[1], bits[0])**symbols[1]\n",
    "    \n",
    "    return circuit\n"
   ]
  },
  {
   "cell_type": "markdown",
   "id": "c4964799",
   "metadata": {},
   "source": [
    "# QFCC"
   ]
  },
  {
   "cell_type": "code",
   "execution_count": 6,
   "id": "aeffdb70",
   "metadata": {},
   "outputs": [],
   "source": [
    "def quantum_fc_circuit(bits, symbols, Fcc = True):\n",
    "    #Pay attention on the number of parameters needed: \n",
    "    circuit = cirq.Circuit()\n",
    "    '''for i in range(len(bits)):\n",
    "        circuit += one_qubit_unitary(bits[i], symbols[3*i: 3*(i+1)])\n",
    "    n = len(bits)*3'''\n",
    "    if(Fcc):\n",
    "        #needed 3*3*len(bits)+6\n",
    "        #counter for the params\n",
    "        n = 0\n",
    "        # hyperparams 0 < r < len(bits)\n",
    "        r = 1\n",
    "        # indixes of the qbits where to apply the gate\n",
    "        j = 0\n",
    "        for i in range(len(bits)):\n",
    "            #ui = one_gate_unitary(symbols[n + 6*i: n + 6*(i)+3])\n",
    "            #cz = cirq.CZ(qubits[0], qubits[1])\n",
    "            k = (j+r)%len(bits)\n",
    "            if(k == 0 ): k = len(bits)\n",
    "            circuit += cirq.CZ(bits[(j+r)%len(bits)], bits[j])**symbols[n + 6*i]\n",
    "            print(\"CZ\", i, j, (j+r)%len(bits))\n",
    "            circuit += cirq.CX(bits[j], bits[(j+r)%len(bits)])**symbols[n + 6*i + 1]\n",
    "            print(\"CX\", i, j, (j+r)%len(bits))\n",
    "            circuit += cirq.CZ(bits[(j+r)%len(bits)], bits[j])**symbols[n + 6*i + 2]\n",
    "            circuit += cirq.CX(bits[j], bits[(j+r)%len(bits)])**symbols[n + 6*i + 2]\n",
    "            \n",
    "            print(\"Control on :\", (j+r)%len(bits))\n",
    "            \n",
    "            circuit += one_qubit_unitary(bits[j], symbols[n + 6*(i)+3: n + 6*(i+1)])\n",
    "            \n",
    "            j = (j+r)%len(bits)\n",
    "            \n",
    "        n = n + (2*len(bits))*3\n",
    "        \n",
    "        circuit += one_qubit_unitary(bits[0], symbols[n : n + 3])\n",
    "        \n",
    "        n = n + 3\n",
    "        \n",
    "        print(\"\\n\")\n",
    "        #change hyperparameters\n",
    "        r = 2\n",
    "        j = 0\n",
    "        \n",
    "        for i in range(len(bits)):\n",
    "            #ui = one_gate_unitary(symbols[n+3*i:n+3*(i)+3])\n",
    "            \n",
    "            circuit += cirq.CZ(bits[(j+r)%len(bits)], bits[j])**symbols[n + 3*i]\n",
    "            print(\"CZ\", i, j, (j+r)%len(bits))\n",
    "            circuit += cirq.CX(bits[j], bits[(j+r)%len(bits)])**symbols[n + 3*i + 1]\n",
    "            print(\"CX\", i, j, (j+r)%len(bits))\n",
    "            circuit += cirq.CZ(bits[(j+r)%len(bits)], bits[j])**symbols[n + 3*i + 2]\n",
    "            circuit += cirq.CX(bits[j], bits[(j+r)%len(bits)])**symbols[n + 3*i + 2]\n",
    "            \n",
    "            #circuit += cirq.ControlledGate(ui).on(bits[j], bits[(j+r)%len(bits)])\n",
    "            #circuit += one_qubit_unitary(bits[(j+r)%len(bits)], symbols[n+6*(i)+3: n+6*(i+1)])\n",
    "            j = (j+r)%len(bits)\n",
    "            \n",
    "            print(\"Control on :\", j)\n",
    "            \n",
    "        n = n + (len(bits))*3\n",
    "        circuit += one_qubit_unitary(bits[j], symbols[n: n+3])  \n",
    "        n = n + 3\n",
    "        print(\"Number of params needed\", n)\n",
    "        return circuit\n",
    "    \n",
    "    \n",
    "    elif(Fcc == False):\n",
    "        #needed 3*4*length(bit)+6 parameters\n",
    "        for i in range(len(bits)):\n",
    "            circuit.append(one_qubit_unitary(bits[i], symbols[3*i: 3*(i+1)]))\n",
    "        n = len(bits)*3\n",
    "        r = 1\n",
    "        for i in range(len(bits)):\n",
    "            #ui = one_gate_unitary(symbols[n + 6*i: n + 6*(i)+3])\n",
    "            #cz_gate = cirq.CZPowGate(exponent=symbols[n + 6*i])\n",
    "            #circuit += cz_gate(bits[i], bits[(i+r)%len(bits)])\n",
    "            circuit += cirq.CZ(bits[i], bits[(i+r)%len(bits)])**symbols[n + 6*i]\n",
    "            circuit += cirq.CX(bits[i], bits[(i+r)%len(bits)])**symbols[n + 6*i + 1]\n",
    "            #cz_gate = cirq.CZPowGate(exponent=symbols[n + 6*i + 2])\n",
    "            #circuit += cz_gate(bits[i], bits[(i+r)%len(bits)])\n",
    "            circuit += cirq.CZ(bits[i], bits[(i+r)%len(bits)])**symbols[n + 6*i + 2]\n",
    "            circuit += cirq.CX(bits[i], bits[(i+r)%len(bits)])**symbols[n + 6*i + 2]            \n",
    "           \n",
    "            #circuit += cirq.ControlledGate(ui).on(bits[i], bits[(i+r)%len(bits)])\n",
    "            circuit += one_qubit_unitary(bits[i], symbols[n + 6*(i)+3: n + 6*(i+1)])\n",
    "        n = n + (2*len(bits))*3\n",
    "        \n",
    "        circuit += one_qubit_unitary(bits[0], symbols[n : n + 3])\n",
    "        \n",
    "        n = n + 3\n",
    "        \n",
    "        r = 2\n",
    "        j = 0\n",
    "        for i in range(len(bits)):\n",
    "            #ui = one_gate_unitary(symbols[n+3*i:n+3*(i)+3])\n",
    "            \n",
    "            circuit += cirq.CZ(bits[j], bits[(j+r)%len(bits)])**symbols[n + 3*i]\n",
    "            #cz_gate = cirq.CZPowGate(exponent=symbols[n + 3*i])\n",
    "            #circuit += cz_gate(bits[(j+r)%len(bits)], bits[j])\n",
    "            circuit += cirq.CX(bits[j], bits[(j+r)%len(bits)])**symbols[n + 3*i + 1]\n",
    "            circuit += cirq.CZ(bits[j], bits[(j+r)%len(bits)])**symbols[n + 3*i + 2]\n",
    "            #cz_gate = cirq.CZPowGate(exponent=symbols[n + 3*i + 2])\n",
    "            #circuit += cz_gate(bits[(j+r)%len(bits)], bits[j])\n",
    "            circuit += cirq.CX(bits[j], bits[(j+r)%len(bits)])**symbols[n + 3*i + 2]    \n",
    "            \n",
    "            #circuit += cirq.ControlledGate(ui).on(bits[j], bits[(j+r)%len(bits)])\n",
    "            #circuit += one_qubit_unitary(bits[(j+r)%len(bits)], symbols[n+6*(i)+3: n+6*(i+1)])\n",
    "            j = (j+r)%len(bits)\n",
    "        n = n + (len(bits))*3\n",
    "        circuit += one_qubit_unitary(bits[j], symbols[n: n+3])    \n",
    "        n = n + 3\n",
    "        print(\"Number of params needed\", n)\n",
    "        return circuit\n",
    "    \n",
    "    "
   ]
  },
  {
   "cell_type": "code",
   "execution_count": 7,
   "id": "1a0c9c09",
   "metadata": {},
   "outputs": [
    {
     "name": "stderr",
     "output_type": "stream",
     "text": [
      "findfont: Font family 'Arial' not found.\n",
      "findfont: Font family 'Arial' not found.\n",
      "findfont: Font family 'Arial' not found.\n",
      "findfont: Font family 'Arial' not found.\n",
      "findfont: Font family 'Arial' not found.\n",
      "findfont: Font family 'Arial' not found.\n",
      "findfont: Font family 'Arial' not found.\n",
      "findfont: Font family 'Arial' not found.\n",
      "findfont: Font family 'Arial' not found.\n",
      "findfont: Font family 'Arial' not found.\n",
      "findfont: Font family 'Arial' not found.\n"
     ]
    },
    {
     "name": "stdout",
     "output_type": "stream",
     "text": [
      "Number of params needed 42\n"
     ]
    },
    {
     "name": "stderr",
     "output_type": "stream",
     "text": [
      "findfont: Font family 'Arial' not found.\n",
      "findfont: Font family 'Arial' not found.\n",
      "findfont: Font family 'Arial' not found.\n",
      "findfont: Font family 'Arial' not found.\n",
      "findfont: Font family 'Arial' not found.\n",
      "findfont: Font family 'Arial' not found.\n",
      "findfont: Font family 'Arial' not found.\n",
      "findfont: Font family 'Arial' not found.\n",
      "findfont: Font family 'Arial' not found.\n",
      "findfont: Font family 'Arial' not found.\n",
      "findfont: Font family 'Arial' not found.\n",
      "findfont: Font family 'Arial' not found.\n",
      "findfont: Font family 'Arial' not found.\n",
      "findfont: Font family 'Arial' not found.\n",
      "findfont: Font family 'Arial' not found.\n",
      "findfont: Font family 'Arial' not found.\n",
      "findfont: Font family 'Arial' not found.\n",
      "findfont: Font family 'Arial' not found.\n",
      "findfont: Font family 'Arial' not found.\n",
      "findfont: Font family 'Arial' not found.\n",
      "findfont: Font family 'Arial' not found.\n",
      "findfont: Font family 'Arial' not found.\n",
      "findfont: Font family 'Arial' not found.\n",
      "findfont: Font family 'Arial' not found.\n",
      "findfont: Font family 'Arial' not found.\n",
      "findfont: Font family 'Arial' not found.\n",
      "findfont: Font family 'Arial' not found.\n",
      "findfont: Font family 'Arial' not found.\n",
      "findfont: Font family 'Arial' not found.\n",
      "findfont: Font family 'Arial' not found.\n",
      "findfont: Font family 'Arial' not found.\n",
      "findfont: Font family 'Arial' not found.\n",
      "findfont: Font family 'Arial' not found.\n",
      "findfont: Font family 'Arial' not found.\n",
      "findfont: Font family 'Arial' not found.\n",
      "findfont: Font family 'Arial' not found.\n",
      "findfont: Font family 'Arial' not found.\n",
      "findfont: Font family 'Arial' not found.\n",
      "findfont: Font family 'Arial' not found.\n",
      "findfont: Font family 'Arial' not found.\n",
      "findfont: Font family 'Arial' not found.\n",
      "findfont: Font family 'Arial' not found.\n",
      "findfont: Font family 'Arial' not found.\n",
      "findfont: Font family 'Arial' not found.\n",
      "findfont: Font family 'Arial' not found.\n",
      "findfont: Font family 'Arial' not found.\n",
      "findfont: Font family 'Arial' not found.\n",
      "findfont: Font family 'Arial' not found.\n",
      "findfont: Font family 'Arial' not found.\n",
      "findfont: Font family 'Arial' not found.\n",
      "findfont: Font family 'Arial' not found.\n",
      "findfont: Font family 'Arial' not found.\n",
      "findfont: Font family 'Arial' not found.\n",
      "findfont: Font family 'Arial' not found.\n",
      "findfont: Font family 'Arial' not found.\n",
      "findfont: Font family 'Arial' not found.\n",
      "findfont: Font family 'Arial' not found.\n",
      "findfont: Font family 'Arial' not found.\n",
      "findfont: Font family 'Arial' not found.\n",
      "findfont: Font family 'Arial' not found.\n",
      "findfont: Font family 'Arial' not found.\n",
      "findfont: Font family 'Arial' not found.\n",
      "findfont: Font family 'Arial' not found.\n",
      "findfont: Font family 'Arial' not found.\n"
     ]
    },
    {
     "data": {
      "image/svg+xml": [
       "<svg xmlns=\"http://www.w3.org/2000/svg\" width=\"3217.1508984374987\" height=\"190.0\"><line x1=\"34.7588671875\" x2=\"3187.1508984374987\" y1=\"45.0\" y2=\"45.0\" stroke=\"#1967d2\" stroke-width=\"1\" /><line x1=\"34.7588671875\" x2=\"3187.1508984374987\" y1=\"95.0\" y2=\"95.0\" stroke=\"#1967d2\" stroke-width=\"1\" /><line x1=\"34.7588671875\" x2=\"3187.1508984374987\" y1=\"145.0\" y2=\"145.0\" stroke=\"#1967d2\" stroke-width=\"1\" /><line x1=\"1350.154453125\" x2=\"1475.8009765624997\" y1=\"5.0\" y2=\"5.0\" stroke=\"black\" stroke-width=\"1\" /><line x1=\"1350.154453125\" x2=\"1475.8009765624997\" y1=\"185.0\" y2=\"185.0\" stroke=\"black\" stroke-width=\"1\" /><line x1=\"1219.127109375\" x2=\"1340.154453125\" y1=\"5.0\" y2=\"5.0\" stroke=\"black\" stroke-width=\"1\" /><line x1=\"1219.127109375\" x2=\"1340.154453125\" y1=\"185.0\" y2=\"185.0\" stroke=\"black\" stroke-width=\"1\" /><line x1=\"1083.4674609375\" x2=\"1209.127109375\" y1=\"5.0\" y2=\"5.0\" stroke=\"black\" stroke-width=\"1\" /><line x1=\"1083.4674609375\" x2=\"1209.127109375\" y1=\"185.0\" y2=\"185.0\" stroke=\"black\" stroke-width=\"1\" /><line x1=\"505.23734375\" x2=\"505.23734375\" y1=\"45.0\" y2=\"95.0\" stroke=\"black\" stroke-width=\"3\" /><line x1=\"578.7819921875\" x2=\"578.7819921875\" y1=\"45.0\" y2=\"95.0\" stroke=\"black\" stroke-width=\"3\" /><line x1=\"656.6260351562499\" x2=\"656.6260351562499\" y1=\"45.0\" y2=\"95.0\" stroke=\"black\" stroke-width=\"3\" /><line x1=\"734.2885156250001\" x2=\"734.2885156250001\" y1=\"45.0\" y2=\"95.0\" stroke=\"black\" stroke-width=\"3\" /><line x1=\"811.98599609375\" x2=\"811.98599609375\" y1=\"95.0\" y2=\"145.0\" stroke=\"black\" stroke-width=\"3\" /><line x1=\"889.8891015625\" x2=\"889.8891015625\" y1=\"95.0\" y2=\"145.0\" stroke=\"black\" stroke-width=\"3\" /><line x1=\"967.8053320312499\" x2=\"967.8053320312499\" y1=\"95.0\" y2=\"145.0\" stroke=\"black\" stroke-width=\"3\" /><line x1=\"1045.5640624999999\" x2=\"1045.5640624999999\" y1=\"95.0\" y2=\"145.0\" stroke=\"black\" stroke-width=\"3\" /><line x1=\"1169.31990234375\" x2=\"1169.31990234375\" y1=\"45.0\" y2=\"145.0\" stroke=\"black\" stroke-width=\"3\" /><line x1=\"1302.3538671874999\" x2=\"1302.3538671874999\" y1=\"45.0\" y2=\"145.0\" stroke=\"black\" stroke-width=\"3\" /><line x1=\"1435.9084570312498\" x2=\"1435.9084570312498\" y1=\"45.0\" y2=\"145.0\" stroke=\"black\" stroke-width=\"3\" /><line x1=\"1523.7415624999996\" x2=\"1523.7415624999996\" y1=\"45.0\" y2=\"145.0\" stroke=\"black\" stroke-width=\"3\" /><line x1=\"2056.0523242187496\" x2=\"2056.0523242187496\" y1=\"45.0\" y2=\"145.0\" stroke=\"black\" stroke-width=\"3\" /><line x1=\"2133.8963671874994\" x2=\"2133.8963671874994\" y1=\"45.0\" y2=\"145.0\" stroke=\"black\" stroke-width=\"3\" /><line x1=\"2211.50416015625\" x2=\"2211.50416015625\" y1=\"45.0\" y2=\"145.0\" stroke=\"black\" stroke-width=\"3\" /><line x1=\"2289.0572656249997\" x2=\"2289.0572656249997\" y1=\"45.0\" y2=\"145.0\" stroke=\"black\" stroke-width=\"3\" /><line x1=\"2366.75037109375\" x2=\"2366.75037109375\" y1=\"95.0\" y2=\"145.0\" stroke=\"black\" stroke-width=\"3\" /><line x1=\"2444.7519140625\" x2=\"2444.7519140625\" y1=\"95.0\" y2=\"145.0\" stroke=\"black\" stroke-width=\"3\" /><line x1=\"2522.7031445312496\" x2=\"2522.7031445312496\" y1=\"95.0\" y2=\"145.0\" stroke=\"black\" stroke-width=\"3\" /><line x1=\"2600.4356249999996\" x2=\"2600.4356249999996\" y1=\"95.0\" y2=\"145.0\" stroke=\"black\" stroke-width=\"3\" /><line x1=\"2678.3387304687494\" x2=\"2678.3387304687494\" y1=\"45.0\" y2=\"95.0\" stroke=\"black\" stroke-width=\"3\" /><line x1=\"2756.254960937499\" x2=\"2756.254960937499\" y1=\"45.0\" y2=\"95.0\" stroke=\"black\" stroke-width=\"3\" /><line x1=\"2834.132910156249\" x2=\"2834.132910156249\" y1=\"45.0\" y2=\"95.0\" stroke=\"black\" stroke-width=\"3\" /><line x1=\"2912.1300781249993\" x2=\"2912.1300781249993\" y1=\"45.0\" y2=\"95.0\" stroke=\"black\" stroke-width=\"3\" /><line x1=\"1350.154453125\" x2=\"1350.154453125\" y1=\"5.0\" y2=\"15.0\" stroke=\"black\" stroke-width=\"3\" /><line x1=\"1475.8009765624997\" x2=\"1475.8009765624997\" y1=\"5.0\" y2=\"15.0\" stroke=\"black\" stroke-width=\"3\" /><line x1=\"1350.154453125\" x2=\"1350.154453125\" y1=\"175.0\" y2=\"185.0\" stroke=\"black\" stroke-width=\"3\" /><line x1=\"1475.8009765624997\" x2=\"1475.8009765624997\" y1=\"175.0\" y2=\"185.0\" stroke=\"black\" stroke-width=\"3\" /><line x1=\"1219.127109375\" x2=\"1219.127109375\" y1=\"5.0\" y2=\"15.0\" stroke=\"black\" stroke-width=\"3\" /><line x1=\"1340.154453125\" x2=\"1340.154453125\" y1=\"5.0\" y2=\"15.0\" stroke=\"black\" stroke-width=\"3\" /><line x1=\"1219.127109375\" x2=\"1219.127109375\" y1=\"175.0\" y2=\"185.0\" stroke=\"black\" stroke-width=\"3\" /><line x1=\"1340.154453125\" x2=\"1340.154453125\" y1=\"175.0\" y2=\"185.0\" stroke=\"black\" stroke-width=\"3\" /><line x1=\"1083.4674609375\" x2=\"1083.4674609375\" y1=\"5.0\" y2=\"15.0\" stroke=\"black\" stroke-width=\"3\" /><line x1=\"1209.127109375\" x2=\"1209.127109375\" y1=\"5.0\" y2=\"15.0\" stroke=\"black\" stroke-width=\"3\" /><line x1=\"1083.4674609375\" x2=\"1083.4674609375\" y1=\"175.0\" y2=\"185.0\" stroke=\"black\" stroke-width=\"3\" /><line x1=\"1209.127109375\" x2=\"1209.127109375\" y1=\"175.0\" y2=\"185.0\" stroke=\"black\" stroke-width=\"3\" /><rect x=\"10.0\" y=\"25.0\" width=\"49.517734375\" height=\"40\" stroke=\"black\" fill=\"white\" stroke-width=\"0\" /><text x=\"34.7588671875\" y=\"45.0\" dominant-baseline=\"middle\" text-anchor=\"middle\" font-size=\"14px\" font-family=\"Arial\">(0, 0): </text><rect x=\"10.0\" y=\"75.0\" width=\"49.517734375\" height=\"40\" stroke=\"black\" fill=\"white\" stroke-width=\"0\" /><text x=\"34.7588671875\" y=\"95.0\" dominant-baseline=\"middle\" text-anchor=\"middle\" font-size=\"14px\" font-family=\"Arial\">(0, 1): </text><rect x=\"10.0\" y=\"125.0\" width=\"49.517734375\" height=\"40\" stroke=\"black\" fill=\"white\" stroke-width=\"0\" /><text x=\"34.7588671875\" y=\"145.0\" dominant-baseline=\"middle\" text-anchor=\"middle\" font-size=\"14px\" font-family=\"Arial\">(0, 2): </text><rect x=\"79.517734375\" y=\"25.0\" width=\"47.1664453125\" height=\"40\" stroke=\"black\" fill=\"white\" stroke-width=\"1\" /><text x=\"103.10095703125\" y=\"45.0\" dominant-baseline=\"middle\" text-anchor=\"middle\" font-size=\"14px\" font-family=\"Arial\">X^x0</text><rect x=\"146.6841796875\" y=\"25.0\" width=\"46.2105078125\" height=\"40\" stroke=\"black\" fill=\"white\" stroke-width=\"1\" /><text x=\"169.78943359375\" y=\"45.0\" dominant-baseline=\"middle\" text-anchor=\"middle\" font-size=\"14px\" font-family=\"Arial\">Y^x1</text><rect x=\"212.8946875\" y=\"25.0\" width=\"46.48175781250001\" height=\"40\" stroke=\"black\" fill=\"white\" stroke-width=\"1\" /><text x=\"236.13556640625\" y=\"45.0\" dominant-baseline=\"middle\" text-anchor=\"middle\" font-size=\"14px\" font-family=\"Arial\">Z^x2</text><rect x=\"279.3764453125\" y=\"75.0\" width=\"46.97394531250001\" height=\"40\" stroke=\"black\" fill=\"white\" stroke-width=\"1\" /><text x=\"302.86341796875\" y=\"95.0\" dominant-baseline=\"middle\" text-anchor=\"middle\" font-size=\"14px\" font-family=\"Arial\">X^x3</text><rect x=\"346.350390625\" y=\"75.0\" width=\"46.718007812500005\" height=\"40\" stroke=\"black\" fill=\"white\" stroke-width=\"1\" /><text x=\"369.70939453125\" y=\"95.0\" dominant-baseline=\"middle\" text-anchor=\"middle\" font-size=\"14px\" font-family=\"Arial\">Y^x4</text><rect x=\"413.0683984375\" y=\"75.0\" width=\"46.6611328125\" height=\"40\" stroke=\"black\" fill=\"white\" stroke-width=\"1\" /><text x=\"436.39896484375\" y=\"95.0\" dominant-baseline=\"middle\" text-anchor=\"middle\" font-size=\"14px\" font-family=\"Arial\">Z^x5</text><rect x=\"479.72953125\" y=\"125.0\" width=\"51.015625\" height=\"40\" stroke=\"black\" fill=\"white\" stroke-width=\"1\" /><text x=\"505.23734375\" y=\"145.0\" dominant-baseline=\"middle\" text-anchor=\"middle\" font-size=\"14px\" font-family=\"Arial\">X^x6</text><circle cx=\"505.23734375\" cy=\"45.0\" r=\"10.0\" /><rect x=\"479.72953125\" y=\"75.0\" width=\"51.015625\" height=\"40\" stroke=\"black\" fill=\"white\" stroke-width=\"1\" /><text x=\"505.23734375\" y=\"95.0\" dominant-baseline=\"middle\" text-anchor=\"middle\" font-size=\"14px\" font-family=\"Arial\">@^x9</text><rect x=\"550.74515625\" y=\"125.0\" width=\"56.073671875\" height=\"40\" stroke=\"black\" fill=\"white\" stroke-width=\"1\" /><text x=\"578.7819921875\" y=\"145.0\" dominant-baseline=\"middle\" text-anchor=\"middle\" font-size=\"14px\" font-family=\"Arial\">Y^x7</text><circle cx=\"578.7819921875\" cy=\"45.0\" r=\"10.0\" /><rect x=\"550.74515625\" y=\"75.0\" width=\"56.073671875\" height=\"40\" stroke=\"black\" fill=\"white\" stroke-width=\"1\" /><text x=\"578.7819921875\" y=\"95.0\" dominant-baseline=\"middle\" text-anchor=\"middle\" font-size=\"14px\" font-family=\"Arial\">X^x10</text><rect x=\"626.818828125\" y=\"125.0\" width=\"59.6144140625\" height=\"40\" stroke=\"black\" fill=\"white\" stroke-width=\"1\" /><text x=\"656.6260351562499\" y=\"145.0\" dominant-baseline=\"middle\" text-anchor=\"middle\" font-size=\"14px\" font-family=\"Arial\">Z^x8</text><circle cx=\"656.6260351562499\" cy=\"45.0\" r=\"10.0\" /><rect x=\"626.818828125\" y=\"75.0\" width=\"59.6144140625\" height=\"40\" stroke=\"black\" fill=\"white\" stroke-width=\"1\" /><text x=\"656.6260351562499\" y=\"95.0\" dominant-baseline=\"middle\" text-anchor=\"middle\" font-size=\"14px\" font-family=\"Arial\">@^x11</text><circle cx=\"734.2885156250001\" cy=\"45.0\" r=\"10.0\" /><rect x=\"706.4332421875\" y=\"75.0\" width=\"55.710546875000006\" height=\"40\" stroke=\"black\" fill=\"white\" stroke-width=\"1\" /><text x=\"734.2885156250001\" y=\"95.0\" dominant-baseline=\"middle\" text-anchor=\"middle\" font-size=\"14px\" font-family=\"Arial\">X^x11</text><rect x=\"782.1437890625\" y=\"25.0\" width=\"59.6844140625\" height=\"40\" stroke=\"black\" fill=\"white\" stroke-width=\"1\" /><text x=\"811.98599609375\" y=\"45.0\" dominant-baseline=\"middle\" text-anchor=\"middle\" font-size=\"14px\" font-family=\"Arial\">X^x12</text><circle cx=\"811.98599609375\" cy=\"95.0\" r=\"10.0\" /><rect x=\"782.1437890625\" y=\"125.0\" width=\"59.6844140625\" height=\"40\" stroke=\"black\" fill=\"white\" stroke-width=\"1\" /><text x=\"811.98599609375\" y=\"145.0\" dominant-baseline=\"middle\" text-anchor=\"middle\" font-size=\"14px\" font-family=\"Arial\">@^x15</text><rect x=\"861.828203125\" y=\"25.0\" width=\"56.121796875\" height=\"40\" stroke=\"black\" fill=\"white\" stroke-width=\"1\" /><text x=\"889.8891015625\" y=\"45.0\" dominant-baseline=\"middle\" text-anchor=\"middle\" font-size=\"14px\" font-family=\"Arial\">Y^x13</text><circle cx=\"889.8891015625\" cy=\"95.0\" r=\"10.0\" /><rect x=\"861.828203125\" y=\"125.0\" width=\"56.121796875\" height=\"40\" stroke=\"black\" fill=\"white\" stroke-width=\"1\" /><text x=\"889.8891015625\" y=\"145.0\" dominant-baseline=\"middle\" text-anchor=\"middle\" font-size=\"14px\" font-family=\"Arial\">X^x16</text><rect x=\"937.9499999999999\" y=\"25.0\" width=\"59.7106640625\" height=\"40\" stroke=\"black\" fill=\"white\" stroke-width=\"1\" /><text x=\"967.8053320312499\" y=\"45.0\" dominant-baseline=\"middle\" text-anchor=\"middle\" font-size=\"14px\" font-family=\"Arial\">Z^x14</text><circle cx=\"967.8053320312499\" cy=\"95.0\" r=\"10.0\" /><rect x=\"937.9499999999999\" y=\"125.0\" width=\"59.7106640625\" height=\"40\" stroke=\"black\" fill=\"white\" stroke-width=\"1\" /><text x=\"967.8053320312499\" y=\"145.0\" dominant-baseline=\"middle\" text-anchor=\"middle\" font-size=\"14px\" font-family=\"Arial\">@^x17</text><circle cx=\"1045.5640624999999\" cy=\"95.0\" r=\"10.0\" /><rect x=\"1017.6606640624999\" y=\"125.0\" width=\"55.806796875\" height=\"40\" stroke=\"black\" fill=\"white\" stroke-width=\"1\" /><text x=\"1045.5640624999999\" y=\"145.0\" dominant-baseline=\"middle\" text-anchor=\"middle\" font-size=\"14px\" font-family=\"Arial\">X^x17</text><rect x=\"1083.4674609375\" y=\"75.0\" width=\"56.04523437500001\" height=\"40\" stroke=\"black\" fill=\"white\" stroke-width=\"1\" /><text x=\"1111.4900781249999\" y=\"95.0\" dominant-baseline=\"middle\" text-anchor=\"middle\" font-size=\"14px\" font-family=\"Arial\">X^x18</text><rect x=\"1139.5126953125\" y=\"125.0\" width=\"59.6144140625\" height=\"40\" stroke=\"black\" fill=\"white\" stroke-width=\"1\" /><text x=\"1169.31990234375\" y=\"145.0\" dominant-baseline=\"middle\" text-anchor=\"middle\" font-size=\"14px\" font-family=\"Arial\">@^x21</text><circle cx=\"1169.31990234375\" cy=\"45.0\" r=\"10.0\" /><rect x=\"1219.127109375\" y=\"75.0\" width=\"55.42617187500001\" height=\"40\" stroke=\"black\" fill=\"white\" stroke-width=\"1\" /><text x=\"1246.8401953124999\" y=\"95.0\" dominant-baseline=\"middle\" text-anchor=\"middle\" font-size=\"14px\" font-family=\"Arial\">Y^x19</text><circle cx=\"1302.3538671874999\" cy=\"145.0\" r=\"10.0\" /><rect x=\"1274.5532812499998\" y=\"25.0\" width=\"55.601171875000006\" height=\"40\" stroke=\"black\" fill=\"white\" stroke-width=\"1\" /><text x=\"1302.3538671874999\" y=\"45.0\" dominant-baseline=\"middle\" text-anchor=\"middle\" font-size=\"14px\" font-family=\"Arial\">X^x22</text><rect x=\"1350.154453125\" y=\"75.0\" width=\"55.861484375\" height=\"40\" stroke=\"black\" fill=\"white\" stroke-width=\"1\" /><text x=\"1378.0851953125\" y=\"95.0\" dominant-baseline=\"middle\" text-anchor=\"middle\" font-size=\"14px\" font-family=\"Arial\">Z^x20</text><rect x=\"1406.0159374999998\" y=\"125.0\" width=\"59.785039062500005\" height=\"40\" stroke=\"black\" fill=\"white\" stroke-width=\"1\" /><text x=\"1435.9084570312498\" y=\"145.0\" dominant-baseline=\"middle\" text-anchor=\"middle\" font-size=\"14px\" font-family=\"Arial\">@^x23</text><circle cx=\"1435.9084570312498\" cy=\"45.0\" r=\"10.0\" /><circle cx=\"1523.7415624999996\" cy=\"145.0\" r=\"10.0\" /><rect x=\"1495.8009765624997\" y=\"25.0\" width=\"55.88117187500001\" height=\"40\" stroke=\"black\" fill=\"white\" stroke-width=\"1\" /><text x=\"1523.7415624999996\" y=\"45.0\" dominant-baseline=\"middle\" text-anchor=\"middle\" font-size=\"14px\" font-family=\"Arial\">X^x23</text><rect x=\"1571.6821484374998\" y=\"125.0\" width=\"56.218046875\" height=\"40\" stroke=\"black\" fill=\"white\" stroke-width=\"1\" /><text x=\"1599.7911718749997\" y=\"145.0\" dominant-baseline=\"middle\" text-anchor=\"middle\" font-size=\"14px\" font-family=\"Arial\">X^x24</text><rect x=\"1647.9001953124998\" y=\"125.0\" width=\"55.187734375000005\" height=\"40\" stroke=\"black\" fill=\"white\" stroke-width=\"1\" /><text x=\"1675.4940625\" y=\"145.0\" dominant-baseline=\"middle\" text-anchor=\"middle\" font-size=\"14px\" font-family=\"Arial\">Y^x25</text><rect x=\"1723.0879296874998\" y=\"125.0\" width=\"55.909609375\" height=\"40\" stroke=\"black\" fill=\"white\" stroke-width=\"1\" /><text x=\"1751.0427343749998\" y=\"145.0\" dominant-baseline=\"middle\" text-anchor=\"middle\" font-size=\"14px\" font-family=\"Arial\">Z^x26</text><rect x=\"1798.9975390624998\" y=\"25.0\" width=\"55.806796875\" height=\"40\" stroke=\"black\" fill=\"white\" stroke-width=\"1\" /><text x=\"1826.9009374999998\" y=\"45.0\" dominant-baseline=\"middle\" text-anchor=\"middle\" font-size=\"14px\" font-family=\"Arial\">X^x27</text><rect x=\"1874.8043359374997\" y=\"25.0\" width=\"55.452421875\" height=\"40\" stroke=\"black\" fill=\"white\" stroke-width=\"1\" /><text x=\"1902.5305468749996\" y=\"45.0\" dominant-baseline=\"middle\" text-anchor=\"middle\" font-size=\"14px\" font-family=\"Arial\">Y^x28</text><rect x=\"1950.2567578124997\" y=\"25.0\" width=\"55.806796875\" height=\"40\" stroke=\"black\" fill=\"white\" stroke-width=\"1\" /><text x=\"1978.1601562499998\" y=\"45.0\" dominant-baseline=\"middle\" text-anchor=\"middle\" font-size=\"14px\" font-family=\"Arial\">Z^x29</text><circle cx=\"2056.0523242187496\" cy=\"45.0\" r=\"10.0\" /><rect x=\"2026.0635546874996\" y=\"125.0\" width=\"59.9775390625\" height=\"40\" stroke=\"black\" fill=\"white\" stroke-width=\"1\" /><text x=\"2056.0523242187496\" y=\"145.0\" dominant-baseline=\"middle\" text-anchor=\"middle\" font-size=\"14px\" font-family=\"Arial\">@^x30</text><circle cx=\"2133.8963671874994\" cy=\"45.0\" r=\"10.0\" /><rect x=\"2106.0410937499996\" y=\"125.0\" width=\"55.710546875000006\" height=\"40\" stroke=\"black\" fill=\"white\" stroke-width=\"1\" /><text x=\"2133.8963671874994\" y=\"145.0\" dominant-baseline=\"middle\" text-anchor=\"middle\" font-size=\"14px\" font-family=\"Arial\">X^x31</text><circle cx=\"2211.50416015625\" cy=\"45.0\" r=\"10.0\" /><rect x=\"2181.7516406249997\" y=\"125.0\" width=\"59.5050390625\" height=\"40\" stroke=\"black\" fill=\"white\" stroke-width=\"1\" /><text x=\"2211.50416015625\" y=\"145.0\" dominant-baseline=\"middle\" text-anchor=\"middle\" font-size=\"14px\" font-family=\"Arial\">@^x32</text><circle cx=\"2289.0572656249997\" cy=\"45.0\" r=\"10.0\" /><rect x=\"2261.2566796875\" y=\"125.0\" width=\"55.601171875000006\" height=\"40\" stroke=\"black\" fill=\"white\" stroke-width=\"1\" /><text x=\"2289.0572656249997\" y=\"145.0\" dominant-baseline=\"middle\" text-anchor=\"middle\" font-size=\"14px\" font-family=\"Arial\">X^x32</text><rect x=\"2336.8578515625\" y=\"125.0\" width=\"59.785039062500005\" height=\"40\" stroke=\"black\" fill=\"white\" stroke-width=\"1\" /><text x=\"2366.75037109375\" y=\"145.0\" dominant-baseline=\"middle\" text-anchor=\"middle\" font-size=\"14px\" font-family=\"Arial\">@^x33</text><circle cx=\"2366.75037109375\" cy=\"95.0\" r=\"10.0\" /><circle cx=\"2444.7519140625\" cy=\"145.0\" r=\"10.0\" /><rect x=\"2416.642890625\" y=\"75.0\" width=\"56.218046875\" height=\"40\" stroke=\"black\" fill=\"white\" stroke-width=\"1\" /><text x=\"2444.7519140625\" y=\"95.0\" dominant-baseline=\"middle\" text-anchor=\"middle\" font-size=\"14px\" font-family=\"Arial\">X^x34</text><rect x=\"2492.8609374999996\" y=\"125.0\" width=\"59.6844140625\" height=\"40\" stroke=\"black\" fill=\"white\" stroke-width=\"1\" /><text x=\"2522.7031445312496\" y=\"145.0\" dominant-baseline=\"middle\" text-anchor=\"middle\" font-size=\"14px\" font-family=\"Arial\">@^x35</text><circle cx=\"2522.7031445312496\" cy=\"95.0\" r=\"10.0\" /><circle cx=\"2600.4356249999996\" cy=\"145.0\" r=\"10.0\" /><rect x=\"2572.5453515624995\" y=\"75.0\" width=\"55.780546875\" height=\"40\" stroke=\"black\" fill=\"white\" stroke-width=\"1\" /><text x=\"2600.4356249999996\" y=\"95.0\" dominant-baseline=\"middle\" text-anchor=\"middle\" font-size=\"14px\" font-family=\"Arial\">X^x35</text><rect x=\"2648.3258984374993\" y=\"75.0\" width=\"60.0256640625\" height=\"40\" stroke=\"black\" fill=\"white\" stroke-width=\"1\" /><text x=\"2678.3387304687494\" y=\"95.0\" dominant-baseline=\"middle\" text-anchor=\"middle\" font-size=\"14px\" font-family=\"Arial\">@^x36</text><circle cx=\"2678.3387304687494\" cy=\"45.0\" r=\"10.0\" /><circle cx=\"2756.254960937499\" cy=\"95.0\" r=\"10.0\" /><rect x=\"2728.351562499999\" y=\"25.0\" width=\"55.806796875\" height=\"40\" stroke=\"black\" fill=\"white\" stroke-width=\"1\" /><text x=\"2756.254960937499\" y=\"45.0\" dominant-baseline=\"middle\" text-anchor=\"middle\" font-size=\"14px\" font-family=\"Arial\">X^x37</text><rect x=\"2804.1583593749992\" y=\"75.0\" width=\"59.949101562500005\" height=\"40\" stroke=\"black\" fill=\"white\" stroke-width=\"1\" /><text x=\"2834.132910156249\" y=\"95.0\" dominant-baseline=\"middle\" text-anchor=\"middle\" font-size=\"14px\" font-family=\"Arial\">@^x38</text><circle cx=\"2834.132910156249\" cy=\"45.0\" r=\"10.0\" /><circle cx=\"2912.1300781249993\" cy=\"95.0\" r=\"10.0\" /><rect x=\"2884.107460937499\" y=\"25.0\" width=\"56.04523437500001\" height=\"40\" stroke=\"black\" fill=\"white\" stroke-width=\"1\" /><text x=\"2912.1300781249993\" y=\"45.0\" dominant-baseline=\"middle\" text-anchor=\"middle\" font-size=\"14px\" font-family=\"Arial\">X^x38</text><rect x=\"2960.152695312499\" y=\"25.0\" width=\"56.018984375\" height=\"40\" stroke=\"black\" fill=\"white\" stroke-width=\"1\" /><text x=\"2988.162187499999\" y=\"45.0\" dominant-baseline=\"middle\" text-anchor=\"middle\" font-size=\"14px\" font-family=\"Arial\">X^x39</text><rect x=\"3036.171679687499\" y=\"25.0\" width=\"55.48085937500001\" height=\"40\" stroke=\"black\" fill=\"white\" stroke-width=\"1\" /><text x=\"3063.912109374999\" y=\"45.0\" dominant-baseline=\"middle\" text-anchor=\"middle\" font-size=\"14px\" font-family=\"Arial\">Y^x40</text><rect x=\"3111.652539062499\" y=\"25.0\" width=\"55.49835937500001\" height=\"40\" stroke=\"black\" fill=\"white\" stroke-width=\"1\" /><text x=\"3139.401718749999\" y=\"45.0\" dominant-baseline=\"middle\" text-anchor=\"middle\" font-size=\"14px\" font-family=\"Arial\">Z^x41</text></svg>"
      ],
      "text/plain": [
       "<cirq.contrib.svg.svg.SVGCircuit at 0x7f560855bdc0>"
      ]
     },
     "execution_count": 7,
     "metadata": {},
     "output_type": "execute_result"
    }
   ],
   "source": [
    "\n",
    "SVGCircuit(\n",
    "    quantum_fc_circuit(cirq.GridQubit.rect(1, 3), sympy.symbols('x0:42'), Fcc = False))"
   ]
  },
  {
   "cell_type": "code",
   "execution_count": 8,
   "id": "064c8688",
   "metadata": {},
   "outputs": [
    {
     "name": "stderr",
     "output_type": "stream",
     "text": [
      "findfont: Font family 'Arial' not found.\n",
      "findfont: Font family 'Arial' not found.\n",
      "findfont: Font family 'Arial' not found.\n",
      "findfont: Font family 'Arial' not found.\n",
      "findfont: Font family 'Arial' not found.\n",
      "findfont: Font family 'Arial' not found.\n"
     ]
    },
    {
     "name": "stdout",
     "output_type": "stream",
     "text": [
      "CZ 0 0 1\n",
      "CX 0 0 1\n",
      "Control on : 1\n",
      "CZ 1 1 2\n",
      "CX 1 1 2\n",
      "Control on : 2\n",
      "CZ 2 2 0\n",
      "CX 2 2 0\n",
      "Control on : 0\n",
      "\n",
      "\n",
      "CZ 0 0 2\n",
      "CX 0 0 2\n",
      "Control on : 2\n",
      "CZ 1 2 1\n",
      "CX 1 2 1\n",
      "Control on : 1\n",
      "CZ 2 1 0\n",
      "CX 2 1 0\n",
      "Control on : 0\n",
      "Number of params needed 33\n"
     ]
    },
    {
     "name": "stderr",
     "output_type": "stream",
     "text": [
      "findfont: Font family 'Arial' not found.\n",
      "findfont: Font family 'Arial' not found.\n",
      "findfont: Font family 'Arial' not found.\n",
      "findfont: Font family 'Arial' not found.\n",
      "findfont: Font family 'Arial' not found.\n",
      "findfont: Font family 'Arial' not found.\n",
      "findfont: Font family 'Arial' not found.\n",
      "findfont: Font family 'Arial' not found.\n",
      "findfont: Font family 'Arial' not found.\n",
      "findfont: Font family 'Arial' not found.\n",
      "findfont: Font family 'Arial' not found.\n",
      "findfont: Font family 'Arial' not found.\n",
      "findfont: Font family 'Arial' not found.\n",
      "findfont: Font family 'Arial' not found.\n",
      "findfont: Font family 'Arial' not found.\n",
      "findfont: Font family 'Arial' not found.\n",
      "findfont: Font family 'Arial' not found.\n",
      "findfont: Font family 'Arial' not found.\n",
      "findfont: Font family 'Arial' not found.\n",
      "findfont: Font family 'Arial' not found.\n",
      "findfont: Font family 'Arial' not found.\n",
      "findfont: Font family 'Arial' not found.\n",
      "findfont: Font family 'Arial' not found.\n",
      "findfont: Font family 'Arial' not found.\n",
      "findfont: Font family 'Arial' not found.\n",
      "findfont: Font family 'Arial' not found.\n",
      "findfont: Font family 'Arial' not found.\n",
      "findfont: Font family 'Arial' not found.\n",
      "findfont: Font family 'Arial' not found.\n",
      "findfont: Font family 'Arial' not found.\n",
      "findfont: Font family 'Arial' not found.\n",
      "findfont: Font family 'Arial' not found.\n",
      "findfont: Font family 'Arial' not found.\n",
      "findfont: Font family 'Arial' not found.\n",
      "findfont: Font family 'Arial' not found.\n",
      "findfont: Font family 'Arial' not found.\n",
      "findfont: Font family 'Arial' not found.\n",
      "findfont: Font family 'Arial' not found.\n",
      "findfont: Font family 'Arial' not found.\n",
      "findfont: Font family 'Arial' not found.\n",
      "findfont: Font family 'Arial' not found.\n",
      "findfont: Font family 'Arial' not found.\n",
      "findfont: Font family 'Arial' not found.\n",
      "findfont: Font family 'Arial' not found.\n",
      "findfont: Font family 'Arial' not found.\n",
      "findfont: Font family 'Arial' not found.\n",
      "findfont: Font family 'Arial' not found.\n",
      "findfont: Font family 'Arial' not found.\n",
      "findfont: Font family 'Arial' not found.\n",
      "findfont: Font family 'Arial' not found.\n",
      "findfont: Font family 'Arial' not found.\n",
      "findfont: Font family 'Arial' not found.\n",
      "findfont: Font family 'Arial' not found.\n",
      "findfont: Font family 'Arial' not found.\n",
      "findfont: Font family 'Arial' not found.\n",
      "findfont: Font family 'Arial' not found.\n",
      "findfont: Font family 'Arial' not found.\n",
      "findfont: Font family 'Arial' not found.\n",
      "findfont: Font family 'Arial' not found.\n",
      "findfont: Font family 'Arial' not found.\n"
     ]
    },
    {
     "data": {
      "image/svg+xml": [
       "<svg xmlns=\"http://www.w3.org/2000/svg\" width=\"2746.1450390625005\" height=\"190.0\"><line x1=\"34.7588671875\" x2=\"2716.1450390625005\" y1=\"45.0\" y2=\"45.0\" stroke=\"#1967d2\" stroke-width=\"1\" /><line x1=\"34.7588671875\" x2=\"2716.1450390625005\" y1=\"95.0\" y2=\"95.0\" stroke=\"#1967d2\" stroke-width=\"1\" /><line x1=\"34.7588671875\" x2=\"2716.1450390625005\" y1=\"145.0\" y2=\"145.0\" stroke=\"#1967d2\" stroke-width=\"1\" /><line x1=\"878.8598437500002\" x2=\"1004.4801171875001\" y1=\"5.0\" y2=\"5.0\" stroke=\"black\" stroke-width=\"1\" /><line x1=\"878.8598437500002\" x2=\"1004.4801171875001\" y1=\"185.0\" y2=\"185.0\" stroke=\"black\" stroke-width=\"1\" /><line x1=\"747.4978125000002\" x2=\"868.8598437500002\" y1=\"5.0\" y2=\"5.0\" stroke=\"black\" stroke-width=\"1\" /><line x1=\"747.4978125000002\" x2=\"868.8598437500002\" y1=\"185.0\" y2=\"185.0\" stroke=\"black\" stroke-width=\"1\" /><line x1=\"620.8810156250001\" x2=\"737.4978125000002\" y1=\"5.0\" y2=\"5.0\" stroke=\"black\" stroke-width=\"1\" /><line x1=\"620.8810156250001\" x2=\"737.4978125000002\" y1=\"185.0\" y2=\"185.0\" stroke=\"black\" stroke-width=\"1\" /><line x1=\"105.052890625\" x2=\"105.052890625\" y1=\"45.0\" y2=\"95.0\" stroke=\"black\" stroke-width=\"3\" /><line x1=\"173.98970703125002\" x2=\"173.98970703125002\" y1=\"45.0\" y2=\"95.0\" stroke=\"black\" stroke-width=\"3\" /><line x1=\"242.69027343750003\" x2=\"242.69027343750003\" y1=\"45.0\" y2=\"95.0\" stroke=\"black\" stroke-width=\"3\" /><line x1=\"311.33615234375003\" x2=\"311.33615234375003\" y1=\"45.0\" y2=\"95.0\" stroke=\"black\" stroke-width=\"3\" /><line x1=\"380.24234375000003\" x2=\"380.24234375000003\" y1=\"95.0\" y2=\"145.0\" stroke=\"black\" stroke-width=\"3\" /><line x1=\"449.25134765625006\" x2=\"449.25134765625006\" y1=\"95.0\" y2=\"145.0\" stroke=\"black\" stroke-width=\"3\" /><line x1=\"518.2220703125001\" x2=\"518.2220703125001\" y1=\"95.0\" y2=\"145.0\" stroke=\"black\" stroke-width=\"3\" /><line x1=\"587.3120117187501\" x2=\"587.3120117187501\" y1=\"95.0\" y2=\"145.0\" stroke=\"black\" stroke-width=\"3\" /><line x1=\"697.7452929687502\" x2=\"697.7452929687502\" y1=\"45.0\" y2=\"145.0\" stroke=\"black\" stroke-width=\"3\" /><line x1=\"830.9192578125003\" x2=\"830.9192578125003\" y1=\"45.0\" y2=\"145.0\" stroke=\"black\" stroke-width=\"3\" /><line x1=\"964.4191601562502\" x2=\"964.4191601562502\" y1=\"45.0\" y2=\"145.0\" stroke=\"black\" stroke-width=\"3\" /><line x1=\"1052.589140625\" x2=\"1052.589140625\" y1=\"45.0\" y2=\"145.0\" stroke=\"black\" stroke-width=\"3\" /><line x1=\"1584.7424023437502\" x2=\"1584.7424023437502\" y1=\"45.0\" y2=\"145.0\" stroke=\"black\" stroke-width=\"3\" /><line x1=\"1662.3501953125\" x2=\"1662.3501953125\" y1=\"45.0\" y2=\"145.0\" stroke=\"black\" stroke-width=\"3\" /><line x1=\"1740.04330078125\" x2=\"1740.04330078125\" y1=\"45.0\" y2=\"145.0\" stroke=\"black\" stroke-width=\"3\" /><line x1=\"1817.8764062500002\" x2=\"1817.8764062500002\" y1=\"45.0\" y2=\"145.0\" stroke=\"black\" stroke-width=\"3\" /><line x1=\"1895.8779492187502\" x2=\"1895.8779492187502\" y1=\"95.0\" y2=\"145.0\" stroke=\"black\" stroke-width=\"3\" /><line x1=\"1973.8291796875003\" x2=\"1973.8291796875003\" y1=\"95.0\" y2=\"145.0\" stroke=\"black\" stroke-width=\"3\" /><line x1=\"2051.7322851562503\" x2=\"2051.7322851562503\" y1=\"95.0\" y2=\"145.0\" stroke=\"black\" stroke-width=\"3\" /><line x1=\"2129.8060156250003\" x2=\"2129.8060156250003\" y1=\"95.0\" y2=\"145.0\" stroke=\"black\" stroke-width=\"3\" /><line x1=\"2207.7222460937505\" x2=\"2207.7222460937505\" y1=\"45.0\" y2=\"95.0\" stroke=\"black\" stroke-width=\"3\" /><line x1=\"2285.600195312501\" x2=\"2285.600195312501\" y1=\"45.0\" y2=\"95.0\" stroke=\"black\" stroke-width=\"3\" /><line x1=\"2363.5842382812507\" x2=\"2363.5842382812507\" y1=\"45.0\" y2=\"95.0\" stroke=\"black\" stroke-width=\"3\" /><line x1=\"2441.555156250001\" x2=\"2441.555156250001\" y1=\"45.0\" y2=\"95.0\" stroke=\"black\" stroke-width=\"3\" /><line x1=\"878.8598437500002\" x2=\"878.8598437500002\" y1=\"5.0\" y2=\"15.0\" stroke=\"black\" stroke-width=\"3\" /><line x1=\"1004.4801171875001\" x2=\"1004.4801171875001\" y1=\"5.0\" y2=\"15.0\" stroke=\"black\" stroke-width=\"3\" /><line x1=\"878.8598437500002\" x2=\"878.8598437500002\" y1=\"175.0\" y2=\"185.0\" stroke=\"black\" stroke-width=\"3\" /><line x1=\"1004.4801171875001\" x2=\"1004.4801171875001\" y1=\"175.0\" y2=\"185.0\" stroke=\"black\" stroke-width=\"3\" /><line x1=\"747.4978125000002\" x2=\"747.4978125000002\" y1=\"5.0\" y2=\"15.0\" stroke=\"black\" stroke-width=\"3\" /><line x1=\"868.8598437500002\" x2=\"868.8598437500002\" y1=\"5.0\" y2=\"15.0\" stroke=\"black\" stroke-width=\"3\" /><line x1=\"747.4978125000002\" x2=\"747.4978125000002\" y1=\"175.0\" y2=\"185.0\" stroke=\"black\" stroke-width=\"3\" /><line x1=\"868.8598437500002\" x2=\"868.8598437500002\" y1=\"175.0\" y2=\"185.0\" stroke=\"black\" stroke-width=\"3\" /><line x1=\"620.8810156250001\" x2=\"620.8810156250001\" y1=\"5.0\" y2=\"15.0\" stroke=\"black\" stroke-width=\"3\" /><line x1=\"737.4978125000002\" x2=\"737.4978125000002\" y1=\"5.0\" y2=\"15.0\" stroke=\"black\" stroke-width=\"3\" /><line x1=\"620.8810156250001\" x2=\"620.8810156250001\" y1=\"175.0\" y2=\"185.0\" stroke=\"black\" stroke-width=\"3\" /><line x1=\"737.4978125000002\" x2=\"737.4978125000002\" y1=\"175.0\" y2=\"185.0\" stroke=\"black\" stroke-width=\"3\" /><rect x=\"10.0\" y=\"25.0\" width=\"49.517734375\" height=\"40\" stroke=\"black\" fill=\"white\" stroke-width=\"0\" /><text x=\"34.7588671875\" y=\"45.0\" dominant-baseline=\"middle\" text-anchor=\"middle\" font-size=\"14px\" font-family=\"Arial\">(0, 0): </text><rect x=\"10.0\" y=\"75.0\" width=\"49.517734375\" height=\"40\" stroke=\"black\" fill=\"white\" stroke-width=\"0\" /><text x=\"34.7588671875\" y=\"95.0\" dominant-baseline=\"middle\" text-anchor=\"middle\" font-size=\"14px\" font-family=\"Arial\">(0, 1): </text><rect x=\"10.0\" y=\"125.0\" width=\"49.517734375\" height=\"40\" stroke=\"black\" fill=\"white\" stroke-width=\"0\" /><text x=\"34.7588671875\" y=\"145.0\" dominant-baseline=\"middle\" text-anchor=\"middle\" font-size=\"14px\" font-family=\"Arial\">(0, 2): </text><rect x=\"79.517734375\" y=\"75.0\" width=\"51.0703125\" height=\"40\" stroke=\"black\" fill=\"white\" stroke-width=\"1\" /><text x=\"105.052890625\" y=\"95.0\" dominant-baseline=\"middle\" text-anchor=\"middle\" font-size=\"14px\" font-family=\"Arial\">@^x0</text><circle cx=\"105.052890625\" cy=\"45.0\" r=\"10.0\" /><circle cx=\"173.98970703125002\" cy=\"45.0\" r=\"10.0\" /><rect x=\"150.58804687500003\" y=\"75.0\" width=\"46.803320312500006\" height=\"40\" stroke=\"black\" fill=\"white\" stroke-width=\"1\" /><text x=\"173.98970703125002\" y=\"95.0\" dominant-baseline=\"middle\" text-anchor=\"middle\" font-size=\"14px\" font-family=\"Arial\">X^x1</text><rect x=\"217.3913671875\" y=\"75.0\" width=\"50.5978125\" height=\"40\" stroke=\"black\" fill=\"white\" stroke-width=\"1\" /><text x=\"242.69027343750003\" y=\"95.0\" dominant-baseline=\"middle\" text-anchor=\"middle\" font-size=\"14px\" font-family=\"Arial\">@^x2</text><circle cx=\"242.69027343750003\" cy=\"45.0\" r=\"10.0\" /><circle cx=\"311.33615234375003\" cy=\"45.0\" r=\"10.0\" /><rect x=\"287.98917968750004\" y=\"75.0\" width=\"46.693945312500006\" height=\"40\" stroke=\"black\" fill=\"white\" stroke-width=\"1\" /><text x=\"311.33615234375003\" y=\"95.0\" dominant-baseline=\"middle\" text-anchor=\"middle\" font-size=\"14px\" font-family=\"Arial\">X^x2</text><rect x=\"354.683125\" y=\"25.0\" width=\"51.1184375\" height=\"40\" stroke=\"black\" fill=\"white\" stroke-width=\"1\" /><text x=\"380.24234375000003\" y=\"45.0\" dominant-baseline=\"middle\" text-anchor=\"middle\" font-size=\"14px\" font-family=\"Arial\">X^x3</text><rect x=\"354.683125\" y=\"125.0\" width=\"51.1184375\" height=\"40\" stroke=\"black\" fill=\"white\" stroke-width=\"1\" /><text x=\"380.24234375000003\" y=\"145.0\" dominant-baseline=\"middle\" text-anchor=\"middle\" font-size=\"14px\" font-family=\"Arial\">@^x6</text><circle cx=\"380.24234375000003\" cy=\"95.0\" r=\"10.0\" /><rect x=\"425.80156250000005\" y=\"25.0\" width=\"46.8995703125\" height=\"40\" stroke=\"black\" fill=\"white\" stroke-width=\"1\" /><text x=\"449.25134765625006\" y=\"45.0\" dominant-baseline=\"middle\" text-anchor=\"middle\" font-size=\"14px\" font-family=\"Arial\">Y^x4</text><circle cx=\"449.25134765625006\" cy=\"95.0\" r=\"10.0\" /><rect x=\"425.80156250000005\" y=\"125.0\" width=\"46.8995703125\" height=\"40\" stroke=\"black\" fill=\"white\" stroke-width=\"1\" /><text x=\"449.25134765625006\" y=\"145.0\" dominant-baseline=\"middle\" text-anchor=\"middle\" font-size=\"14px\" font-family=\"Arial\">X^x7</text><rect x=\"492.70113281250013\" y=\"25.0\" width=\"51.041875000000005\" height=\"40\" stroke=\"black\" fill=\"white\" stroke-width=\"1\" /><text x=\"518.2220703125001\" y=\"45.0\" dominant-baseline=\"middle\" text-anchor=\"middle\" font-size=\"14px\" font-family=\"Arial\">Z^x5</text><rect x=\"492.70113281250013\" y=\"125.0\" width=\"51.041875000000005\" height=\"40\" stroke=\"black\" fill=\"white\" stroke-width=\"1\" /><text x=\"518.2220703125001\" y=\"145.0\" dominant-baseline=\"middle\" text-anchor=\"middle\" font-size=\"14px\" font-family=\"Arial\">@^x8</text><circle cx=\"518.2220703125001\" cy=\"95.0\" r=\"10.0\" /><circle cx=\"587.3120117187501\" cy=\"95.0\" r=\"10.0\" /><rect x=\"563.7430078125001\" y=\"125.0\" width=\"47.13800781250001\" height=\"40\" stroke=\"black\" fill=\"white\" stroke-width=\"1\" /><text x=\"587.3120117187501\" y=\"145.0\" dominant-baseline=\"middle\" text-anchor=\"middle\" font-size=\"14px\" font-family=\"Arial\">X^x8</text><rect x=\"620.8810156250001\" y=\"75.0\" width=\"47.11175781250001\" height=\"40\" stroke=\"black\" fill=\"white\" stroke-width=\"1\" /><text x=\"644.4368945312501\" y=\"95.0\" dominant-baseline=\"middle\" text-anchor=\"middle\" font-size=\"14px\" font-family=\"Arial\">X^x9</text><circle cx=\"697.7452929687502\" cy=\"45.0\" r=\"10.0\" /><rect x=\"667.9927734375002\" y=\"125.0\" width=\"59.5050390625\" height=\"40\" stroke=\"black\" fill=\"white\" stroke-width=\"1\" /><text x=\"697.7452929687502\" y=\"145.0\" dominant-baseline=\"middle\" text-anchor=\"middle\" font-size=\"14px\" font-family=\"Arial\">@^x12</text><rect x=\"747.4978125000002\" y=\"75.0\" width=\"55.48085937500001\" height=\"40\" stroke=\"black\" fill=\"white\" stroke-width=\"1\" /><text x=\"775.2382421875002\" y=\"95.0\" dominant-baseline=\"middle\" text-anchor=\"middle\" font-size=\"14px\" font-family=\"Arial\">Y^x10</text><circle cx=\"830.9192578125003\" cy=\"145.0\" r=\"10.0\" /><rect x=\"802.9786718750003\" y=\"25.0\" width=\"55.88117187500001\" height=\"40\" stroke=\"black\" fill=\"white\" stroke-width=\"1\" /><text x=\"830.9192578125003\" y=\"45.0\" dominant-baseline=\"middle\" text-anchor=\"middle\" font-size=\"14px\" font-family=\"Arial\">X^x13</text><rect x=\"878.8598437500002\" y=\"75.0\" width=\"55.498359375\" height=\"40\" stroke=\"black\" fill=\"white\" stroke-width=\"1\" /><text x=\"906.6090234375002\" y=\"95.0\" dominant-baseline=\"middle\" text-anchor=\"middle\" font-size=\"14px\" font-family=\"Arial\">Z^x11</text><circle cx=\"964.4191601562502\" cy=\"45.0\" r=\"10.0\" /><rect x=\"934.3582031250002\" y=\"125.0\" width=\"60.121914062500004\" height=\"40\" stroke=\"black\" fill=\"white\" stroke-width=\"1\" /><text x=\"964.4191601562502\" y=\"145.0\" dominant-baseline=\"middle\" text-anchor=\"middle\" font-size=\"14px\" font-family=\"Arial\">@^x14</text><circle cx=\"1052.589140625\" cy=\"145.0\" r=\"10.0\" /><rect x=\"1024.4801171875001\" y=\"25.0\" width=\"56.218046875\" height=\"40\" stroke=\"black\" fill=\"white\" stroke-width=\"1\" /><text x=\"1052.589140625\" y=\"45.0\" dominant-baseline=\"middle\" text-anchor=\"middle\" font-size=\"14px\" font-family=\"Arial\">X^x14</text><rect x=\"1100.6981640625002\" y=\"125.0\" width=\"55.780546875\" height=\"40\" stroke=\"black\" fill=\"white\" stroke-width=\"1\" /><text x=\"1128.5884375\" y=\"145.0\" dominant-baseline=\"middle\" text-anchor=\"middle\" font-size=\"14px\" font-family=\"Arial\">X^x15</text><rect x=\"1176.4787109375002\" y=\"125.0\" width=\"55.52898437500001\" height=\"40\" stroke=\"black\" fill=\"white\" stroke-width=\"1\" /><text x=\"1204.2432031250003\" y=\"145.0\" dominant-baseline=\"middle\" text-anchor=\"middle\" font-size=\"14px\" font-family=\"Arial\">Y^x16</text><rect x=\"1252.0076953125001\" y=\"125.0\" width=\"55.594609375000005\" height=\"40\" stroke=\"black\" fill=\"white\" stroke-width=\"1\" /><text x=\"1279.805\" y=\"145.0\" dominant-baseline=\"middle\" text-anchor=\"middle\" font-size=\"14px\" font-family=\"Arial\">Z^x17</text><rect x=\"1327.6023046875002\" y=\"25.0\" width=\"56.04523437500001\" height=\"40\" stroke=\"black\" fill=\"white\" stroke-width=\"1\" /><text x=\"1355.6249218750002\" y=\"45.0\" dominant-baseline=\"middle\" text-anchor=\"middle\" font-size=\"14px\" font-family=\"Arial\">X^x18</text><rect x=\"1403.6475390625003\" y=\"25.0\" width=\"55.42617187500001\" height=\"40\" stroke=\"black\" fill=\"white\" stroke-width=\"1\" /><text x=\"1431.3606250000003\" y=\"45.0\" dominant-baseline=\"middle\" text-anchor=\"middle\" font-size=\"14px\" font-family=\"Arial\">Y^x19</text><rect x=\"1479.0737109375002\" y=\"25.0\" width=\"55.861484375\" height=\"40\" stroke=\"black\" fill=\"white\" stroke-width=\"1\" /><text x=\"1507.0044531250003\" y=\"45.0\" dominant-baseline=\"middle\" text-anchor=\"middle\" font-size=\"14px\" font-family=\"Arial\">Z^x20</text><rect x=\"1554.9351953125001\" y=\"125.0\" width=\"59.6144140625\" height=\"40\" stroke=\"black\" fill=\"white\" stroke-width=\"1\" /><text x=\"1584.7424023437502\" y=\"145.0\" dominant-baseline=\"middle\" text-anchor=\"middle\" font-size=\"14px\" font-family=\"Arial\">@^x21</text><circle cx=\"1584.7424023437502\" cy=\"45.0\" r=\"10.0\" /><circle cx=\"1662.3501953125\" cy=\"45.0\" r=\"10.0\" /><rect x=\"1634.549609375\" y=\"125.0\" width=\"55.601171875000006\" height=\"40\" stroke=\"black\" fill=\"white\" stroke-width=\"1\" /><text x=\"1662.3501953125\" y=\"145.0\" dominant-baseline=\"middle\" text-anchor=\"middle\" font-size=\"14px\" font-family=\"Arial\">X^x22</text><rect x=\"1710.1507812500001\" y=\"125.0\" width=\"59.785039062500005\" height=\"40\" stroke=\"black\" fill=\"white\" stroke-width=\"1\" /><text x=\"1740.04330078125\" y=\"145.0\" dominant-baseline=\"middle\" text-anchor=\"middle\" font-size=\"14px\" font-family=\"Arial\">@^x23</text><circle cx=\"1740.04330078125\" cy=\"45.0\" r=\"10.0\" /><circle cx=\"1817.8764062500002\" cy=\"45.0\" r=\"10.0\" /><rect x=\"1789.9358203125003\" y=\"125.0\" width=\"55.88117187500001\" height=\"40\" stroke=\"black\" fill=\"white\" stroke-width=\"1\" /><text x=\"1817.8764062500002\" y=\"145.0\" dominant-baseline=\"middle\" text-anchor=\"middle\" font-size=\"14px\" font-family=\"Arial\">X^x23</text><circle cx=\"1895.8779492187502\" cy=\"95.0\" r=\"10.0\" /><rect x=\"1865.8169921875003\" y=\"125.0\" width=\"60.1219140625\" height=\"40\" stroke=\"black\" fill=\"white\" stroke-width=\"1\" /><text x=\"1895.8779492187502\" y=\"145.0\" dominant-baseline=\"middle\" text-anchor=\"middle\" font-size=\"14px\" font-family=\"Arial\">@^x24</text><circle cx=\"1973.8291796875003\" cy=\"145.0\" r=\"10.0\" /><rect x=\"1945.9389062500004\" y=\"75.0\" width=\"55.780546875\" height=\"40\" stroke=\"black\" fill=\"white\" stroke-width=\"1\" /><text x=\"1973.8291796875003\" y=\"95.0\" dominant-baseline=\"middle\" text-anchor=\"middle\" font-size=\"14px\" font-family=\"Arial\">X^x25</text><circle cx=\"2051.7322851562503\" cy=\"95.0\" r=\"10.0\" /><rect x=\"2021.7194531250004\" y=\"125.0\" width=\"60.0256640625\" height=\"40\" stroke=\"black\" fill=\"white\" stroke-width=\"1\" /><text x=\"2051.7322851562503\" y=\"145.0\" dominant-baseline=\"middle\" text-anchor=\"middle\" font-size=\"14px\" font-family=\"Arial\">@^x26</text><circle cx=\"2129.8060156250003\" cy=\"145.0\" r=\"10.0\" /><rect x=\"2101.7451171875005\" y=\"75.0\" width=\"56.121796875\" height=\"40\" stroke=\"black\" fill=\"white\" stroke-width=\"1\" /><text x=\"2129.8060156250003\" y=\"95.0\" dominant-baseline=\"middle\" text-anchor=\"middle\" font-size=\"14px\" font-family=\"Arial\">X^x26</text><circle cx=\"2207.7222460937505\" cy=\"45.0\" r=\"10.0\" /><rect x=\"2177.8669140625007\" y=\"75.0\" width=\"59.7106640625\" height=\"40\" stroke=\"black\" fill=\"white\" stroke-width=\"1\" /><text x=\"2207.7222460937505\" y=\"95.0\" dominant-baseline=\"middle\" text-anchor=\"middle\" font-size=\"14px\" font-family=\"Arial\">@^x27</text><circle cx=\"2285.600195312501\" cy=\"95.0\" r=\"10.0\" /><rect x=\"2257.577578125001\" y=\"25.0\" width=\"56.04523437500001\" height=\"40\" stroke=\"black\" fill=\"white\" stroke-width=\"1\" /><text x=\"2285.600195312501\" y=\"45.0\" dominant-baseline=\"middle\" text-anchor=\"middle\" font-size=\"14px\" font-family=\"Arial\">X^x28</text><circle cx=\"2363.5842382812507\" cy=\"45.0\" r=\"10.0\" /><rect x=\"2333.6228125000007\" y=\"75.0\" width=\"59.9228515625\" height=\"40\" stroke=\"black\" fill=\"white\" stroke-width=\"1\" /><text x=\"2363.5842382812507\" y=\"95.0\" dominant-baseline=\"middle\" text-anchor=\"middle\" font-size=\"14px\" font-family=\"Arial\">@^x29</text><circle cx=\"2441.555156250001\" cy=\"95.0\" r=\"10.0\" /><rect x=\"2413.5456640625007\" y=\"25.0\" width=\"56.018984375\" height=\"40\" stroke=\"black\" fill=\"white\" stroke-width=\"1\" /><text x=\"2441.555156250001\" y=\"45.0\" dominant-baseline=\"middle\" text-anchor=\"middle\" font-size=\"14px\" font-family=\"Arial\">X^x29</text><rect x=\"2489.5646484375006\" y=\"25.0\" width=\"56.073671875\" height=\"40\" stroke=\"black\" fill=\"white\" stroke-width=\"1\" /><text x=\"2517.601484375001\" y=\"45.0\" dominant-baseline=\"middle\" text-anchor=\"middle\" font-size=\"14px\" font-family=\"Arial\">X^x30</text><rect x=\"2565.6383203125006\" y=\"25.0\" width=\"55.117734375\" height=\"40\" stroke=\"black\" fill=\"white\" stroke-width=\"1\" /><text x=\"2593.1971875000004\" y=\"45.0\" dominant-baseline=\"middle\" text-anchor=\"middle\" font-size=\"14px\" font-family=\"Arial\">Y^x31</text><rect x=\"2640.7560546875006\" y=\"25.0\" width=\"55.38898437500001\" height=\"40\" stroke=\"black\" fill=\"white\" stroke-width=\"1\" /><text x=\"2668.450546875001\" y=\"45.0\" dominant-baseline=\"middle\" text-anchor=\"middle\" font-size=\"14px\" font-family=\"Arial\">Z^x32</text></svg>"
      ],
      "text/plain": [
       "<cirq.contrib.svg.svg.SVGCircuit at 0x7f55801a48b0>"
      ]
     },
     "execution_count": 8,
     "metadata": {},
     "output_type": "execute_result"
    }
   ],
   "source": [
    "SVGCircuit(\n",
    "    quantum_fc_circuit(cirq.GridQubit.rect(1, 3), sympy.symbols('x0:33'), Fcc = True))"
   ]
  },
  {
   "cell_type": "markdown",
   "id": "9f4c2ebd",
   "metadata": {},
   "source": [
    "## Create the model\n",
    "Decide how many convulational layers, pooling etc...."
   ]
  },
  {
   "cell_type": "code",
   "execution_count": 9,
   "id": "2f914635",
   "metadata": {},
   "outputs": [
    {
     "name": "stdout",
     "output_type": "stream",
     "text": [
      "Number of params needed 42\n",
      "('You must install pydot (`pip install pydot`) and install graphviz (see instructions at https://graphviz.gitlab.io/download/) ', 'for plot_model/model_to_dot to work.')\n"
     ]
    }
   ],
   "source": [
    "def create_model_circuit(qubits):\n",
    "    \"\"\"Create sequence of alternating convolution and pooling operators \n",
    "    which gradually shrink over time.\"\"\"\n",
    "    model_circuit = cirq.Circuit()\n",
    "    symbols = sympy.symbols('qconv0:78')\n",
    "    # Cirq uses sympy.Symbols to map learnable variables. TensorFlow Quantum\n",
    "    # scans incoming circuits and replaces these with TensorFlow variables.\n",
    "    model_circuit += quantum_conv_circuit(qubits, symbols[0:15])\n",
    "    model_circuit += quantum_pool_circuit(qubits[:3], qubits[3:],\n",
    "                                          symbols[15:21])\n",
    "    model_circuit += quantum_conv_circuit(qubits[3:], symbols[21:36])\n",
    "\n",
    "    model_circuit += quantum_fc_circuit(qubits[3:], symbols[36:78], Fcc = False)\n",
    "    \n",
    "    #model_circuit += (cirq.r(symbols[36]) * cirq.Y(symbols[36])).controlled_by(qubits[5])\n",
    "    \n",
    "    #cirq.ControlledGate(cirq.rx(symbols[36]) * cirq.ry(symbols[37]) * cirq.rz(symbols[38])).on(qubits[4], qubits[5])\n",
    "    #model_circuit += cirq.ControlledGate(my_U).on(qubits[4], qubits[5])\n",
    "    #model_circuit += cirq.Circuit(custom_gate.on(*qubits[2:4]))\n",
    "    #model_circuit += quantum_fc_circuit(qubits[3:], symbols[36:75])\n",
    "\n",
    "    \n",
    "    return model_circuit\n",
    "\n",
    "\n",
    "from tensorflow_quantum import differentiators\n",
    "\n",
    "\n",
    "qubits = cirq.GridQubit.rect(1, 6) #grid of qubit \n",
    "readout_operators = cirq.Z(qubits[-1]) #grid of operator i want to average on (final expected value)\n",
    "\n",
    "# Build a sequential model enacting the logic in 1.3 of this notebook.\n",
    "inputs = tf.keras.Input(shape=(), dtype=tf.dtypes.string) #still general input\n",
    "\n",
    "#define the differentiator\n",
    "#differentiator = differentiators.ParameterShift()\n",
    "\n",
    "\n",
    "#define the model \n",
    "quantum_model = tfq.layers.PQC(create_model_circuit(qubits),readout_operators)(inputs)\n",
    "\n",
    "qcnn_model = tf.keras.Model(inputs=[inputs], outputs=[quantum_model])\n",
    "\n",
    "# Show the keras plot of the model\n",
    "tf.keras.utils.plot_model(qcnn_model,\n",
    "                          show_shapes=True,\n",
    "                          show_layer_names=False,\n",
    "                          dpi=70)\n"
   ]
  },
  {
   "cell_type": "markdown",
   "id": "d97ea59b",
   "metadata": {},
   "source": [
    "## Load data of amplitude encoding"
   ]
  },
  {
   "cell_type": "code",
   "execution_count": 10,
   "id": "d189f383",
   "metadata": {},
   "outputs": [],
   "source": [
    "import json\n",
    "\n",
    "# Open the file in read mode\n",
    "with open('amplitude_encoding_train.json', 'r') as f:\n",
    "    # Use json.load() to read the contents of the file\n",
    "    new_circuit = json.load(f)\n",
    "\n",
    "# Close the file\n",
    "f.close()\n",
    "train_circuits_data = [cirq.read_json(json_text=new_circuit[i]) for i in range((5000))]\n",
    "\n",
    "# Open the file in read mode\n",
    "with open('amplitude_encoding_test.json', 'r') as f:\n",
    "    # Use json.load() to read the contents of the file\n",
    "    new_circuit = json.load(f)\n",
    "\n",
    "# Close the file\n",
    "f.close()\n",
    "test_circuits_data = [cirq.read_json(json_text=new_circuit[i]) for i in range((500))]\n",
    "\n",
    "y_train = np.loadtxt(\"y_train.txt\")\n",
    "y_test = np.loadtxt(\"y_test.txt\")\n",
    "\n",
    "y_train = y_train[:5000]\n",
    "y_test = y_test[:500]\n"
   ]
  },
  {
   "cell_type": "code",
   "execution_count": 11,
   "id": "84f4939d",
   "metadata": {},
   "outputs": [],
   "source": [
    "# convert to tensors\n",
    "train_circuits_data = tfq.convert_to_tensor(train_circuits_data)\n",
    "test_circuits_data = tfq.convert_to_tensor(test_circuits_data)"
   ]
  },
  {
   "cell_type": "code",
   "execution_count": 12,
   "id": "d6af0c0e",
   "metadata": {},
   "outputs": [],
   "source": [
    "\n",
    "# Custom accuracy metric.\n",
    "@tf.function\n",
    "def custom_accuracy(y_true, y_pred):\n",
    "    y_true = tf.squeeze(y_true)\n",
    "    y_pred = tf.map_fn(lambda x: 1.0 if x >= 0 else -1.0, y_pred)\n",
    "    return tf.keras.backend.mean(tf.keras.backend.equal(y_true, y_pred))\n",
    "\n",
    "\n",
    "qcnn_model.compile(optimizer=tf.keras.optimizers.Adam(learning_rate=0.001),\n",
    "                   loss=tf.losses.mse,\n",
    "                   metrics=[custom_accuracy])"
   ]
  },
  {
   "cell_type": "code",
   "execution_count": 13,
   "id": "66e69efb",
   "metadata": {},
   "outputs": [
    {
     "name": "stdout",
     "output_type": "stream",
     "text": [
      "Epoch 1/50\n",
      "67/67 [==============================] - 47s 695ms/step - loss: 0.8642 - custom_accuracy: 0.6688 - val_loss: 0.7570 - val_custom_accuracy: 0.8590\n",
      "Epoch 2/50\n",
      "67/67 [==============================] - 44s 656ms/step - loss: 0.6639 - custom_accuracy: 0.9060 - val_loss: 0.6416 - val_custom_accuracy: 0.8686\n",
      "Epoch 3/50\n",
      "67/67 [==============================] - 44s 663ms/step - loss: 0.5882 - custom_accuracy: 0.9302 - val_loss: 0.6133 - val_custom_accuracy: 0.9095\n",
      "Epoch 4/50\n",
      "67/67 [==============================] - 44s 664ms/step - loss: 0.5451 - custom_accuracy: 0.9492 - val_loss: 0.5650 - val_custom_accuracy: 0.9162\n",
      "Epoch 5/50\n",
      "67/67 [==============================] - 44s 658ms/step - loss: 0.5086 - custom_accuracy: 0.9566 - val_loss: 0.5383 - val_custom_accuracy: 0.9314\n",
      "Epoch 6/50\n",
      "67/67 [==============================] - 45s 679ms/step - loss: 0.4888 - custom_accuracy: 0.9580 - val_loss: 0.5243 - val_custom_accuracy: 0.9352\n",
      "Epoch 7/50\n",
      "67/67 [==============================] - 45s 671ms/step - loss: 0.4753 - custom_accuracy: 0.9529 - val_loss: 0.5184 - val_custom_accuracy: 0.9381\n",
      "Epoch 8/50\n",
      "67/67 [==============================] - 46s 681ms/step - loss: 0.4662 - custom_accuracy: 0.9523 - val_loss: 0.5143 - val_custom_accuracy: 0.9400\n",
      "Epoch 9/50\n",
      "67/67 [==============================] - 45s 672ms/step - loss: 0.4622 - custom_accuracy: 0.9517 - val_loss: 0.5114 - val_custom_accuracy: 0.9448\n",
      "Epoch 10/50\n",
      "67/67 [==============================] - 45s 668ms/step - loss: 0.4597 - custom_accuracy: 0.9534 - val_loss: 0.5103 - val_custom_accuracy: 0.9448\n",
      "Epoch 11/50\n",
      "67/67 [==============================] - 45s 667ms/step - loss: 0.4578 - custom_accuracy: 0.9546 - val_loss: 0.5062 - val_custom_accuracy: 0.9467\n",
      "Epoch 12/50\n",
      "67/67 [==============================] - 45s 677ms/step - loss: 0.4560 - custom_accuracy: 0.9552 - val_loss: 0.5076 - val_custom_accuracy: 0.9486\n",
      "Epoch 13/50\n",
      "67/67 [==============================] - 45s 671ms/step - loss: 0.4545 - custom_accuracy: 0.9568 - val_loss: 0.5041 - val_custom_accuracy: 0.9467\n",
      "Epoch 14/50\n",
      "67/67 [==============================] - 44s 656ms/step - loss: 0.4533 - custom_accuracy: 0.9577 - val_loss: 0.5046 - val_custom_accuracy: 0.9505\n",
      "Epoch 15/50\n",
      "67/67 [==============================] - 44s 662ms/step - loss: 0.4525 - custom_accuracy: 0.9581 - val_loss: 0.5003 - val_custom_accuracy: 0.9505\n",
      "Epoch 16/50\n",
      "67/67 [==============================] - 46s 683ms/step - loss: 0.4514 - custom_accuracy: 0.9590 - val_loss: 0.5047 - val_custom_accuracy: 0.9524\n",
      "Epoch 17/50\n",
      "67/67 [==============================] - 45s 674ms/step - loss: 0.4512 - custom_accuracy: 0.9580 - val_loss: 0.5034 - val_custom_accuracy: 0.9524\n",
      "Epoch 18/50\n",
      "67/67 [==============================] - 46s 682ms/step - loss: 0.4501 - custom_accuracy: 0.9608 - val_loss: 0.5025 - val_custom_accuracy: 0.9505\n",
      "Epoch 19/50\n",
      "67/67 [==============================] - 44s 661ms/step - loss: 0.4493 - custom_accuracy: 0.9608 - val_loss: 0.5008 - val_custom_accuracy: 0.9486\n",
      "Epoch 20/50\n",
      "67/67 [==============================] - 44s 659ms/step - loss: 0.4484 - custom_accuracy: 0.9601 - val_loss: 0.4984 - val_custom_accuracy: 0.9486\n",
      "Epoch 21/50\n",
      "67/67 [==============================] - 44s 657ms/step - loss: 0.4480 - custom_accuracy: 0.9611 - val_loss: 0.5002 - val_custom_accuracy: 0.9486\n",
      "Epoch 22/50\n",
      "67/67 [==============================] - 44s 655ms/step - loss: 0.4468 - custom_accuracy: 0.9609 - val_loss: 0.4972 - val_custom_accuracy: 0.9486\n",
      "Epoch 23/50\n",
      "67/67 [==============================] - 44s 661ms/step - loss: 0.4457 - custom_accuracy: 0.9605 - val_loss: 0.4982 - val_custom_accuracy: 0.9524\n",
      "Epoch 24/50\n",
      "67/67 [==============================] - 44s 657ms/step - loss: 0.4445 - custom_accuracy: 0.9613 - val_loss: 0.4927 - val_custom_accuracy: 0.9476\n",
      "Epoch 25/50\n",
      "67/67 [==============================] - 44s 657ms/step - loss: 0.4429 - custom_accuracy: 0.9611 - val_loss: 0.4951 - val_custom_accuracy: 0.9495\n",
      "Epoch 26/50\n",
      "67/67 [==============================] - 44s 652ms/step - loss: 0.4411 - custom_accuracy: 0.9617 - val_loss: 0.4912 - val_custom_accuracy: 0.9457\n",
      "Epoch 27/50\n",
      "67/67 [==============================] - 44s 658ms/step - loss: 0.4398 - custom_accuracy: 0.9631 - val_loss: 0.4896 - val_custom_accuracy: 0.9438\n",
      "Epoch 28/50\n",
      "67/67 [==============================] - 43s 650ms/step - loss: 0.4382 - custom_accuracy: 0.9611 - val_loss: 0.4874 - val_custom_accuracy: 0.9438\n",
      "Epoch 29/50\n",
      "67/67 [==============================] - 44s 661ms/step - loss: 0.4370 - custom_accuracy: 0.9606 - val_loss: 0.4838 - val_custom_accuracy: 0.9419\n",
      "Epoch 30/50\n",
      "67/67 [==============================] - 44s 657ms/step - loss: 0.4360 - custom_accuracy: 0.9611 - val_loss: 0.4872 - val_custom_accuracy: 0.9400\n",
      "Epoch 31/50\n",
      "67/67 [==============================] - 44s 655ms/step - loss: 0.4357 - custom_accuracy: 0.9596 - val_loss: 0.4872 - val_custom_accuracy: 0.9419\n",
      "Epoch 32/50\n",
      "67/67 [==============================] - 44s 657ms/step - loss: 0.4349 - custom_accuracy: 0.9612 - val_loss: 0.4831 - val_custom_accuracy: 0.9419\n",
      "Epoch 33/50\n",
      "67/67 [==============================] - 45s 668ms/step - loss: 0.4343 - custom_accuracy: 0.9607 - val_loss: 0.4863 - val_custom_accuracy: 0.9419\n",
      "Epoch 34/50\n",
      "67/67 [==============================] - 45s 666ms/step - loss: 0.4337 - custom_accuracy: 0.9623 - val_loss: 0.4843 - val_custom_accuracy: 0.9419\n",
      "Epoch 35/50\n",
      "67/67 [==============================] - 45s 673ms/step - loss: 0.4334 - custom_accuracy: 0.9617 - val_loss: 0.4841 - val_custom_accuracy: 0.9419\n",
      "Epoch 36/50\n",
      "67/67 [==============================] - 46s 686ms/step - loss: 0.4331 - custom_accuracy: 0.9613 - val_loss: 0.4852 - val_custom_accuracy: 0.9381\n",
      "Epoch 37/50\n",
      "67/67 [==============================] - 45s 673ms/step - loss: 0.4329 - custom_accuracy: 0.9627 - val_loss: 0.4802 - val_custom_accuracy: 0.9419\n",
      "Epoch 38/50\n",
      "67/67 [==============================] - 46s 687ms/step - loss: 0.4326 - custom_accuracy: 0.9606 - val_loss: 0.4833 - val_custom_accuracy: 0.9400\n",
      "Epoch 39/50\n",
      "67/67 [==============================] - 46s 683ms/step - loss: 0.4323 - custom_accuracy: 0.9626 - val_loss: 0.4821 - val_custom_accuracy: 0.9486\n",
      "Epoch 40/50\n",
      "67/67 [==============================] - 47s 696ms/step - loss: 0.4322 - custom_accuracy: 0.9626 - val_loss: 0.4803 - val_custom_accuracy: 0.9400\n",
      "Epoch 41/50\n",
      "67/67 [==============================] - 52s 775ms/step - loss: 0.4316 - custom_accuracy: 0.9621 - val_loss: 0.4837 - val_custom_accuracy: 0.9400\n",
      "Epoch 42/50\n",
      "67/67 [==============================] - 52s 772ms/step - loss: 0.4318 - custom_accuracy: 0.9625 - val_loss: 0.4832 - val_custom_accuracy: 0.9400\n",
      "Epoch 43/50\n",
      "67/67 [==============================] - 49s 727ms/step - loss: 0.4316 - custom_accuracy: 0.9632 - val_loss: 0.4808 - val_custom_accuracy: 0.9429\n",
      "Epoch 44/50\n",
      "67/67 [==============================] - 53s 792ms/step - loss: 0.4315 - custom_accuracy: 0.9635 - val_loss: 0.4796 - val_custom_accuracy: 0.9400\n",
      "Epoch 45/50\n",
      "67/67 [==============================] - 53s 786ms/step - loss: 0.4314 - custom_accuracy: 0.9629 - val_loss: 0.4792 - val_custom_accuracy: 0.9419\n",
      "Epoch 46/50\n",
      "67/67 [==============================] - 54s 804ms/step - loss: 0.4310 - custom_accuracy: 0.9622 - val_loss: 0.4807 - val_custom_accuracy: 0.9429\n",
      "Epoch 47/50\n",
      "67/67 [==============================] - 44s 661ms/step - loss: 0.4311 - custom_accuracy: 0.9642 - val_loss: 0.4828 - val_custom_accuracy: 0.9429\n",
      "Epoch 48/50\n",
      "67/67 [==============================] - 44s 659ms/step - loss: 0.4309 - custom_accuracy: 0.9629 - val_loss: 0.4808 - val_custom_accuracy: 0.9429\n",
      "Epoch 49/50\n",
      "67/67 [==============================] - 44s 660ms/step - loss: 0.4308 - custom_accuracy: 0.9638 - val_loss: 0.4814 - val_custom_accuracy: 0.9410\n",
      "Epoch 50/50\n",
      "67/67 [==============================] - 44s 661ms/step - loss: 0.4306 - custom_accuracy: 0.9633 - val_loss: 0.4837 - val_custom_accuracy: 0.9390\n"
     ]
    }
   ],
   "source": [
    "history = qcnn_model.fit(x=train_circuits_data,\n",
    "                         y=y_train,\n",
    "                         batch_size=75,\n",
    "                         epochs=50,\n",
    "                         verbose=1,\n",
    "                         validation_data=(test_circuits_data, y_test))"
   ]
  },
  {
   "cell_type": "code",
   "execution_count": 14,
   "id": "64b179c6",
   "metadata": {},
   "outputs": [
    {
     "data": {
      "image/png": "[encoded data removed]",
      "text/plain": [
       "<Figure size 640x480 with 1 Axes>"
      ]
     },
     "metadata": {},
     "output_type": "display_data"
    }
   ],
   "source": [
    "plt.plot(history.history['loss'][1:], label='Training')\n",
    "plt.plot(history.history['val_loss'][1:], label='Validation')\n",
    "plt.title('Training a Quantum CNN ')\n",
    "plt.xlabel('Epochs')\n",
    "plt.ylabel('Loss')\n",
    "plt.legend()\n",
    "plt.show()"
   ]
  },
  {
   "cell_type": "code",
   "execution_count": 15,
   "id": "0e5c16a3",
   "metadata": {},
   "outputs": [
    {
     "data": {
      "image/png": "[encoded data removed]",
      "text/plain": [
       "<Figure size 640x480 with 1 Axes>"
      ]
     },
     "metadata": {},
     "output_type": "display_data"
    }
   ],
   "source": [
    "plt.plot(history.history['val_custom_accuracy'], label='QCNN')\n",
    "plt.title('Quantum vs Hybrid CNN performance')\n",
    "plt.xlabel('Epochs')\n",
    "plt.legend()\n",
    "plt.ylabel('Validation Accuracy')\n",
    "plt.show()"
   ]
  },
  {
   "cell_type": "code",
   "execution_count": 16,
   "id": "fd131bdd",
   "metadata": {},
   "outputs": [],
   "source": [
    "np.savetxt('nloss.txt', history.history['loss'][1:])\n",
    "np.savetxt('nval_loss.txt', history.history['val_loss'][1:])\n",
    "\n",
    "np.savetxt('nval_acc.txt', history.history['val_custom_accuracy'])"
   ]
  },
  {
   "cell_type": "code",
   "execution_count": null,
   "id": "5ee742fb",
   "metadata": {},
   "outputs": [],
   "source": []
  }
 ],
 "metadata": {
  "kernelspec": {
   "display_name": "qcnn",
   "language": "python",
   "name": "qcnn"
  },
  "language_info": {
   "codemirror_mode": {
    "name": "ipython",
    "version": 3
   },
   "file_extension": ".py",
   "mimetype": "text/x-python",
   "name": "python",
   "nbconvert_exporter": "python",
   "pygments_lexer": "ipython3",
   "version": "3.8.16"
  }
 },
 "nbformat": 4,
 "nbformat_minor": 5
}
