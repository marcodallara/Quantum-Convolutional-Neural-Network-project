{
 "cells": [
  {
   "cell_type": "markdown",
   "id": "3d0ab460",
   "metadata": {},
   "source": [
    "## Extract MINST data"
   ]
  },
  {
   "cell_type": "code",
   "execution_count": 10,
   "id": "f88d3c65",
   "metadata": {},
   "outputs": [],
   "source": [
    "import tensorflow as tf\n",
    "import tensorflow_quantum as tfq\n",
    "\n",
    "import cirq\n",
    "import sympy\n",
    "import numpy as np\n",
    "from numpy import linalg as LA\n",
    "import copy\n",
    "import itertools\n",
    "\n",
    "# visualization tools\n",
    "%matplotlib inline\n",
    "import matplotlib.pyplot as plt\n",
    "from cirq.contrib.svg import SVGCircuit"
   ]
  },
  {
   "cell_type": "markdown",
   "id": "561fa778",
   "metadata": {},
   "source": [
    "## Functions for amplitude encoding"
   ]
  },
  {
   "cell_type": "code",
   "execution_count": 11,
   "id": "fa6624da",
   "metadata": {},
   "outputs": [],
   "source": [
    "def gen_angles(x):\n",
    "    \"\"\"function that generates angles for amplitude encoding\"\"\"\n",
    "    \n",
    "    if len(x)>1:\n",
    "        new_x = np.zeros(int(len(x)/2))\n",
    "        \n",
    "        for k in range(len(new_x)):\n",
    "            new_x[k] = np.sqrt(x[2*k]**2 + x[2*k+1]**2)\n",
    "        \n",
    "        inner_angles = gen_angles(new_x)\n",
    "                \n",
    "        angles = np.zeros(int(len(x)/2))\n",
    "\n",
    "        for k in range(len(new_x)):\n",
    "            if(new_x[k]!=0):\n",
    "                if(x[2*k]>0):\n",
    "                    angles[k] = 2*np.arcsin(x[2*k+1]/new_x[k])\n",
    "                else:\n",
    "                    angles[k] = 2*np.pi - 2*np.arcsin(x[2*k+1]/new_x[k])\n",
    "            else:\n",
    "                angles[k] = 0\n",
    "        \n",
    "        angles = np.concatenate((inner_angles, angles))\n",
    "        \n",
    "        return np.array(angles)\n",
    "    \n",
    "    else: return np.ones(0)\n",
    "    \n",
    "    \n",
    "    \n",
    "n_0 = 20  # Number of elements in the array\n",
    "array = [0] * n_0  # Initialize the array with zeros\n",
    "\n",
    "# Calculate the cumulative sums of powers of 2\n",
    "for i in range(n_0):\n",
    "    if i == 0:\n",
    "        array[i] = 1\n",
    "    else:\n",
    "        array[i] = array[i-1] + 2 ** i\n",
    "array = np.array(array)-1\n",
    "\n",
    "\n",
    "\n",
    "def level(k):\n",
    "    \n",
    "    for i in range(len(array)):\n",
    "        \n",
    "        if(k==0): return 0\n",
    "        \n",
    "        if (k>array[i] and k<=array[i+1]): return i+1\n",
    "    \n",
    "\n",
    "\n",
    "def parity(level):\n",
    "    \n",
    "    n = level\n",
    "    combinations = list(itertools.product([0, 1], repeat=n))\n",
    "    return (combinations)\n",
    "    \n",
    "def gen_circuit(qubits, angles): #recive a list of n qubits\n",
    "    \n",
    "    circuit = cirq.Circuit()\n",
    "    counter = 0\n",
    "    levels = [level(np.arange(0,len(angles)+1)[i]) for i in range(len(angles)+1)]\n",
    "\n",
    "\n",
    "    for k in range(len(angles)):\n",
    "        \n",
    "        j = levels[k]\n",
    "        \n",
    "        if(j!=levels[k-1] and k>0):\n",
    "            counter = 0\n",
    "        \n",
    "        p = parity(j)\n",
    "        op = cirq.ry(angles[k]).on(qubits[j]).controlled_by(*qubits[0:j], control_values=parity(j)[counter])\n",
    "        #for i in range(j):\n",
    "         #   op = op.controlled_by(qubits[j-1-i], control_values=[1])\n",
    "        \n",
    "        counter += 1\n",
    "        circuit += op\n",
    "\n",
    "    return circuit"
   ]
  },
  {
   "cell_type": "code",
   "execution_count": 12,
   "id": "1e86550c",
   "metadata": {},
   "outputs": [],
   "source": [
    "def amplitude_encoding(qubits, data, print_it=False):\n",
    "    \n",
    "    \"\"\" Make amplitude encoding. Return the circuit \"\"\"\n",
    "    \n",
    "    N = len(data) #dimension of the vector\n",
    "    n = np.log2(N) #number of qubits\n",
    "    \n",
    "    angles = np.hstack(gen_angles(data)) #compute the angles to do amp encoding\n",
    "\n",
    "    circuit = gen_circuit(qubits, angles) #make the circuit\n",
    "    \n",
    "    if (print_it==True):\n",
    "        SVGCircuit(circuit)\n",
    "        \n",
    "    return circuit"
   ]
  },
  {
   "cell_type": "code",
   "execution_count": 13,
   "id": "45f6f756",
   "metadata": {},
   "outputs": [
    {
     "name": "stdout",
     "output_type": "stream",
     "text": [
      "Number of original training examples: 60000\n",
      "Number of original test examples: 10000\n"
     ]
    }
   ],
   "source": [
    "(x_train, y_train), (x_test, y_test) = tf.keras.datasets.mnist.load_data()\n",
    "\n",
    "# Rescale the images from [0,255] to the [0.0,1.0] range.\n",
    "x_train, x_test = x_train[..., np.newaxis]/255.0, x_test[..., np.newaxis]/255.0\n",
    "\n",
    "print(\"Number of original training examples:\", len(x_train))\n",
    "print(\"Number of original test examples:\", len(x_test))\n"
   ]
  },
  {
   "cell_type": "code",
   "execution_count": 14,
   "id": "645e9fd1",
   "metadata": {},
   "outputs": [],
   "source": [
    "def filter_36(x, y):\n",
    "    keep = (y == 3) | (y == 6)\n",
    "    x, y = x[keep], y[keep]\n",
    "    y = y == 3\n",
    "    return x,y"
   ]
  },
  {
   "cell_type": "code",
   "execution_count": 15,
   "id": "d108ce1d",
   "metadata": {},
   "outputs": [
    {
     "name": "stdout",
     "output_type": "stream",
     "text": [
      "Number of filtered training examples: 12049\n",
      "Number of filtered test examples: 1968\n",
      "True\n",
      "True\n"
     ]
    },
    {
     "data": {
      "text/plain": [
       "<matplotlib.colorbar.Colorbar at 0x7f411170a0a0>"
      ]
     },
     "execution_count": 15,
     "metadata": {},
     "output_type": "execute_result"
    },
    {
     "data": {
      "image/png": "[encoded data removed]",
      "text/plain": [
       "<Figure size 640x480 with 3 Axes>"
      ]
     },
     "metadata": {},
     "output_type": "display_data"
    }
   ],
   "source": [
    "x_train, y_train = filter_36(x_train, y_train)\n",
    "x_test, y_test = filter_36(x_test, y_test)\n",
    "\n",
    "print(\"Number of filtered training examples:\", len(x_train))\n",
    "print(\"Number of filtered test examples:\", len(x_test))\n",
    "\n",
    "print(y_train[0])\n",
    "\n",
    "plt.imshow(x_train[0, :, :, :])\n",
    "plt.colorbar()\n",
    "\n",
    "x_train_small = tf.image.resize(x_train, (4,4)).numpy()\n",
    "x_test_small = tf.image.resize(x_test, (4,4)).numpy()\n",
    "\n",
    "print(y_train[10])\n",
    "\n",
    "plt.imshow(x_train_small[10,:,:,0], vmin=0, vmax=1)\n",
    "plt.colorbar()\n"
   ]
  },
  {
   "cell_type": "code",
   "execution_count": 16,
   "id": "7b30aaf5",
   "metadata": {},
   "outputs": [],
   "source": [
    "#test to understand structure\n",
    "#print(x_train_small[10])\n",
    "#print(np.reshape(np.ravel(x_train_small[10]),(8,8)))\n"
   ]
  },
  {
   "cell_type": "code",
   "execution_count": 17,
   "id": "25fe1698",
   "metadata": {},
   "outputs": [],
   "source": [
    "#encode such that the first four amplitudes are a square 2x2\n",
    "\n",
    "def get_submatrices(matrix):\n",
    "    submatrices = []\n",
    "    rows = len(matrix)\n",
    "    cols = len(matrix[0])\n",
    "\n",
    "    for i in range(0, rows - 1, 2):  # Iterate over rows with a step of 2\n",
    "        for j in range(0, cols - 1, 2):  # Iterate over columns with a step of 2\n",
    "            submatrix = [\n",
    "                [matrix[i][j], matrix[i][j + 1]],\n",
    "                [matrix[i + 1][j], matrix[i + 1][j + 1]]\n",
    "            ]\n",
    "            submatrices.append(submatrix)\n",
    "\n",
    "    return submatrices\n",
    "\n",
    "amplitude_vectors_train = []\n",
    "amplitude_vectors_test = []\n",
    "\n",
    "for i in range(len(x_train_small)):\n",
    "    matrix = np.reshape(np.ravel(x_train_small[i]),(4,4))\n",
    "    submatrices = get_submatrices(matrix)\n",
    "    amplitude_vectors_train.append(np.ravel(submatrices))\n",
    "\n",
    "    \n",
    "for i in range(len(x_test_small)):\n",
    "    matrix = np.reshape(np.ravel(x_test_small[i]),(4,4))\n",
    "    submatrices = get_submatrices(matrix)\n",
    "    amplitude_vectors_test.append(np.ravel(submatrices))\n"
   ]
  },
  {
   "cell_type": "code",
   "execution_count": 18,
   "id": "edc0c5a6",
   "metadata": {},
   "outputs": [
    {
     "data": {
      "text/plain": [
       "array([0.        , 0.        , 0.        , 0.        , 0.        ,\n",
       "       0.        , 0.03529412, 0.        , 0.        , 0.        ,\n",
       "       0.        , 0.        , 0.16470589, 0.        , 0.        ,\n",
       "       0.        ], dtype=float32)"
      ]
     },
     "execution_count": 18,
     "metadata": {},
     "output_type": "execute_result"
    },
    {
     "data": {
      "image/png": "[encoded data removed]",
      "text/plain": [
       "<Figure size 640x480 with 1 Axes>"
      ]
     },
     "metadata": {},
     "output_type": "display_data"
    }
   ],
   "source": [
    "plt.imshow(x_test_small[10,:,:,0], vmin=0, vmax=1)\n",
    "amplitude_vectors_test[10]\n",
    "\n",
    "#WORKS!"
   ]
  },
  {
   "cell_type": "code",
   "execution_count": 19,
   "id": "101675e2",
   "metadata": {},
   "outputs": [],
   "source": [
    "#x_train_small = x_train_small[0:800]\n",
    "#x_test_small = x_test_small[0:100]\n",
    "\n",
    "#We want output of 1 of -1\n",
    "y_train = 2.0*y_train - 1.0\n",
    "y_test = 2.0*y_test - 1.0\n",
    "\n",
    "#y_train = y_train[0:800]\n",
    "#y_test = y_test[0:100]\n",
    "\n",
    "qubits = cirq.GridQubit.rect(1, 6) #grid of qubit\n",
    "\n",
    "\n",
    "quantum_states_train = [amplitude_vectors_train[i] for i in range(len(x_train_small))]\n",
    "quantum_states_test = [amplitude_vectors_test[i] for i in range(len(x_test_small))]\n",
    "\n",
    "train_circuits_data = [amplitude_encoding(qubits, quantum_states_train[i]) for i in range(len(quantum_states_train))] \n",
    "test_circuits_data = [amplitude_encoding(qubits, quantum_states_test[i]) for i in range(len(quantum_states_test))] \n",
    "\n",
    "\n"
   ]
  },
  {
   "cell_type": "code",
   "execution_count": 20,
   "id": "c8ccba41",
   "metadata": {},
   "outputs": [],
   "source": [
    "import json\n",
    "\n",
    "json_circuits = [cirq.to_json(train_circuits_data[i]) for i in range(len(train_circuits_data))]\n",
    "\n",
    "# Open a file in write mode\n",
    "with open('amplitude_encoding_train_4pixelSquareChuncks_4x4img.json', 'w') as f:\n",
    "    # Use json.dump() to write the list of JSON strings to the file\n",
    "    json.dump(json_circuits, f)\n",
    "\n",
    "# Close the file\n",
    "f.close()\n",
    "\n",
    "json_circuits = [cirq.to_json(test_circuits_data[i]) for i in range(len(test_circuits_data))]\n",
    "\n",
    "# Open a file in write mode\n",
    "with open('amplitude_encoding_test_4pixelSquareChuncks_4x4img.json', 'w') as f:\n",
    "    # Use json.dump() to write the list of JSON strings to the file\n",
    "    json.dump(json_circuits, f)\n",
    "\n",
    "# Close the file\n",
    "f.close()\n",
    "\n",
    "#np.savetxt(\"y_train.txt\", y_train)\n",
    "#np.savetxt(\"y_test.txt\", y_test)"
   ]
  },
  {
   "cell_type": "code",
   "execution_count": null,
   "id": "cbb25ad1",
   "metadata": {},
   "outputs": [],
   "source": []
  }
 ],
 "metadata": {
  "kernelspec": {
   "display_name": "qcnn",
   "language": "python",
   "name": "qcnn"
  },
  "language_info": {
   "codemirror_mode": {
    "name": "ipython",
    "version": 3
   },
   "file_extension": ".py",
   "mimetype": "text/x-python",
   "name": "python",
   "nbconvert_exporter": "python",
   "pygments_lexer": "ipython3",
   "version": "3.8.10"
  }
 },
 "nbformat": 4,
 "nbformat_minor": 5
}
